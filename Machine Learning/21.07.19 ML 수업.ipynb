{
 "cells": [
  {
   "cell_type": "code",
   "execution_count": 164,
   "id": "ff58855e",
   "metadata": {
    "ExecuteTime": {
     "end_time": "2021-07-19T11:08:34.072388Z",
     "start_time": "2021-07-19T11:08:34.055434Z"
    }
   },
   "outputs": [],
   "source": [
    "import pandas as pd"
   ]
  },
  {
   "cell_type": "code",
   "execution_count": 165,
   "id": "a2a437e5",
   "metadata": {
    "ExecuteTime": {
     "end_time": "2021-07-19T11:08:34.119265Z",
     "start_time": "2021-07-19T11:08:34.077376Z"
    }
   },
   "outputs": [],
   "source": [
    "data = pd.read_csv('C:/Users/pc/Chap4.Machine Learning/고우주-3일차/09_실습데이터/data/winequalityN_imblance.csv')"
   ]
  },
  {
   "cell_type": "code",
   "execution_count": 166,
   "id": "68513b2d",
   "metadata": {
    "ExecuteTime": {
     "end_time": "2021-07-19T11:08:34.183093Z",
     "start_time": "2021-07-19T11:08:34.124249Z"
    }
   },
   "outputs": [
    {
     "data": {
      "text/html": [
       "<div>\n",
       "<style scoped>\n",
       "    .dataframe tbody tr th:only-of-type {\n",
       "        vertical-align: middle;\n",
       "    }\n",
       "\n",
       "    .dataframe tbody tr th {\n",
       "        vertical-align: top;\n",
       "    }\n",
       "\n",
       "    .dataframe thead th {\n",
       "        text-align: right;\n",
       "    }\n",
       "</style>\n",
       "<table border=\"1\" class=\"dataframe\">\n",
       "  <thead>\n",
       "    <tr style=\"text-align: right;\">\n",
       "      <th></th>\n",
       "      <th>type</th>\n",
       "      <th>fixed_acidity</th>\n",
       "      <th>volatile_acidity</th>\n",
       "      <th>citric_acid</th>\n",
       "      <th>residual_sugar</th>\n",
       "      <th>chlorides</th>\n",
       "      <th>free_sulfur_dioxide</th>\n",
       "      <th>total_sulfur_dioxide</th>\n",
       "      <th>density</th>\n",
       "      <th>pH</th>\n",
       "      <th>sulphates</th>\n",
       "      <th>alcohol</th>\n",
       "      <th>quality_range</th>\n",
       "    </tr>\n",
       "  </thead>\n",
       "  <tbody>\n",
       "    <tr>\n",
       "      <th>0</th>\n",
       "      <td>white</td>\n",
       "      <td>7.0</td>\n",
       "      <td>0.27</td>\n",
       "      <td>0.36</td>\n",
       "      <td>20.7</td>\n",
       "      <td>0.045</td>\n",
       "      <td>45.0</td>\n",
       "      <td>170.0</td>\n",
       "      <td>1.0010</td>\n",
       "      <td>3.00</td>\n",
       "      <td>0.45</td>\n",
       "      <td>8.8</td>\n",
       "      <td>1</td>\n",
       "    </tr>\n",
       "    <tr>\n",
       "      <th>1</th>\n",
       "      <td>white</td>\n",
       "      <td>6.3</td>\n",
       "      <td>0.30</td>\n",
       "      <td>0.34</td>\n",
       "      <td>1.6</td>\n",
       "      <td>0.049</td>\n",
       "      <td>14.0</td>\n",
       "      <td>132.0</td>\n",
       "      <td>0.9940</td>\n",
       "      <td>3.30</td>\n",
       "      <td>0.49</td>\n",
       "      <td>9.5</td>\n",
       "      <td>1</td>\n",
       "    </tr>\n",
       "    <tr>\n",
       "      <th>2</th>\n",
       "      <td>white</td>\n",
       "      <td>8.1</td>\n",
       "      <td>0.28</td>\n",
       "      <td>0.40</td>\n",
       "      <td>6.9</td>\n",
       "      <td>0.050</td>\n",
       "      <td>30.0</td>\n",
       "      <td>97.0</td>\n",
       "      <td>0.9951</td>\n",
       "      <td>3.26</td>\n",
       "      <td>0.44</td>\n",
       "      <td>10.1</td>\n",
       "      <td>1</td>\n",
       "    </tr>\n",
       "    <tr>\n",
       "      <th>3</th>\n",
       "      <td>white</td>\n",
       "      <td>7.2</td>\n",
       "      <td>0.23</td>\n",
       "      <td>0.32</td>\n",
       "      <td>8.5</td>\n",
       "      <td>0.058</td>\n",
       "      <td>47.0</td>\n",
       "      <td>186.0</td>\n",
       "      <td>0.9956</td>\n",
       "      <td>3.19</td>\n",
       "      <td>0.40</td>\n",
       "      <td>9.9</td>\n",
       "      <td>1</td>\n",
       "    </tr>\n",
       "    <tr>\n",
       "      <th>4</th>\n",
       "      <td>white</td>\n",
       "      <td>7.2</td>\n",
       "      <td>0.23</td>\n",
       "      <td>0.32</td>\n",
       "      <td>8.5</td>\n",
       "      <td>0.058</td>\n",
       "      <td>47.0</td>\n",
       "      <td>186.0</td>\n",
       "      <td>0.9956</td>\n",
       "      <td>3.19</td>\n",
       "      <td>0.40</td>\n",
       "      <td>9.9</td>\n",
       "      <td>1</td>\n",
       "    </tr>\n",
       "  </tbody>\n",
       "</table>\n",
       "</div>"
      ],
      "text/plain": [
       "    type  fixed_acidity  volatile_acidity  citric_acid  residual_sugar  \\\n",
       "0  white            7.0              0.27         0.36            20.7   \n",
       "1  white            6.3              0.30         0.34             1.6   \n",
       "2  white            8.1              0.28         0.40             6.9   \n",
       "3  white            7.2              0.23         0.32             8.5   \n",
       "4  white            7.2              0.23         0.32             8.5   \n",
       "\n",
       "   chlorides  free_sulfur_dioxide  total_sulfur_dioxide  density    pH  \\\n",
       "0      0.045                 45.0                 170.0   1.0010  3.00   \n",
       "1      0.049                 14.0                 132.0   0.9940  3.30   \n",
       "2      0.050                 30.0                  97.0   0.9951  3.26   \n",
       "3      0.058                 47.0                 186.0   0.9956  3.19   \n",
       "4      0.058                 47.0                 186.0   0.9956  3.19   \n",
       "\n",
       "   sulphates  alcohol  quality_range  \n",
       "0       0.45      8.8              1  \n",
       "1       0.49      9.5              1  \n",
       "2       0.44     10.1              1  \n",
       "3       0.40      9.9              1  \n",
       "4       0.40      9.9              1  "
      ]
     },
     "execution_count": 166,
     "metadata": {},
     "output_type": "execute_result"
    }
   ],
   "source": [
    "data.head(5)"
   ]
  },
  {
   "cell_type": "code",
   "execution_count": 167,
   "id": "db3f2bb3",
   "metadata": {
    "ExecuteTime": {
     "end_time": "2021-07-19T11:08:34.228969Z",
     "start_time": "2021-07-19T11:08:34.188080Z"
    }
   },
   "outputs": [
    {
     "name": "stdout",
     "output_type": "stream",
     "text": [
      "<class 'pandas.core.frame.DataFrame'>\n",
      "RangeIndex: 6497 entries, 0 to 6496\n",
      "Data columns (total 13 columns):\n",
      " #   Column                Non-Null Count  Dtype  \n",
      "---  ------                --------------  -----  \n",
      " 0   type                  6497 non-null   object \n",
      " 1   fixed_acidity         6487 non-null   float64\n",
      " 2   volatile_acidity      6489 non-null   float64\n",
      " 3   citric_acid           6494 non-null   float64\n",
      " 4   residual_sugar        6495 non-null   float64\n",
      " 5   chlorides             6495 non-null   float64\n",
      " 6   free_sulfur_dioxide   6497 non-null   float64\n",
      " 7   total_sulfur_dioxide  6497 non-null   float64\n",
      " 8   density               6497 non-null   float64\n",
      " 9   pH                    6488 non-null   float64\n",
      " 10  sulphates             6493 non-null   float64\n",
      " 11  alcohol               6497 non-null   float64\n",
      " 12  quality_range         6497 non-null   int64  \n",
      "dtypes: float64(11), int64(1), object(1)\n",
      "memory usage: 660.0+ KB\n"
     ]
    }
   ],
   "source": [
    "data.info()"
   ]
  },
  {
   "cell_type": "code",
   "execution_count": 168,
   "id": "2200d3a1",
   "metadata": {
    "ExecuteTime": {
     "end_time": "2021-07-19T11:08:34.244927Z",
     "start_time": "2021-07-19T11:08:34.232959Z"
    }
   },
   "outputs": [
    {
     "data": {
      "text/plain": [
       "(6497, 13)"
      ]
     },
     "execution_count": 168,
     "metadata": {},
     "output_type": "execute_result"
    }
   ],
   "source": [
    "data.shape"
   ]
  },
  {
   "cell_type": "code",
   "execution_count": 169,
   "id": "ac467b91",
   "metadata": {
    "ExecuteTime": {
     "end_time": "2021-07-19T11:08:46.152732Z",
     "start_time": "2021-07-19T11:08:34.248916Z"
    }
   },
   "outputs": [
    {
     "name": "stdout",
     "output_type": "stream",
     "text": [
      "Requirement already satisfied: missingno in c:\\users\\pc\\anaconda3\\lib\\site-packages (0.5.0)\n",
      "Requirement already satisfied: scipy in c:\\users\\pc\\anaconda3\\lib\\site-packages (from missingno) (1.6.2)\n",
      "Requirement already satisfied: matplotlib in c:\\users\\pc\\anaconda3\\lib\\site-packages (from missingno) (3.3.4)\n",
      "Requirement already satisfied: seaborn in c:\\users\\pc\\anaconda3\\lib\\site-packages (from missingno) (0.11.1)\n",
      "Requirement already satisfied: numpy in c:\\users\\pc\\anaconda3\\lib\\site-packages (from missingno) (1.20.1)\n",
      "Requirement already satisfied: pyparsing!=2.0.4,!=2.1.2,!=2.1.6,>=2.0.3 in c:\\users\\pc\\anaconda3\\lib\\site-packages (from matplotlib->missingno) (2.4.7)\n",
      "Requirement already satisfied: python-dateutil>=2.1 in c:\\users\\pc\\anaconda3\\lib\\site-packages (from matplotlib->missingno) (2.8.1)\n",
      "Requirement already satisfied: cycler>=0.10 in c:\\users\\pc\\anaconda3\\lib\\site-packages (from matplotlib->missingno) (0.10.0)\n",
      "Requirement already satisfied: kiwisolver>=1.0.1 in c:\\users\\pc\\anaconda3\\lib\\site-packages (from matplotlib->missingno) (1.3.1)\n",
      "Requirement already satisfied: pillow>=6.2.0 in c:\\users\\pc\\anaconda3\\lib\\site-packages (from matplotlib->missingno) (8.2.0)\n",
      "Requirement already satisfied: six in c:\\users\\pc\\anaconda3\\lib\\site-packages (from cycler>=0.10->matplotlib->missingno) (1.15.0)\n",
      "Requirement already satisfied: pandas>=0.23 in c:\\users\\pc\\anaconda3\\lib\\site-packages (from seaborn->missingno) (1.2.4)\n",
      "Requirement already satisfied: pytz>=2017.3 in c:\\users\\pc\\anaconda3\\lib\\site-packages (from pandas>=0.23->seaborn->missingno) (2021.1)\n"
     ]
    }
   ],
   "source": [
    "! pip install missingno"
   ]
  },
  {
   "cell_type": "markdown",
   "id": "e456e836",
   "metadata": {},
   "source": [
    "# 결측치 확인"
   ]
  },
  {
   "cell_type": "code",
   "execution_count": 170,
   "id": "d61e9d22",
   "metadata": {
    "ExecuteTime": {
     "end_time": "2021-07-19T11:08:47.542017Z",
     "start_time": "2021-07-19T11:08:46.156723Z"
    }
   },
   "outputs": [
    {
     "data": {
      "text/plain": [
       "<AxesSubplot:>"
      ]
     },
     "execution_count": 170,
     "metadata": {},
     "output_type": "execute_result"
    },
    {
     "data": {
      "image/png": "[encoded data removed]",
      "text/plain": [
       "<Figure size 1800x720 with 2 Axes>"
      ]
     },
     "metadata": {
      "needs_background": "light"
     },
     "output_type": "display_data"
    }
   ],
   "source": [
    "import missingno as msno\n",
    "\n",
    "msno.matrix(data)\n",
    "\n"
   ]
  },
  {
   "cell_type": "code",
   "execution_count": 171,
   "id": "c565d443",
   "metadata": {
    "ExecuteTime": {
     "end_time": "2021-07-19T11:08:47.606844Z",
     "start_time": "2021-07-19T11:08:47.548002Z"
    }
   },
   "outputs": [
    {
     "name": "stdout",
     "output_type": "stream",
     "text": [
      "type : 0\n",
      "fixed_acidity : 10\n",
      "volatile_acidity : 8\n",
      "citric_acid : 3\n",
      "residual_sugar : 2\n",
      "chlorides : 2\n",
      "free_sulfur_dioxide : 0\n",
      "total_sulfur_dioxide : 0\n",
      "density : 0\n",
      "pH : 9\n",
      "sulphates : 4\n",
      "alcohol : 0\n",
      "quality_range : 0\n"
     ]
    }
   ],
   "source": [
    "for c in data.columns:\n",
    "    print('{} : {}'.format(c, len(data.loc[pd.isnull(data[c]), c].values)))"
   ]
  },
  {
   "cell_type": "code",
   "execution_count": 172,
   "id": "e702e609",
   "metadata": {
    "ExecuteTime": {
     "end_time": "2021-07-19T11:08:47.668682Z",
     "start_time": "2021-07-19T11:08:47.612829Z"
    }
   },
   "outputs": [
    {
     "name": "stdout",
     "output_type": "stream",
     "text": [
      "<class 'pandas.core.frame.DataFrame'>\n",
      "Int64Index: 6463 entries, 0 to 6496\n",
      "Data columns (total 13 columns):\n",
      " #   Column                Non-Null Count  Dtype  \n",
      "---  ------                --------------  -----  \n",
      " 0   type                  6463 non-null   object \n",
      " 1   fixed_acidity         6463 non-null   float64\n",
      " 2   volatile_acidity      6463 non-null   float64\n",
      " 3   citric_acid           6463 non-null   float64\n",
      " 4   residual_sugar        6463 non-null   float64\n",
      " 5   chlorides             6463 non-null   float64\n",
      " 6   free_sulfur_dioxide   6463 non-null   float64\n",
      " 7   total_sulfur_dioxide  6463 non-null   float64\n",
      " 8   density               6463 non-null   float64\n",
      " 9   pH                    6463 non-null   float64\n",
      " 10  sulphates             6463 non-null   float64\n",
      " 11  alcohol               6463 non-null   float64\n",
      " 12  quality_range         6463 non-null   int64  \n",
      "dtypes: float64(11), int64(1), object(1)\n",
      "memory usage: 706.9+ KB\n"
     ]
    }
   ],
   "source": [
    "data.dropna(axis=0, inplace = True)\n",
    "data.info()"
   ]
  },
  {
   "cell_type": "code",
   "execution_count": 173,
   "id": "225de2c3",
   "metadata": {
    "ExecuteTime": {
     "end_time": "2021-07-19T11:08:48.822592Z",
     "start_time": "2021-07-19T11:08:47.678653Z"
    }
   },
   "outputs": [
    {
     "data": {
      "text/plain": [
       "<AxesSubplot:>"
      ]
     },
     "execution_count": 173,
     "metadata": {},
     "output_type": "execute_result"
    },
    {
     "data": {
      "image/png": "[encoded data removed]",
      "text/plain": [
       "<Figure size 1800x720 with 2 Axes>"
      ]
     },
     "metadata": {
      "needs_background": "light"
     },
     "output_type": "display_data"
    }
   ],
   "source": [
    "msno.matrix(data)\n"
   ]
  },
  {
   "cell_type": "code",
   "execution_count": 174,
   "id": "de35b15b",
   "metadata": {
    "ExecuteTime": {
     "end_time": "2021-07-19T11:08:48.853512Z",
     "start_time": "2021-07-19T11:08:48.826584Z"
    }
   },
   "outputs": [
    {
     "data": {
      "text/plain": [
       "Index(['type', 'fixed_acidity', 'volatile_acidity', 'citric_acid',\n",
       "       'residual_sugar', 'chlorides', 'free_sulfur_dioxide',\n",
       "       'total_sulfur_dioxide', 'density', 'pH', 'sulphates', 'alcohol',\n",
       "       'quality_range'],\n",
       "      dtype='object')"
      ]
     },
     "execution_count": 174,
     "metadata": {},
     "output_type": "execute_result"
    }
   ],
   "source": [
    "data.columns"
   ]
  },
  {
   "cell_type": "code",
   "execution_count": 175,
   "id": "d43dd966",
   "metadata": {
    "ExecuteTime": {
     "end_time": "2021-07-19T11:08:48.869470Z",
     "start_time": "2021-07-19T11:08:48.858501Z"
    }
   },
   "outputs": [],
   "source": [
    "X = data[['fixed_acidity', 'volatile_acidity', 'citric_acid',\n",
    "       'residual_sugar', 'chlorides', 'free_sulfur_dioxide',\n",
    "       'total_sulfur_dioxide', 'density', 'pH', 'sulphates', 'alcohol']]"
   ]
  },
  {
   "cell_type": "code",
   "execution_count": 176,
   "id": "cbddf160",
   "metadata": {
    "ExecuteTime": {
     "end_time": "2021-07-19T11:08:48.901381Z",
     "start_time": "2021-07-19T11:08:48.874454Z"
    }
   },
   "outputs": [
    {
     "name": "stdout",
     "output_type": "stream",
     "text": [
      "<class 'pandas.core.series.Series'>\n",
      "(6463,)\n"
     ]
    },
    {
     "data": {
      "text/plain": [
       "0    1\n",
       "1    1\n",
       "2    1\n",
       "3    1\n",
       "4    1\n",
       "Name: quality_range, dtype: int64"
      ]
     },
     "execution_count": 176,
     "metadata": {},
     "output_type": "execute_result"
    }
   ],
   "source": [
    "y = data.quality_range\n",
    "print(type(y))\n",
    "print(y.shape)\n",
    "y.head(5)"
   ]
  },
  {
   "cell_type": "code",
   "execution_count": 177,
   "id": "7b16488f",
   "metadata": {
    "ExecuteTime": {
     "end_time": "2021-07-19T11:08:48.917340Z",
     "start_time": "2021-07-19T11:08:48.907369Z"
    }
   },
   "outputs": [],
   "source": [
    "y = data['quality_range']"
   ]
  },
  {
   "cell_type": "code",
   "execution_count": 178,
   "id": "a8e39f1d",
   "metadata": {
    "ExecuteTime": {
     "end_time": "2021-07-19T11:08:48.963217Z",
     "start_time": "2021-07-19T11:08:48.926317Z"
    }
   },
   "outputs": [],
   "source": [
    "from sklearn.model_selection import train_test_split\n",
    "\n",
    "X_train, X_test, y_train, y_test = train_test_split(X,y, random_state = 123)"
   ]
  },
  {
   "cell_type": "code",
   "execution_count": 179,
   "id": "9cc23c3b",
   "metadata": {
    "ExecuteTime": {
     "end_time": "2021-07-19T11:08:48.993138Z",
     "start_time": "2021-07-19T11:08:48.977182Z"
    }
   },
   "outputs": [
    {
     "name": "stdout",
     "output_type": "stream",
     "text": [
      "(4847, 11)\n",
      "(4847,)\n",
      "(1616, 11)\n",
      "(1616,)\n"
     ]
    }
   ],
   "source": [
    "print(X_train.shape)\n",
    "print(y_train.shape)\n",
    "print(X_test.shape)\n",
    "print(y_test.shape)"
   ]
  },
  {
   "cell_type": "code",
   "execution_count": 180,
   "id": "7d599fc4",
   "metadata": {
    "ExecuteTime": {
     "end_time": "2021-07-19T11:08:49.008097Z",
     "start_time": "2021-07-19T11:08:48.996128Z"
    }
   },
   "outputs": [
    {
     "data": {
      "text/plain": [
       "sklearn.neighbors._classification.KNeighborsClassifier"
      ]
     },
     "execution_count": 180,
     "metadata": {},
     "output_type": "execute_result"
    }
   ],
   "source": [
    "# make an instance of a k-NN classifier object\n",
    "from sklearn.neighbors import KNeighborsClassifier\n",
    "\n",
    "knn = KNeighborsClassifier(n_neighbors=3)\n",
    "type(knn)"
   ]
  },
  {
   "cell_type": "code",
   "execution_count": 181,
   "id": "b4618cd0",
   "metadata": {
    "ExecuteTime": {
     "end_time": "2021-07-19T11:08:49.039015Z",
     "start_time": "2021-07-19T11:08:49.011092Z"
    }
   },
   "outputs": [
    {
     "name": "stdout",
     "output_type": "stream",
     "text": [
      "KNeighborsClassifier(n_neighbors=3)\n"
     ]
    }
   ],
   "source": [
    "print(knn)"
   ]
  },
  {
   "cell_type": "code",
   "execution_count": 182,
   "id": "705be28e",
   "metadata": {
    "ExecuteTime": {
     "end_time": "2021-07-19T11:08:49.118800Z",
     "start_time": "2021-07-19T11:08:49.044998Z"
    }
   },
   "outputs": [
    {
     "data": {
      "text/plain": [
       "KNeighborsClassifier(n_neighbors=3)"
      ]
     },
     "execution_count": 182,
     "metadata": {},
     "output_type": "execute_result"
    }
   ],
   "source": [
    "knn.fit(X_train, y_train)"
   ]
  },
  {
   "cell_type": "code",
   "execution_count": 183,
   "id": "c224ef59",
   "metadata": {
    "ExecuteTime": {
     "end_time": "2021-07-19T11:08:49.400047Z",
     "start_time": "2021-07-19T11:08:49.125781Z"
    }
   },
   "outputs": [],
   "source": [
    "y_pred = knn.predict(X_test)"
   ]
  },
  {
   "cell_type": "code",
   "execution_count": 184,
   "id": "7b6b76f0",
   "metadata": {
    "ExecuteTime": {
     "end_time": "2021-07-19T11:08:49.431963Z",
     "start_time": "2021-07-19T11:08:49.406033Z"
    }
   },
   "outputs": [
    {
     "data": {
      "text/plain": [
       "array([1, 1, 1, ..., 1, 1, 1], dtype=int64)"
      ]
     },
     "execution_count": 184,
     "metadata": {},
     "output_type": "execute_result"
    }
   ],
   "source": [
    "y_pred"
   ]
  },
  {
   "cell_type": "code",
   "execution_count": 185,
   "id": "36f4faf9",
   "metadata": {
    "ExecuteTime": {
     "end_time": "2021-07-19T11:08:49.477844Z",
     "start_time": "2021-07-19T11:08:49.437948Z"
    }
   },
   "outputs": [],
   "source": [
    "# calculate classification accuracy\n",
    "from sklearn import metrics\n",
    "\n",
    "accuracy = metrics.accuracy_score(y_test, y_pred)\n",
    "cm = metrics.confusion_matrix(y_test, y_pred)"
   ]
  },
  {
   "cell_type": "code",
   "execution_count": 186,
   "id": "32615ac7",
   "metadata": {
    "ExecuteTime": {
     "end_time": "2021-07-19T11:08:49.507763Z",
     "start_time": "2021-07-19T11:08:49.493800Z"
    }
   },
   "outputs": [
    {
     "name": "stdout",
     "output_type": "stream",
     "text": [
      "0.963490099009901\n",
      "[[   5   52]\n",
      " [   7 1552]]\n"
     ]
    }
   ],
   "source": [
    "print(accuracy)\n",
    "print(cm)"
   ]
  },
  {
   "cell_type": "code",
   "execution_count": 187,
   "id": "8ab47279",
   "metadata": {
    "ExecuteTime": {
     "end_time": "2021-07-19T11:09:07.466614Z",
     "start_time": "2021-07-19T11:09:07.420738Z"
    }
   },
   "outputs": [
    {
     "data": {
      "text/plain": [
       "array([[ 0.29330945,  0.12028617,  0.85868016, ..., -0.6150771 ,\n",
       "        -0.67644796, -0.25230235],\n",
       "       [ 0.601949  , -0.49239466,  0.29742973, ..., -0.80233159,\n",
       "         1.2512861 ,  0.91402896],\n",
       "       [ 3.53402473, -0.67619891,  0.43774233, ..., -1.80102219,\n",
       "         0.1212351 , -0.66884925],\n",
       "       ...,\n",
       "       [ 0.29330945, -0.36985849,  0.50789864, ...,  0.19635901,\n",
       "        -0.87586873, -0.08568359],\n",
       "       [-0.55544931, -0.24732233, -0.33397701, ..., -0.1157318 ,\n",
       "         0.45360304,  1.74712275],\n",
       "       [-0.16964987, -1.10507549, -0.47428961, ..., -1.92585852,\n",
       "        -0.4770272 , -1.08539614]])"
      ]
     },
     "execution_count": 187,
     "metadata": {},
     "output_type": "execute_result"
    }
   ],
   "source": [
    "from sklearn.preprocessing import StandardScaler\n",
    "\n",
    "stdsc = StandardScaler()\n",
    "X_train_std = stdsc.fit_transform(X_train)\n",
    "X_test_std = stdsc.transform(X_test)\n",
    "X_train_std"
   ]
  },
  {
   "cell_type": "code",
   "execution_count": 188,
   "id": "f86c1a17",
   "metadata": {
    "ExecuteTime": {
     "end_time": "2021-07-19T11:09:50.536744Z",
     "start_time": "2021-07-19T11:09:50.465922Z"
    }
   },
   "outputs": [
    {
     "data": {
      "text/plain": [
       "KNeighborsClassifier(n_neighbors=3)"
      ]
     },
     "execution_count": 188,
     "metadata": {},
     "output_type": "execute_result"
    }
   ],
   "source": [
    "knn.fit(X_train_std, y_train)"
   ]
  },
  {
   "cell_type": "code",
   "execution_count": 189,
   "id": "ec514065",
   "metadata": {
    "ExecuteTime": {
     "end_time": "2021-07-19T11:10:05.780728Z",
     "start_time": "2021-07-19T11:10:05.489512Z"
    }
   },
   "outputs": [],
   "source": [
    "y_pred = knn.predict(X_test_std)"
   ]
  },
  {
   "cell_type": "code",
   "execution_count": 190,
   "id": "af545e40",
   "metadata": {
    "ExecuteTime": {
     "end_time": "2021-07-19T11:10:42.556088Z",
     "start_time": "2021-07-19T11:10:42.529122Z"
    }
   },
   "outputs": [],
   "source": [
    "accuracy = metrics.accuracy_score(y_test, y_pred)\n",
    "cm = metrics.confusion_matrix(y_test, y_pred)"
   ]
  },
  {
   "cell_type": "code",
   "execution_count": 191,
   "id": "8b4a1313",
   "metadata": {
    "ExecuteTime": {
     "end_time": "2021-07-19T11:10:48.563919Z",
     "start_time": "2021-07-19T11:10:48.553945Z"
    }
   },
   "outputs": [
    {
     "name": "stdout",
     "output_type": "stream",
     "text": [
      "0.9603960396039604\n",
      "[[   7   50]\n",
      " [  14 1545]]\n"
     ]
    }
   ],
   "source": [
    "print(accuracy)\n",
    "print(cm)"
   ]
  },
  {
   "cell_type": "code",
   "execution_count": 195,
   "id": "e75ec6e1",
   "metadata": {
    "ExecuteTime": {
     "end_time": "2021-07-19T11:13:53.362883Z",
     "start_time": "2021-07-19T11:13:53.336956Z"
    }
   },
   "outputs": [],
   "source": [
    "from sklearn.preprocessing import MinMaxScaler\n",
    "\n",
    "mms = MinMaxScaler()\n",
    "X_train_norm = mms.fit_transform(X_train)\n",
    "X_test_norm = mms.transform(X_test)"
   ]
  },
  {
   "cell_type": "code",
   "execution_count": 196,
   "id": "e96cf33a",
   "metadata": {
    "ExecuteTime": {
     "end_time": "2021-07-19T11:13:56.162702Z",
     "start_time": "2021-07-19T11:13:56.145749Z"
    }
   },
   "outputs": [
    {
     "data": {
      "text/plain": [
       "array([[0.30833333, 0.224     , 0.35772358, ..., 0.33898305, 0.11931818,\n",
       "        0.31884058],\n",
       "       [0.34166667, 0.144     , 0.29268293, ..., 0.31355932, 0.28409091,\n",
       "        0.52173913],\n",
       "       [0.65833333, 0.12      , 0.30894309, ..., 0.1779661 , 0.1875    ,\n",
       "        0.24637681],\n",
       "       ...,\n",
       "       [0.30833333, 0.16      , 0.31707317, ..., 0.44915254, 0.10227273,\n",
       "        0.34782609],\n",
       "       [0.21666667, 0.176     , 0.2195122 , ..., 0.40677966, 0.21590909,\n",
       "        0.66666667],\n",
       "       [0.25833333, 0.064     , 0.20325203, ..., 0.16101695, 0.13636364,\n",
       "        0.17391304]])"
      ]
     },
     "execution_count": 196,
     "metadata": {},
     "output_type": "execute_result"
    }
   ],
   "source": [
    "X_train_norm"
   ]
  },
  {
   "cell_type": "code",
   "execution_count": 197,
   "id": "0e574231",
   "metadata": {
    "ExecuteTime": {
     "end_time": "2021-07-19T11:22:54.473044Z",
     "start_time": "2021-07-19T11:22:54.413205Z"
    }
   },
   "outputs": [
    {
     "data": {
      "text/plain": [
       "KNeighborsClassifier(n_neighbors=3)"
      ]
     },
     "execution_count": 197,
     "metadata": {},
     "output_type": "execute_result"
    }
   ],
   "source": [
    "knn.fit(X_train_norm, y_train)"
   ]
  },
  {
   "cell_type": "code",
   "execution_count": 198,
   "id": "d35beaaf",
   "metadata": {
    "ExecuteTime": {
     "end_time": "2021-07-19T11:23:57.131321Z",
     "start_time": "2021-07-19T11:23:56.737577Z"
    }
   },
   "outputs": [],
   "source": [
    "y_pred = knn.predict(X_test_std)"
   ]
  },
  {
   "cell_type": "code",
   "execution_count": 199,
   "id": "50275004",
   "metadata": {
    "ExecuteTime": {
     "end_time": "2021-07-19T11:24:05.549610Z",
     "start_time": "2021-07-19T11:24:05.524670Z"
    }
   },
   "outputs": [],
   "source": [
    "accuracy = metrics.accuracy_score(y_test, y_pred)\n",
    "cm = metrics.confusion_matrix(y_test, y_pred)"
   ]
  },
  {
   "cell_type": "code",
   "execution_count": 200,
   "id": "4def0183",
   "metadata": {
    "ExecuteTime": {
     "end_time": "2021-07-19T11:24:12.965769Z",
     "start_time": "2021-07-19T11:24:12.952805Z"
    }
   },
   "outputs": [
    {
     "name": "stdout",
     "output_type": "stream",
     "text": [
      "0.875\n",
      "[[  13   44]\n",
      " [ 158 1401]]\n"
     ]
    }
   ],
   "source": [
    "print(accuracy)\n",
    "print(cm)"
   ]
  },
  {
   "cell_type": "code",
   "execution_count": 201,
   "id": "d14c0f88",
   "metadata": {
    "ExecuteTime": {
     "end_time": "2021-07-19T11:34:06.013843Z",
     "start_time": "2021-07-19T11:34:05.967940Z"
    }
   },
   "outputs": [],
   "source": [
    "# Because all variables in iris dataset are numerical, we use Gaussian naive Bayes.\n",
    "from sklearn.naive_bayes import GaussianNB\n",
    "\n",
    "gnb = GaussianNB()\n",
    "gnb.fit(X_train, y_train)\n",
    "y_pred_2 = gnb.predict(X_test)"
   ]
  },
  {
   "cell_type": "code",
   "execution_count": 202,
   "id": "5e76f005",
   "metadata": {
    "ExecuteTime": {
     "end_time": "2021-07-19T11:34:16.757443Z",
     "start_time": "2021-07-19T11:34:16.732513Z"
    }
   },
   "outputs": [
    {
     "name": "stdout",
     "output_type": "stream",
     "text": [
      "0.9306930693069307\n",
      "[[  11   46]\n",
      " [  66 1493]]\n"
     ]
    }
   ],
   "source": [
    "accuracy = metrics.accuracy_score(y_test, y_pred_2)\n",
    "cm = metrics.confusion_matrix(y_test, y_pred_2)\n",
    "\n",
    "print(accuracy)\n",
    "print(cm)"
   ]
  },
  {
   "cell_type": "code",
   "execution_count": null,
   "id": "7e5040d4",
   "metadata": {},
   "outputs": [],
   "source": []
  }
 ],
 "metadata": {
  "kernelspec": {
   "display_name": "Python 3",
   "language": "python",
   "name": "python3"
  },
  "language_info": {
   "codemirror_mode": {
    "name": "ipython",
    "version": 3
   },
   "file_extension": ".py",
   "mimetype": "text/x-python",
   "name": "python",
   "nbconvert_exporter": "python",
   "pygments_lexer": "ipython3",
   "version": "3.8.8"
  },
  "toc": {
   "base_numbering": 1,
   "nav_menu": {},
   "number_sections": true,
   "sideBar": true,
   "skip_h1_title": false,
   "title_cell": "Table of Contents",
   "title_sidebar": "Contents",
   "toc_cell": false,
   "toc_position": {},
   "toc_section_display": true,
   "toc_window_display": false
  },
  "varInspector": {
   "cols": {
    "lenName": 16,
    "lenType": 16,
    "lenVar": 40
   },
   "kernels_config": {
    "python": {
     "delete_cmd_postfix": "",
     "delete_cmd_prefix": "del ",
     "library": "var_list.py",
     "varRefreshCmd": "print(var_dic_list())"
    },
    "r": {
     "delete_cmd_postfix": ") ",
     "delete_cmd_prefix": "rm(",
     "library": "var_list.r",
     "varRefreshCmd": "cat(var_dic_list()) "
    }
   },
   "types_to_exclude": [
    "module",
    "function",
    "builtin_function_or_method",
    "instance",
    "_Feature"
   ],
   "window_display": false
  }
 },
 "nbformat": 4,
 "nbformat_minor": 5
}
