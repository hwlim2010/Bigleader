{
 "cells": [
  {
   "cell_type": "markdown",
   "id": "a0e362e8",
   "metadata": {},
   "source": [
    "# Numpy ndarray"
   ]
  },
  {
   "cell_type": "markdown",
   "id": "6ba6fad1",
   "metadata": {},
   "source": [
    "## nbarray 생성 np.array()"
   ]
  },
  {
   "cell_type": "code",
   "execution_count": 1,
   "id": "6405b44d",
   "metadata": {
    "ExecuteTime": {
     "end_time": "2021-07-18T05:58:22.983831Z",
     "start_time": "2021-07-18T05:58:22.977847Z"
    }
   },
   "outputs": [],
   "source": [
    "import numpy as np"
   ]
  },
  {
   "cell_type": "code",
   "execution_count": 2,
   "id": "35b4edb3",
   "metadata": {
    "ExecuteTime": {
     "end_time": "2021-07-18T05:58:23.719283Z",
     "start_time": "2021-07-18T05:58:23.704249Z"
    }
   },
   "outputs": [
    {
     "name": "stdout",
     "output_type": "stream",
     "text": [
      "list1:  [1, 2, 3]\n",
      "list1 type:  <class 'list'>\n",
      "array1:  [1 2 3]\n",
      "array1 type:  <class 'numpy.ndarray'>\n"
     ]
    }
   ],
   "source": [
    "list1 = [1,2,3]\n",
    "print(\"list1: \", list1)\n",
    "print(\"list1 type: \", type(list1))\n",
    "\n",
    "array1 = np.array(list1)\n",
    "print(\"array1: \", array1)\n",
    "print(\"array1 type: \", type(array1))"
   ]
  },
  {
   "cell_type": "markdown",
   "id": "9cd476e4",
   "metadata": {},
   "source": [
    "## nbarray의 형태와 차원"
   ]
  },
  {
   "cell_type": "code",
   "execution_count": 3,
   "id": "460d5774",
   "metadata": {
    "ExecuteTime": {
     "end_time": "2021-07-18T05:58:24.937323Z",
     "start_time": "2021-07-18T05:58:24.915299Z"
    }
   },
   "outputs": [
    {
     "name": "stdout",
     "output_type": "stream",
     "text": [
      "array1 type:  <class 'numpy.ndarray'>\n",
      "array1 array 형태:  (3,)\n",
      "array1 type:  <class 'numpy.ndarray'>\n",
      "array1 array 형태:  (2, 3)\n",
      "array3 type: <class 'numpy.ndarray'>\n",
      "array3 array 형태: (1, 3)\n"
     ]
    }
   ],
   "source": [
    "array = np.array([1, 2 ,3])\n",
    "print('array1 type: ', type(array1))\n",
    "print('array1 array 형태: ', array1.shape)\n",
    "\n",
    "array2 = np.array([[1,2,3],\n",
    "                 [2,3,4]])\n",
    "\n",
    "print('array1 type: ', type(array2))\n",
    "print('array1 array 형태: ', array2.shape)\n",
    "\n",
    "array3 = np.array([[1,2,3]])\n",
    "print('array3 type:',type(array3))\n",
    "print('array3 array 형태:',array3.shape)"
   ]
  },
  {
   "cell_type": "markdown",
   "id": "2cc65076",
   "metadata": {},
   "source": [
    "## nbarray 데이터 값 타입"
   ]
  },
  {
   "cell_type": "code",
   "execution_count": 4,
   "id": "4c83f7fc",
   "metadata": {
    "ExecuteTime": {
     "end_time": "2021-07-18T05:58:25.489657Z",
     "start_time": "2021-07-18T05:58:25.479685Z"
    }
   },
   "outputs": [
    {
     "name": "stdout",
     "output_type": "stream",
     "text": [
      "<class 'list'>\n",
      "<class 'numpy.ndarray'>\n",
      "[1 2 3] int32\n"
     ]
    }
   ],
   "source": [
    "list1 = [1,2,3]\n",
    "print(type(list1))\n",
    "array1 = np.array(list1)\n",
    "\n",
    "print(type(array1))\n",
    "print(array1, array.dtype)"
   ]
  },
  {
   "cell_type": "code",
   "execution_count": 5,
   "id": "b10b51f0",
   "metadata": {
    "ExecuteTime": {
     "end_time": "2021-07-18T05:58:25.679560Z",
     "start_time": "2021-07-18T05:58:25.658632Z"
    }
   },
   "outputs": [
    {
     "name": "stdout",
     "output_type": "stream",
     "text": [
      "['1' '2' 'test'] <U11\n",
      "[1. 2. 3.] float64\n"
     ]
    }
   ],
   "source": [
    "list2 = [1,2,'test']\n",
    "array2=np.array(list2)\n",
    "print(array2, array2.dtype)\n",
    "\n",
    "list3=[1,2,3.0]\n",
    "array3=np.array(list3)\n",
    "print(array3, array3.dtype)"
   ]
  },
  {
   "cell_type": "markdown",
   "id": "c3aec69e",
   "metadata": {},
   "source": [
    "## astype()을 통한 타입 변환"
   ]
  },
  {
   "cell_type": "code",
   "execution_count": 6,
   "id": "e3cb29e6",
   "metadata": {
    "ExecuteTime": {
     "end_time": "2021-07-18T05:58:25.989148Z",
     "start_time": "2021-07-18T05:58:25.974998Z"
    }
   },
   "outputs": [
    {
     "name": "stdout",
     "output_type": "stream",
     "text": [
      "[1. 2. 3.] float64\n",
      "[1 2 3] int32\n",
      "[1 2 3] int32\n"
     ]
    }
   ],
   "source": [
    "array_int = np.array([1, 2, 3])\n",
    "array_float = array_int.astype('float64')\n",
    "print(array_float, array_float.dtype)\n",
    "\n",
    "array_int1= array_float.astype('int32')\n",
    "print(array_int1, array_int1.dtype)\n",
    "\n",
    "array_float1 = np.array([1.1, 2.1, 3.1])\n",
    "array_int2= array_float1.astype('int32')\n",
    "print(array_int2, array_int2.dtype)\n"
   ]
  },
  {
   "cell_type": "markdown",
   "id": "e6926db3",
   "metadata": {},
   "source": [
    "## nbarray에서 axis 기반의 연산함수 수행"
   ]
  },
  {
   "cell_type": "code",
   "execution_count": 7,
   "id": "605e5283",
   "metadata": {
    "ExecuteTime": {
     "end_time": "2021-07-18T05:58:26.317370Z",
     "start_time": "2021-07-18T05:58:26.304406Z"
    }
   },
   "outputs": [
    {
     "name": "stdout",
     "output_type": "stream",
     "text": [
      "15\n",
      "[3 5 7]\n",
      "[6 9]\n"
     ]
    }
   ],
   "source": [
    "array2 = np.array([[1,2,3],\n",
    "                  [2,3,4]])\n",
    "\n",
    "print(array2.sum())\n",
    "print(array2.sum(axis=0))\n",
    "print(array2.sum(axis=1))"
   ]
  },
  {
   "cell_type": "markdown",
   "id": "35924b0b",
   "metadata": {},
   "source": [
    "## ndarray를 편리하게 생성하기 - arange, zeros, ones"
   ]
  },
  {
   "cell_type": "code",
   "execution_count": 8,
   "id": "b4080b56",
   "metadata": {
    "ExecuteTime": {
     "end_time": "2021-07-18T05:58:26.628755Z",
     "start_time": "2021-07-18T05:58:26.615401Z"
    }
   },
   "outputs": [
    {
     "name": "stdout",
     "output_type": "stream",
     "text": [
      "[0 1 2 3 4 5 6 7 8 9]\n",
      "int32 (10,)\n"
     ]
    }
   ],
   "source": [
    "sequence_array = np.arange(10)\n",
    "print(sequence_array)\n",
    "print(sequence_array.dtype, sequence_array.shape)"
   ]
  },
  {
   "cell_type": "code",
   "execution_count": 9,
   "id": "e3a4c398",
   "metadata": {
    "ExecuteTime": {
     "end_time": "2021-07-18T05:58:26.801683Z",
     "start_time": "2021-07-18T05:58:26.778746Z"
    }
   },
   "outputs": [
    {
     "name": "stdout",
     "output_type": "stream",
     "text": [
      "[[0 0]\n",
      " [0 0]\n",
      " [0 0]]\n",
      "int32 (3, 2)\n",
      "[[1. 1.]\n",
      " [1. 1.]\n",
      " [1. 1.]]\n",
      "float64 (3, 2)\n"
     ]
    }
   ],
   "source": [
    "zero_array = np.zeros((3,2),dtype='int32')\n",
    "print(zero_array)\n",
    "print(zero_array.dtype, zero_array.shape)\n",
    "\n",
    "one_array = np.ones((3,2))\n",
    "print(one_array)\n",
    "print(one_array.dtype, one_array.shape)"
   ]
  },
  {
   "cell_type": "markdown",
   "id": "de941dbc",
   "metadata": {},
   "source": [
    "## ndarray의 shape를 변경하는 reshape()"
   ]
  },
  {
   "cell_type": "code",
   "execution_count": 10,
   "id": "09e97350",
   "metadata": {
    "ExecuteTime": {
     "end_time": "2021-07-18T05:58:34.270269Z",
     "start_time": "2021-07-18T05:58:34.254682Z"
    }
   },
   "outputs": [
    {
     "name": "stdout",
     "output_type": "stream",
     "text": [
      "array1:\n",
      " [0 1 2 3 4 5 6 7 8 9]\n",
      "array2:\n",
      " [[0 1 2 3 4]\n",
      " [5 6 7 8 9]]\n",
      "array3:\n",
      " [[0 1]\n",
      " [2 3]\n",
      " [4 5]\n",
      " [6 7]\n",
      " [8 9]]\n"
     ]
    }
   ],
   "source": [
    "array1 = np.arange(10)\n",
    "print('array1:\\n', array1)\n",
    "\n",
    "array2 = array1.reshape(2,5)\n",
    "print('array2:\\n',array2)\n",
    "\n",
    "array3 = array1.reshape(5,2)\n",
    "print('array3:\\n',array3)"
   ]
  },
  {
   "cell_type": "code",
   "execution_count": null,
   "id": "a199daff",
   "metadata": {
    "ExecuteTime": {
     "end_time": "2021-07-18T05:56:41.089741Z",
     "start_time": "2021-07-18T05:56:41.066772Z"
    }
   },
   "outputs": [],
   "source": [
    "# 변환할 수 있는 shape구조를 입력하면 오류 발생.\n",
    "array1.reshape(4,3)"
   ]
  },
  {
   "cell_type": "markdown",
   "id": "df04547a",
   "metadata": {},
   "source": [
    "reshape()에 -1 인자값을 부여하여 특정 차원으로 고정된 가변적인 ndarray형태 변환"
   ]
  },
  {
   "cell_type": "code",
   "execution_count": 11,
   "id": "6adc43eb",
   "metadata": {
    "ExecuteTime": {
     "end_time": "2021-07-18T05:58:37.743641Z",
     "start_time": "2021-07-18T05:58:37.717711Z"
    }
   },
   "outputs": [
    {
     "name": "stdout",
     "output_type": "stream",
     "text": [
      "[0 1 2 3 4 5 6 7 8 9]\n",
      "array2 shape: (2, 5)\n",
      "array2:\n",
      " [[0 1 2 3 4]\n",
      " [5 6 7 8 9]]\n",
      "array3 shape: (5, 2)\n",
      "array3:\n",
      " [[0 1]\n",
      " [2 3]\n",
      " [4 5]\n",
      " [6 7]\n",
      " [8 9]]\n"
     ]
    }
   ],
   "source": [
    "array1 = np.arange(10)\n",
    "print(array1)\n",
    "\n",
    "#컬럼 axis 크기는 5에 고정하고 로우 axis크기를 이에 맞춰 자동으로 변환. 즉 2x5 형태로 변환 \n",
    "array2 = array1.reshape(-1,5)\n",
    "print('array2 shape:',array2.shape)\n",
    "print('array2:\\n', array2)\n",
    "\n",
    "#로우 axis 크기는 5로 고정하고 컬럼 axis크기는 이에 맞춰 자동으로 변환. 즉 5x2 형태로 변환 \n",
    "array3 = array1.reshape(5,-1)\n",
    "print('array3 shape:',array3.shape)\n",
    "print('array3:\\n', array3)"
   ]
  },
  {
   "cell_type": "code",
   "execution_count": 12,
   "id": "38e1741a",
   "metadata": {
    "ExecuteTime": {
     "end_time": "2021-07-18T05:58:37.965319Z",
     "start_time": "2021-07-18T05:58:37.955346Z"
    }
   },
   "outputs": [
    {
     "name": "stdout",
     "output_type": "stream",
     "text": [
      "array2d_1 shape: (5, 1)\n",
      "array2d_1:\n",
      " [[0]\n",
      " [1]\n",
      " [2]\n",
      " [3]\n",
      " [4]]\n",
      "array1d shape: (5,)\n",
      "array1d:\n",
      " [0 1 2 3 4]\n"
     ]
    }
   ],
   "source": [
    "# reshape()는 (-1, 1), (-1,)와 같은 형태로 주로 사용됨.\n",
    "# 1차원 ndarray를 2차원으로 또는 2차원 ndarray를 1차원으로 변환 시 사용. \n",
    "array1 = np.arange(5)\n",
    "\n",
    "# 1차원 ndarray를 2차원으로 변환하되, 컬럼axis크기는 반드시 1이여야 함. \n",
    "array2d_1 = array1.reshape(-1, 1)\n",
    "print(\"array2d_1 shape:\", array2d_1.shape)\n",
    "print(\"array2d_1:\\n\",array2d_1)\n",
    "\n",
    "# 2차원 ndarray를 1차원으로 변환 \n",
    "array1d = array2d_1.reshape(-1,)\n",
    "print(\"array1d shape:\", array1d.shape)\n",
    "print(\"array1d:\\n\",array1d)"
   ]
  },
  {
   "cell_type": "code",
   "execution_count": null,
   "id": "6f12bbe3",
   "metadata": {
    "ExecuteTime": {
     "end_time": "2021-07-18T05:57:44.134440Z",
     "start_time": "2021-07-18T05:57:44.115765Z"
    }
   },
   "outputs": [],
   "source": [
    "# -1 을 적용하여도 변환이 불가능한 형태로의 변환을 요구할 경우 오류 발생.\n",
    "array1 = np.arange(10)\n",
    "array4 = array1.reshape(-1,4)"
   ]
  },
  {
   "cell_type": "code",
   "execution_count": null,
   "id": "5fbfccb1",
   "metadata": {
    "ExecuteTime": {
     "end_time": "2021-07-18T05:57:51.700291Z",
     "start_time": "2021-07-18T05:57:51.677476Z"
    }
   },
   "outputs": [],
   "source": [
    "# 반드시 -1 값은 1개의 인자만 입력해야 함. \n",
    "array1.reshape(-1, -1)"
   ]
  }
 ],
 "metadata": {
  "kernelspec": {
   "display_name": "Python 3",
   "language": "python",
   "name": "python3"
  },
  "language_info": {
   "codemirror_mode": {
    "name": "ipython",
    "version": 3
   },
   "file_extension": ".py",
   "mimetype": "text/x-python",
   "name": "python",
   "nbconvert_exporter": "python",
   "pygments_lexer": "ipython3",
   "version": "3.8.8"
  },
  "toc": {
   "base_numbering": 1,
   "nav_menu": {},
   "number_sections": true,
   "sideBar": true,
   "skip_h1_title": false,
   "title_cell": "Table of Contents",
   "title_sidebar": "Contents",
   "toc_cell": false,
   "toc_position": {},
   "toc_section_display": true,
   "toc_window_display": false
  },
  "varInspector": {
   "cols": {
    "lenName": 16,
    "lenType": 16,
    "lenVar": 40
   },
   "kernels_config": {
    "python": {
     "delete_cmd_postfix": "",
     "delete_cmd_prefix": "del ",
     "library": "var_list.py",
     "varRefreshCmd": "print(var_dic_list())"
    },
    "r": {
     "delete_cmd_postfix": ") ",
     "delete_cmd_prefix": "rm(",
     "library": "var_list.r",
     "varRefreshCmd": "cat(var_dic_list()) "
    }
   },
   "types_to_exclude": [
    "module",
    "function",
    "builtin_function_or_method",
    "instance",
    "_Feature"
   ],
   "window_display": false
  }
 },
 "nbformat": 4,
 "nbformat_minor": 5
}
