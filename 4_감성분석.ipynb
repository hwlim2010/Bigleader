{
  "nbformat": 4,
  "nbformat_minor": 0,
  "metadata": {
    "colab": {
      "name": "4_감성분석.ipynb",
      "provenance": [],
      "collapsed_sections": [],
      "authorship_tag": "ABX9TyOBNTY8h7yK+aX3qPIMtCMS",
      "include_colab_link": true
    },
    "kernelspec": {
      "name": "python3",
      "display_name": "Python 3"
    },
    "language_info": {
      "name": "python"
    }
  },
  "cells": [
    {
      "cell_type": "markdown",
      "metadata": {
        "id": "view-in-github",
        "colab_type": "text"
      },
      "source": [
        "<a href=\"https://colab.research.google.com/github/hwlim2010/Bigleader/blob/main/4_%EA%B0%90%EC%84%B1%EB%B6%84%EC%84%9D.ipynb\" target=\"_parent\"><img src=\"https://colab.research.google.com/assets/colab-badge.svg\" alt=\"Open In Colab\"/></a>"
      ]
    },
    {
      "cell_type": "code",
      "metadata": {
        "colab": {
          "base_uri": "https://localhost:8080/"
        },
        "id": "WRecPQf8yRLX",
        "outputId": "1a05b0f3-1b58-4582-a497-f5e01b3252db"
      },
      "source": [
        "from google.colab import drive\n",
        "drive.mount('/content/gdrive')"
      ],
      "execution_count": null,
      "outputs": [
        {
          "output_type": "stream",
          "text": [
            "Mounted at /content/gdrive\n"
          ],
          "name": "stdout"
        }
      ]
    },
    {
      "cell_type": "code",
      "metadata": {
        "colab": {
          "base_uri": "https://localhost:8080/"
        },
        "id": "oO0KCw5X91a0",
        "outputId": "e4de8090-adca-46ac-ad2b-067811a6e994"
      },
      "source": [
        "# 형태소분석기 관련 설치\n",
        "!apt-get update\n",
        "!apt-get install g++ openjdk-8-jdk\n",
        "\n",
        "!pip install JPype1\n",
        "!pip install rhinoMorph"
      ],
      "execution_count": null,
      "outputs": [
        {
          "output_type": "stream",
          "text": [
            "Get:1 https://cloud.r-project.org/bin/linux/ubuntu bionic-cran40/ InRelease [3,626 B]\n",
            "Ign:2 https://developer.download.nvidia.com/compute/cuda/repos/ubuntu1804/x86_64  InRelease\n",
            "Get:3 http://security.ubuntu.com/ubuntu bionic-security InRelease [88.7 kB]\n",
            "Ign:4 https://developer.download.nvidia.com/compute/machine-learning/repos/ubuntu1804/x86_64  InRelease\n",
            "Get:5 https://developer.download.nvidia.com/compute/cuda/repos/ubuntu1804/x86_64  Release [697 B]\n",
            "Hit:6 https://developer.download.nvidia.com/compute/machine-learning/repos/ubuntu1804/x86_64  Release\n",
            "Hit:7 http://archive.ubuntu.com/ubuntu bionic InRelease\n",
            "Get:8 http://ppa.launchpad.net/c2d4u.team/c2d4u4.0+/ubuntu bionic InRelease [15.9 kB]\n",
            "Get:9 https://developer.download.nvidia.com/compute/cuda/repos/ubuntu1804/x86_64  Release.gpg [836 B]\n",
            "Get:11 http://archive.ubuntu.com/ubuntu bionic-updates InRelease [88.7 kB]\n",
            "Hit:12 http://ppa.launchpad.net/cran/libgit2/ubuntu bionic InRelease\n",
            "Ign:13 https://developer.download.nvidia.com/compute/cuda/repos/ubuntu1804/x86_64  Packages\n",
            "Get:13 https://developer.download.nvidia.com/compute/cuda/repos/ubuntu1804/x86_64  Packages [679 kB]\n",
            "Get:14 http://archive.ubuntu.com/ubuntu bionic-backports InRelease [74.6 kB]\n",
            "Hit:15 http://ppa.launchpad.net/deadsnakes/ppa/ubuntu bionic InRelease\n",
            "Get:16 http://security.ubuntu.com/ubuntu bionic-security/main amd64 Packages [2,257 kB]\n",
            "Get:17 http://ppa.launchpad.net/graphics-drivers/ppa/ubuntu bionic InRelease [21.3 kB]\n",
            "Get:18 http://archive.ubuntu.com/ubuntu bionic-updates/universe amd64 Packages [2,190 kB]\n",
            "Get:19 http://ppa.launchpad.net/c2d4u.team/c2d4u4.0+/ubuntu bionic/main Sources [1,785 kB]\n",
            "Get:20 http://security.ubuntu.com/ubuntu bionic-security/multiverse amd64 Packages [31.5 kB]\n",
            "Get:21 http://security.ubuntu.com/ubuntu bionic-security/universe amd64 Packages [1,420 kB]\n",
            "Get:22 http://security.ubuntu.com/ubuntu bionic-security/restricted amd64 Packages [500 kB]\n",
            "Get:23 http://archive.ubuntu.com/ubuntu bionic-updates/restricted amd64 Packages [533 kB]\n",
            "Get:24 http://archive.ubuntu.com/ubuntu bionic-updates/multiverse amd64 Packages [38.7 kB]\n",
            "Get:25 http://archive.ubuntu.com/ubuntu bionic-updates/main amd64 Packages [2,693 kB]\n",
            "Get:26 http://ppa.launchpad.net/c2d4u.team/c2d4u4.0+/ubuntu bionic/main amd64 Packages [913 kB]\n",
            "Get:27 http://ppa.launchpad.net/graphics-drivers/ppa/ubuntu bionic/main amd64 Packages [44.1 kB]\n",
            "Fetched 13.4 MB in 7s (1,853 kB/s)\n",
            "Reading package lists... Done\n",
            "Reading package lists... Done\n",
            "Building dependency tree       \n",
            "Reading state information... Done\n",
            "g++ is already the newest version (4:7.4.0-1ubuntu2.3).\n",
            "g++ set to manually installed.\n",
            "The following additional packages will be installed:\n",
            "  fonts-dejavu-core fonts-dejavu-extra libatk-wrapper-java\n",
            "  libatk-wrapper-java-jni libgail-common libgail18 libgtk2.0-0 libgtk2.0-bin\n",
            "  libgtk2.0-common libxxf86dga1 openjdk-8-jdk-headless openjdk-8-jre\n",
            "  openjdk-8-jre-headless x11-utils\n",
            "Suggested packages:\n",
            "  gvfs openjdk-8-demo openjdk-8-source visualvm icedtea-8-plugin libnss-mdns\n",
            "  fonts-ipafont-gothic fonts-ipafont-mincho fonts-wqy-microhei\n",
            "  fonts-wqy-zenhei fonts-indic mesa-utils\n",
            "The following NEW packages will be installed:\n",
            "  fonts-dejavu-core fonts-dejavu-extra libatk-wrapper-java\n",
            "  libatk-wrapper-java-jni libgail-common libgail18 libgtk2.0-0 libgtk2.0-bin\n",
            "  libgtk2.0-common libxxf86dga1 openjdk-8-jdk openjdk-8-jdk-headless\n",
            "  openjdk-8-jre openjdk-8-jre-headless x11-utils\n",
            "0 upgraded, 15 newly installed, 0 to remove and 80 not upgraded.\n",
            "Need to get 43.5 MB of archives.\n",
            "After this operation, 163 MB of additional disk space will be used.\n",
            "Get:1 http://archive.ubuntu.com/ubuntu bionic/main amd64 libxxf86dga1 amd64 2:1.1.4-1 [13.7 kB]\n",
            "Get:2 http://archive.ubuntu.com/ubuntu bionic/main amd64 fonts-dejavu-core all 2.37-1 [1,041 kB]\n",
            "Get:3 http://archive.ubuntu.com/ubuntu bionic/main amd64 fonts-dejavu-extra all 2.37-1 [1,953 kB]\n",
            "Get:4 http://archive.ubuntu.com/ubuntu bionic/main amd64 x11-utils amd64 7.7+3build1 [196 kB]\n",
            "Get:5 http://archive.ubuntu.com/ubuntu bionic/main amd64 libatk-wrapper-java all 0.33.3-20ubuntu0.1 [34.7 kB]\n",
            "Get:6 http://archive.ubuntu.com/ubuntu bionic/main amd64 libatk-wrapper-java-jni amd64 0.33.3-20ubuntu0.1 [28.3 kB]\n",
            "Get:7 http://archive.ubuntu.com/ubuntu bionic/main amd64 libgtk2.0-common all 2.24.32-1ubuntu1 [125 kB]\n",
            "Get:8 http://archive.ubuntu.com/ubuntu bionic/main amd64 libgtk2.0-0 amd64 2.24.32-1ubuntu1 [1,769 kB]\n",
            "Get:9 http://archive.ubuntu.com/ubuntu bionic/main amd64 libgail18 amd64 2.24.32-1ubuntu1 [14.2 kB]\n",
            "Get:10 http://archive.ubuntu.com/ubuntu bionic/main amd64 libgail-common amd64 2.24.32-1ubuntu1 [112 kB]\n",
            "Get:11 http://archive.ubuntu.com/ubuntu bionic/main amd64 libgtk2.0-bin amd64 2.24.32-1ubuntu1 [7,536 B]\n",
            "Get:12 http://archive.ubuntu.com/ubuntu bionic-updates/universe amd64 openjdk-8-jre-headless amd64 8u292-b10-0ubuntu1~18.04 [28.2 MB]\n",
            "Get:13 http://archive.ubuntu.com/ubuntu bionic-updates/universe amd64 openjdk-8-jre amd64 8u292-b10-0ubuntu1~18.04 [69.6 kB]\n",
            "Get:14 http://archive.ubuntu.com/ubuntu bionic-updates/universe amd64 openjdk-8-jdk-headless amd64 8u292-b10-0ubuntu1~18.04 [8,284 kB]\n",
            "Get:15 http://archive.ubuntu.com/ubuntu bionic-updates/universe amd64 openjdk-8-jdk amd64 8u292-b10-0ubuntu1~18.04 [1,644 kB]\n",
            "Fetched 43.5 MB in 6s (7,556 kB/s)\n",
            "Selecting previously unselected package libxxf86dga1:amd64.\n",
            "(Reading database ... 160837 files and directories currently installed.)\n",
            "Preparing to unpack .../00-libxxf86dga1_2%3a1.1.4-1_amd64.deb ...\n",
            "Unpacking libxxf86dga1:amd64 (2:1.1.4-1) ...\n",
            "Selecting previously unselected package fonts-dejavu-core.\n",
            "Preparing to unpack .../01-fonts-dejavu-core_2.37-1_all.deb ...\n",
            "Unpacking fonts-dejavu-core (2.37-1) ...\n",
            "Selecting previously unselected package fonts-dejavu-extra.\n",
            "Preparing to unpack .../02-fonts-dejavu-extra_2.37-1_all.deb ...\n",
            "Unpacking fonts-dejavu-extra (2.37-1) ...\n",
            "Selecting previously unselected package x11-utils.\n",
            "Preparing to unpack .../03-x11-utils_7.7+3build1_amd64.deb ...\n",
            "Unpacking x11-utils (7.7+3build1) ...\n",
            "Selecting previously unselected package libatk-wrapper-java.\n",
            "Preparing to unpack .../04-libatk-wrapper-java_0.33.3-20ubuntu0.1_all.deb ...\n",
            "Unpacking libatk-wrapper-java (0.33.3-20ubuntu0.1) ...\n",
            "Selecting previously unselected package libatk-wrapper-java-jni:amd64.\n",
            "Preparing to unpack .../05-libatk-wrapper-java-jni_0.33.3-20ubuntu0.1_amd64.deb ...\n",
            "Unpacking libatk-wrapper-java-jni:amd64 (0.33.3-20ubuntu0.1) ...\n",
            "Selecting previously unselected package libgtk2.0-common.\n",
            "Preparing to unpack .../06-libgtk2.0-common_2.24.32-1ubuntu1_all.deb ...\n",
            "Unpacking libgtk2.0-common (2.24.32-1ubuntu1) ...\n",
            "Selecting previously unselected package libgtk2.0-0:amd64.\n",
            "Preparing to unpack .../07-libgtk2.0-0_2.24.32-1ubuntu1_amd64.deb ...\n",
            "Unpacking libgtk2.0-0:amd64 (2.24.32-1ubuntu1) ...\n",
            "Selecting previously unselected package libgail18:amd64.\n",
            "Preparing to unpack .../08-libgail18_2.24.32-1ubuntu1_amd64.deb ...\n",
            "Unpacking libgail18:amd64 (2.24.32-1ubuntu1) ...\n",
            "Selecting previously unselected package libgail-common:amd64.\n",
            "Preparing to unpack .../09-libgail-common_2.24.32-1ubuntu1_amd64.deb ...\n",
            "Unpacking libgail-common:amd64 (2.24.32-1ubuntu1) ...\n",
            "Selecting previously unselected package libgtk2.0-bin.\n",
            "Preparing to unpack .../10-libgtk2.0-bin_2.24.32-1ubuntu1_amd64.deb ...\n",
            "Unpacking libgtk2.0-bin (2.24.32-1ubuntu1) ...\n",
            "Selecting previously unselected package openjdk-8-jre-headless:amd64.\n",
            "Preparing to unpack .../11-openjdk-8-jre-headless_8u292-b10-0ubuntu1~18.04_amd64.deb ...\n",
            "Unpacking openjdk-8-jre-headless:amd64 (8u292-b10-0ubuntu1~18.04) ...\n",
            "Selecting previously unselected package openjdk-8-jre:amd64.\n",
            "Preparing to unpack .../12-openjdk-8-jre_8u292-b10-0ubuntu1~18.04_amd64.deb ...\n",
            "Unpacking openjdk-8-jre:amd64 (8u292-b10-0ubuntu1~18.04) ...\n",
            "Selecting previously unselected package openjdk-8-jdk-headless:amd64.\n",
            "Preparing to unpack .../13-openjdk-8-jdk-headless_8u292-b10-0ubuntu1~18.04_amd64.deb ...\n",
            "Unpacking openjdk-8-jdk-headless:amd64 (8u292-b10-0ubuntu1~18.04) ...\n",
            "Selecting previously unselected package openjdk-8-jdk:amd64.\n",
            "Preparing to unpack .../14-openjdk-8-jdk_8u292-b10-0ubuntu1~18.04_amd64.deb ...\n",
            "Unpacking openjdk-8-jdk:amd64 (8u292-b10-0ubuntu1~18.04) ...\n",
            "Setting up libgtk2.0-common (2.24.32-1ubuntu1) ...\n",
            "Setting up fonts-dejavu-core (2.37-1) ...\n",
            "Setting up libxxf86dga1:amd64 (2:1.1.4-1) ...\n",
            "Setting up fonts-dejavu-extra (2.37-1) ...\n",
            "Setting up openjdk-8-jre-headless:amd64 (8u292-b10-0ubuntu1~18.04) ...\n",
            "update-alternatives: using /usr/lib/jvm/java-8-openjdk-amd64/jre/bin/orbd to provide /usr/bin/orbd (orbd) in auto mode\n",
            "update-alternatives: using /usr/lib/jvm/java-8-openjdk-amd64/jre/bin/servertool to provide /usr/bin/servertool (servertool) in auto mode\n",
            "update-alternatives: using /usr/lib/jvm/java-8-openjdk-amd64/jre/bin/tnameserv to provide /usr/bin/tnameserv (tnameserv) in auto mode\n",
            "Setting up libgtk2.0-0:amd64 (2.24.32-1ubuntu1) ...\n",
            "Setting up libgail18:amd64 (2.24.32-1ubuntu1) ...\n",
            "Setting up openjdk-8-jdk-headless:amd64 (8u292-b10-0ubuntu1~18.04) ...\n",
            "update-alternatives: using /usr/lib/jvm/java-8-openjdk-amd64/bin/idlj to provide /usr/bin/idlj (idlj) in auto mode\n",
            "update-alternatives: using /usr/lib/jvm/java-8-openjdk-amd64/bin/wsimport to provide /usr/bin/wsimport (wsimport) in auto mode\n",
            "update-alternatives: using /usr/lib/jvm/java-8-openjdk-amd64/bin/jsadebugd to provide /usr/bin/jsadebugd (jsadebugd) in auto mode\n",
            "update-alternatives: using /usr/lib/jvm/java-8-openjdk-amd64/bin/native2ascii to provide /usr/bin/native2ascii (native2ascii) in auto mode\n",
            "update-alternatives: using /usr/lib/jvm/java-8-openjdk-amd64/bin/javah to provide /usr/bin/javah (javah) in auto mode\n",
            "update-alternatives: using /usr/lib/jvm/java-8-openjdk-amd64/bin/hsdb to provide /usr/bin/hsdb (hsdb) in auto mode\n",
            "update-alternatives: using /usr/lib/jvm/java-8-openjdk-amd64/bin/clhsdb to provide /usr/bin/clhsdb (clhsdb) in auto mode\n",
            "update-alternatives: using /usr/lib/jvm/java-8-openjdk-amd64/bin/extcheck to provide /usr/bin/extcheck (extcheck) in auto mode\n",
            "update-alternatives: using /usr/lib/jvm/java-8-openjdk-amd64/bin/schemagen to provide /usr/bin/schemagen (schemagen) in auto mode\n",
            "update-alternatives: using /usr/lib/jvm/java-8-openjdk-amd64/bin/xjc to provide /usr/bin/xjc (xjc) in auto mode\n",
            "update-alternatives: using /usr/lib/jvm/java-8-openjdk-amd64/bin/jhat to provide /usr/bin/jhat (jhat) in auto mode\n",
            "update-alternatives: using /usr/lib/jvm/java-8-openjdk-amd64/bin/wsgen to provide /usr/bin/wsgen (wsgen) in auto mode\n",
            "Setting up x11-utils (7.7+3build1) ...\n",
            "Setting up libgail-common:amd64 (2.24.32-1ubuntu1) ...\n",
            "Setting up libatk-wrapper-java (0.33.3-20ubuntu0.1) ...\n",
            "Setting up libgtk2.0-bin (2.24.32-1ubuntu1) ...\n",
            "Setting up libatk-wrapper-java-jni:amd64 (0.33.3-20ubuntu0.1) ...\n",
            "Setting up openjdk-8-jre:amd64 (8u292-b10-0ubuntu1~18.04) ...\n",
            "update-alternatives: using /usr/lib/jvm/java-8-openjdk-amd64/jre/bin/policytool to provide /usr/bin/policytool (policytool) in auto mode\n",
            "Setting up openjdk-8-jdk:amd64 (8u292-b10-0ubuntu1~18.04) ...\n",
            "update-alternatives: using /usr/lib/jvm/java-8-openjdk-amd64/bin/appletviewer to provide /usr/bin/appletviewer (appletviewer) in auto mode\n",
            "update-alternatives: using /usr/lib/jvm/java-8-openjdk-amd64/bin/jconsole to provide /usr/bin/jconsole (jconsole) in auto mode\n",
            "Processing triggers for man-db (2.8.3-2ubuntu0.1) ...\n",
            "Processing triggers for hicolor-icon-theme (0.17-2) ...\n",
            "Processing triggers for fontconfig (2.12.6-0ubuntu2) ...\n",
            "Processing triggers for mime-support (3.60ubuntu1) ...\n",
            "Processing triggers for libc-bin (2.27-3ubuntu1.2) ...\n",
            "/sbin/ldconfig.real: /usr/local/lib/python3.7/dist-packages/ideep4py/lib/libmkldnn.so.0 is not a symbolic link\n",
            "\n",
            "Collecting JPype1\n",
            "  Downloading JPype1-1.3.0-cp37-cp37m-manylinux_2_5_x86_64.manylinux1_x86_64.whl (448 kB)\n",
            "\u001b[K     |████████████████████████████████| 448 kB 4.3 MB/s \n",
            "\u001b[?25hRequirement already satisfied: typing-extensions in /usr/local/lib/python3.7/dist-packages (from JPype1) (3.7.4.3)\n",
            "Installing collected packages: JPype1\n",
            "Successfully installed JPype1-1.3.0\n",
            "Collecting rhinoMorph\n",
            "  Downloading rhinoMorph-3.8.0.0-py3-none-any.whl (3.0 MB)\n",
            "\u001b[K     |████████████████████████████████| 3.0 MB 4.2 MB/s \n",
            "\u001b[?25hInstalling collected packages: rhinoMorph\n",
            "Successfully installed rhinoMorph-3.8.0.0\n"
          ],
          "name": "stdout"
        }
      ]
    },
    {
      "cell_type": "code",
      "metadata": {
        "colab": {
          "base_uri": "https://localhost:8080/"
        },
        "id": "qZDYjkuM-Ixy",
        "outputId": "31aca53b-d6ee-4ee6-d1b2-b623aeb20e23"
      },
      "source": [
        "# 경로 변경\n",
        "%cd /content/gdrive/My\\ Drive/pytest/"
      ],
      "execution_count": null,
      "outputs": [
        {
          "output_type": "stream",
          "text": [
            "/content/gdrive/My Drive/pytest\n"
          ],
          "name": "stdout"
        }
      ]
    },
    {
      "cell_type": "code",
      "metadata": {
        "colab": {
          "base_uri": "https://localhost:8080/"
        },
        "id": "k5Z9p9ig-iSw",
        "outputId": "240a6259-e6be-49f1-f514-cd7aa14b1e2e"
      },
      "source": [
        "!ls"
      ],
      "execution_count": null,
      "outputs": [
        {
          "output_type": "stream",
          "text": [
            "네이버뉴스-생활문화_다중  negative.txt\t       similarity\n",
            "aclImdb_v1_small\t  newfile2.txt\t       test.csv\n",
            "alice.png\t\t  newfile.csv\t       윤동주시.txt\n",
            "fra-eng\t\t\t  positive.txt\t       김소월시.txt\n",
            "iris.csv\t\t  pytest_position.png  wiki_test.txt\n",
            "kor-eng\t\t\t  ratings_morphed.txt  word2vec\n",
            "김소월시_morphed.txt\t  ratings_small.txt\n",
            "윤동주시_morphed.txt\t  ratings.txt\n"
          ],
          "name": "stdout"
        }
      ]
    },
    {
      "cell_type": "code",
      "metadata": {
        "id": "KuLb-dJn-P7x"
      },
      "source": [
        "## 데이터 로딩\n",
        "def read_data(filename, encoding='cp949'): # 읽기 함수 정의\n",
        "  with open(filename, 'r', encoding=encoding) as f:\n",
        "    data = [line.split('\\t') for line in f.read().splitlines()]\n",
        "    data = data[1:] # txt 파일의 헤더(id document label)는 제외하기\n",
        "  return data\n",
        "\n",
        "def write_data(data, filename, encoding='cp949'): # 쓰기 함수도 정의\n",
        "  with open(filename, 'w', encoding=encoding) as f:\n",
        "    f.write(data)\n",
        "\n",
        "#data = read_data('/content/gdrive/My Drive/pytest/ratings_small.txt', encoding='cp949')\n",
        "data = read_data('ratings.txt', encoding='cp949')  # 전체파일은 ratings.txt"
      ],
      "execution_count": null,
      "outputs": []
    },
    {
      "cell_type": "code",
      "metadata": {
        "colab": {
          "base_uri": "https://localhost:8080/"
        },
        "id": "iRMsdBo4AN-Z",
        "outputId": "a3cb8638-d4dd-453d-d6f1-ce5c29b3a671"
      },
      "source": [
        "## 전체 데이터 형태소 분석\n",
        "import rhinoMorph\n",
        "rn = rhinoMorph.startRhino()\n",
        "\n",
        "morphed_data = ''\n",
        "for data_each in data:\n",
        "    morphed_data_each = rhinoMorph.onlyMorph_list(rn, data_each[1],\n",
        "        pos=['NNG', 'NNP', 'VV', 'VA', 'XR', 'IC', 'MM', 'MAG', 'MAJ'])\n",
        "    joined_data_each = ' '.join(morphed_data_each) # 문자열을 하나로 연결\n",
        "    if joined_data_each: # 내용이 있는 경우만 저장하게 함\n",
        "        morphed_data += data_each[0]+\"\\t\"+joined_data_each+\"\\t\"+data_each[2]+\"\\n\"\n",
        "\n",
        "# 형태소 분석된 파일 저장\n",
        "write_data(morphed_data, 'ratings_morphed.txt', encoding='cp949')"
      ],
      "execution_count": null,
      "outputs": [
        {
          "output_type": "stream",
          "text": [
            "filepath:  /usr/local/lib/python3.7/dist-packages\n",
            "classpath:  /usr/local/lib/python3.7/dist-packages/rhinoMorph/lib/rhino.jar\n",
            "RHINO started!\n"
          ],
          "name": "stdout"
        }
      ]
    },
    {
      "cell_type": "code",
      "metadata": {
        "colab": {
          "base_uri": "https://localhost:8080/"
        },
        "id": "uwnt3Z_VA3zm",
        "outputId": "7209cdde-6548-45a3-fda3-9ba7fbb5f1c7"
      },
      "source": [
        "## 형태분석된 데이터 로딩\n",
        "data = read_data('ratings_morphed.txt' , encoding='cp949')\n",
        "print(len(data))\n",
        "print(len(data[0]))\n",
        "print(data[0])"
      ],
      "execution_count": null,
      "outputs": [
        {
          "output_type": "stream",
          "text": [
            "197513\n",
            "3\n",
            "['8132799', '디자인 배우 학생 외국 디자이너 일구 전통 통하 발전 문화 산업 부럽 사실 우리나라 그 어렵 시절 끝 열정 지키 노라노 같 전통 있 같 사람 꿈 꾸 이루 나가 있 감사', '1']\n"
          ],
          "name": "stdout"
        }
      ]
    },
    {
      "cell_type": "code",
      "metadata": {
        "colab": {
          "base_uri": "https://localhost:8080/"
        },
        "id": "nL9aSy0YBOcT",
        "outputId": "cd32b02a-46dc-47d4-ab94-27f96737d697"
      },
      "source": [
        "## 감성사전 읽기\n",
        "data_id = [line[0] for line in data] # 데이터 id\n",
        "data_text = [line[1] for line in data] # 데이터 본문\n",
        "data_senti = [line[2] for line in data] # 데이터 긍부정 부분\n",
        "\n",
        "positive = read_data('positive.txt') # 긍정 감정사전 읽기\n",
        "negative = read_data('negative.txt') # 부정 감정사전 읽기\n",
        "\n",
        "print(\"positive:\",positive)\n",
        "print(\"negative:\",negative)\n",
        "\n",
        "pos_found = []\n",
        "neg_found = []"
      ],
      "execution_count": null,
      "outputs": [
        {
          "output_type": "stream",
          "text": [
            "positive: [['가능'], ['가능하'], ['가락'], ['가치'], ['간단하'], ['간단히'], ['간직하'], ['간호'], ['간호하'], ['감동'], ['감사'], ['감사하'], ['감싸'], ['감탄하'], ['강화'], ['강화되'], ['강화하'], ['갚'], ['개방되'], ['개방하'], ['개선'], ['개선되'], ['개선하'], ['개혁'], ['거침없이'], ['건강'], ['건장하'], ['걸맞'], ['격려'], ['결심'], ['결심하'], ['결혼'], ['결혼하'], ['경감'], ['경감되'], ['공언'], ['공언하'], ['공정하'], ['관대하'], ['관리되'], ['굉장하'], ['구원'], ['굳'], ['귀엽'], ['귀하'], ['균형'], ['그치'], ['극복'], ['극복하'], ['근절되'], ['근절하'], ['긁'], ['긍정'], ['기념'], ['기대'], ['기부하'], ['기쁘'], ['기쁨'], ['기사도'], ['기적'], ['기회'], ['깨끗하'], ['꼼꼼하'], ['꽃'], ['꿀'], ['끌리'], ['나아가'], ['낙'], ['낫'], ['넓'], ['넓히'], ['노력'], ['노력하'], ['논리'], ['논의'], ['논의하'], ['놀랍'], ['놀이'], ['늘리'], ['다이아몬드'], ['다정'], ['다행히'], ['단장'], ['달래'], ['달콤하'], ['대단'], ['대담하'], ['대화'], ['덕'], ['도덕'], ['도전'], ['독립'], ['독립되'], ['돌보'], ['돕'], ['동의'], ['동의하'], ['되살리'], ['드라이브'], ['따르'], ['뚜렷하'], ['뛰어나'], ['띄우'], ['마법'], ['만족'], ['만족하'], ['맑'], ['맑음'], ['맛'], ['맛있'], ['맞'], ['맞추'], ['매력'], ['멋지'], ['메이저'], ['면밀히'], ['명백히'], ['명시되'], ['명예'], ['명확하'], ['모범'], ['무료'], ['미'], ['미모'], ['미소'], ['믿'], ['바람직하'], ['바르'], ['반짝'], ['반짝이'], ['받아들이'], ['발견'], ['발견되'], ['발견하'], ['발의'], ['발의하'], ['발전'], ['발전하'], ['발휘하'], ['밝'], ['밝히'], ['벌'], ['벗어나'], ['베풀'], ['보강'], ['보완'], ['보완하'], ['보조'], ['보호'], ['복구되'], ['복구하'], ['본격'], ['부자'], ['분명'], ['분명히'], ['분배'], ['분배하'], ['빛'], ['빛나'], ['빠르'], ['사랑'], ['사랑하'], ['사려'], ['사로잡'], ['살피'], ['상의하'], ['상호'], ['새롭'], ['생명'], ['생생'], ['생생하'], ['생존'], ['샷'], ['선량하'], ['선명하'], ['선의'], ['설명'], ['설명하'], ['성공'], ['성공하'], ['성숙되'], ['성실하'], ['성장'], ['성장하'], ['세련되'], ['섹시'], ['소개'], ['소개되'], ['소개하'], ['소탕하'], ['소화하'], ['손쉽'], ['솔직하'], ['수락'], ['수용하'], ['수월하'], ['수익'], ['순조'], ['쉽'], ['스타'], ['승리'], ['승인하'], ['시식하'], ['시정되'], ['신뢰'], ['신뢰하'], ['신선하'], ['신속하'], ['신용'], ['신중하'], ['신청'], ['신청하'], ['실증하'], ['실현'], ['싸'], ['싸게'], ['쏘'], ['아름답'], ['안심'], ['안심되'], ['안심하'], ['안전'], ['안전하'], ['안정'], ['안정되'], ['애인'], ['애정'], ['약속'], ['약속하'], ['얌전하'], ['양보'], ['양보하'], ['얻'], ['엄격하'], ['에너지'], ['에티켓'], ['여신'], ['연락'], ['연락하'], ['연습'], ['연애'], ['연애하'], ['연인'], ['열심히'], ['예쁘'], ['예의'], ['온건'], ['옳'], ['완전히'], ['완화'], ['완화되'], ['완화하'], ['용서하'], ['우수'], ['우호'], ['운'], ['웃'], ['웃음'], ['원하'], ['위대하'], ['위안'], ['위엄'], ['유력'], ['유력하'], ['유연'], ['유연하'], ['유용하'], ['유쾌하'], ['유행하'], ['응하'], ['이루'], ['이해'], ['이해하'], ['익숙하'], ['인가'], ['인기'], ['인정'], ['인정하'], ['인증'], ['일관하'], ['일조하'], ['일찍'], ['입증'], ['입증되'], ['입증하'], ['자'], ['자발'], ['자비'], ['자선'], ['자세하'], ['자유'], ['자유로이'], ['잘'], ['장수'], ['재미있'], ['적극'], ['적당하'], ['적법'], ['적응'], ['적응하'], ['적절'], ['적정'], ['적정하'], ['적합하'], ['절감'], ['절감하'], ['절약하'], ['젊은'], ['젊음'], ['점검'], ['점검하'], ['정당'], ['정당하'], ['정밀'], ['정상'], ['정의'], ['정착'], ['정착되'], ['정착하'], ['정확하'], ['정확히'], ['제거하'], ['제휴'], ['제휴하'], ['조심하'], ['조언'], ['조언하'], ['조용'], ['조용히'], ['조율하'], ['조절'], ['조절하'], ['조정'], ['조정되'], ['조정하'], ['조치'], ['조치하'], ['조화'], ['존경'], ['존경하'], ['좋'], ['좋아하'], ['주어지'], ['준법'], ['준수'], ['중요'], ['중요하'], ['즐겁'], ['즐기'], ['증대'], ['증대되'], ['증명하'], ['지성'], ['지키'], ['지혜'], ['진실'], ['진심'], ['집중'], ['집중되'], ['집중하'], ['차선'], ['찬성'], ['찬성하'], ['참'], ['채우'], ['챔피언'], ['천사'], ['철저하'], ['철저히'], ['철학'], ['청결'], ['청하'], ['초월하'], ['촉진하'], ['최고'], ['최대한'], ['최상'], ['최선'], ['최적'], ['추구하'], ['추억'], ['추천'], ['추천하'], ['축적하'], ['축제'], ['축하하'], ['충분'], ['충분하'], ['충분히'], ['충성'], ['취득'], ['취득하'], ['취지'], ['취하'], ['친구'], ['친절'], ['친절하'], ['칭찬'], ['칭찬하'], ['캡'], ['크'], ['클래스'], ['키스'], ['타당'], ['탁월하'], ['탑'], ['태우'], ['통과'], ['통과되'], ['통과하'], ['통하'], ['통행'], ['특별'], ['특별하'], ['팁'], ['파티'], ['팔리'], ['편리'], ['편리하'], ['편의'], ['포인트'], ['풀'], ['품'], ['프리미엄'], ['할인'], ['할인되'], ['할인하'], ['합리'], ['합법'], ['합의'], ['합의하'], ['해제'], ['해제되'], ['해제하'], ['핵심'], ['행복'], ['행복하'], ['행진'], ['향'], ['허가'], ['허락'], ['허락하'], ['허용'], ['허용되'], ['허용하'], ['혁신'], ['협력'], ['협력하'], ['협약'], ['호위'], ['화려하'], ['확립'], ['확실하'], ['확실히'], ['확인'], ['확인되'], ['확인하'], ['환영'], ['환영하'], ['활약하'], ['횡재하'], ['후끈'], ['휴식'], ['흥겹']]\n",
            "negative: [['가로막'], ['가로지르'], ['가리'], ['가명'], ['가시'], ['가열'], ['가열되'], ['간섭하'], ['간신히'], ['갇히'], ['감수하'], ['감시'], ['감옥'], ['감추'], ['갑자기'], ['강간'], ['강도'], ['강력'], ['강력하'], ['강요'], ['강요하'], ['강제'], ['강제하'], ['개'], ['거꾸로'], ['거부'], ['거부하'], ['거세'], ['거절'], ['거절하'], ['거짓말'], ['거칠'], ['걱정'], ['걱정거리'], ['걱정되'], ['걱정하'], ['겁'], ['격렬하'], ['격분'], ['견디'], ['견인'], ['견인차'], ['견인하'], ['견적'], ['경계'], ['경계하'], ['경고'], ['경쟁'], ['경쟁하'], ['고민'], ['고민하'], ['고발'], ['고발하'], ['고백'], ['고백하'], ['고생'], ['고생하'], ['고소'], ['고의'], ['고장'], ['고집'], ['고통'], ['곤란하'], ['공격'], ['공격하'], ['공포'], ['과다'], ['과다하'], ['과도하'], ['과시하'], ['과실'], ['과잉'], ['과장'], ['관계없'], ['관료'], ['괴롭'], ['괴롭히'], ['교도소'], ['구걸하'], ['구기'], ['구르'], ['구리'], ['구멍'], ['구속'], ['구속하'], ['구타'], ['구토'], ['구형'], ['구형하'], ['굴욕'], ['귀머거리'], ['귀찮'], ['균'], ['그늘'], ['그만두'], ['그치'], ['극성'], ['금지'], ['금지되'], ['금지하'], ['급등'], ['급사'], ['급증'], ['급증하'], ['급하'], ['기생하'], ['기소'], ['기소되'], ['기소하'], ['기웃거리'], ['기침'], ['기피'], ['기피하'], ['긴급'], ['긴장되'], ['까'], ['깨'], ['깨지'], ['꼬리'], ['꼬이'], ['꼬집'], ['꼴'], ['끊어지'], ['끌어내'], ['끼어들'], ['나쁘'], ['난색'], ['난처하'], ['난폭'], ['난해하'], ['납치'], ['낭비'], ['낭비되'], ['낭비하'], ['내뿜'], ['내시'], ['내전'], ['내쫓'], ['냄새'], ['냉담하'], ['너무'], ['너무하'], ['넘'], ['년'], ['노골'], ['노릇'], ['노예'], ['노출'], ['노출되'], ['노출하'], ['논쟁'], ['놓치'], ['누락'], ['누락되'], ['느리'], ['느슨하'], ['늦'], ['다치'], ['단정'], ['달아나'], ['담'], ['당장'], ['당황'], ['당황하'], ['대가리'], ['대포'], ['더럽'], ['덧없'], ['도망치'], ['도박'], ['도주'], ['독설'], ['독점'], ['독점하'], ['돌연'], ['돌진하'], ['동정'], ['동정하'], ['돼지'], ['되풀이'], ['되풀이되'], ['뒹굴'], ['드러나'], ['때리'], ['떠들'], ['떨'], ['떨리'], ['떨어뜨리'], ['떨어지'], ['떼'], ['뚱뚱하'], ['마'], ['마비'], ['마약'], ['마찰'], ['막'], ['막히'], ['만취'], ['만취하'], ['말다툼'], ['말장난'], ['망치'], ['맞'], ['맞서'], ['매섭'], ['맵'], ['먼지'], ['멀'], ['멋대로'], ['멍청이'], ['명백하'], ['모르'], ['모순'], ['모자라'], ['모호하'], ['목격되'], ['목격하'], ['몰아내'], ['못'], ['무겁'], ['무기'], ['무너지'], ['무력'], ['무리'], ['무리수'], ['무모'], ['무색하'], ['무섭'], ['무시하'], ['무심하'], ['무용지물'], ['무효'], ['문제'], ['물리'], ['미치'], ['미치광이'], ['민감하'], ['밀리'], ['밀집'], ['밀집되'], ['밀착'], ['밀항'], ['바위'], ['바이러스'], ['박'], ['박대'], ['박탈하'], ['반대'], ['반대하'], ['반박'], ['반발'], ['반발하'], ['반칙'], ['반항하'], ['발각'], ['발각되'], ['발뺌하'], ['밟'], ['방전되'], ['방해'], ['방해하'], ['방화'], ['방황'], ['방황하'], ['배상'], ['배상하'], ['배제하'], ['백혈병'], ['뱀'], ['뱉'], ['버리'], ['버티'], ['번거롭'], ['벌'], ['벌점'], ['범죄'], ['범죄자'], ['범퍼'], ['벼락'], ['변명'], ['변칙'], ['변형'], ['별'], ['병원'], ['보상'], ['보상하'], ['보험'], ['복잡'], ['복잡하'], ['부과'], ['부과되'], ['부과하'], ['부담'], ['부담하'], ['부당'], ['부리'], ['부메랑'], ['부상'], ['부위'], ['부인'], ['부인하'], ['부재'], ['부정'], ['부정하'], ['부족'], ['부족하'], ['부풀'], ['분개하'], ['분노'], ['분노하'], ['불'], ['불만'], ['불법'], ['불신'], ['불쌍하'], ['불안'], ['불안하'], ['불쾌하'], ['불편'], ['불편하'], ['불평하'], ['붕괴'], ['비꼬'], ['비난'], ['비난하'], ['비밀'], ['비싸'], ['비웃'], ['비참하'], ['비판'], ['비판하'], ['빈번하'], ['빗발'], ['빚'], ['빠지'], ['빼'], ['빼앗'], ['뻗'], ['뼈'], ['사각'], ['사고'], ['사기'], ['사라지'], ['사망'], ['사망하'], ['사범'], ['사법'], ['사선'], ['사치'], ['사태'], ['사형'], ['살인'], ['상'], ['상대'], ['상실'], ['상하'], ['상해'], ['새'], ['새끼'], ['새치기'], ['새치기하'], ['생계'], ['서두르'], ['서리'], ['설치'], ['섬뜩'], ['소극'], ['소동'], ['소름'], ['소리치'], ['소문'], ['소송'], ['속이'], ['손해'], ['수상하'], ['수치'], ['숨'], ['숨기'], ['스트레스'], ['슬프'], ['슬픔'], ['습격'], ['습격하'], ['시정'], ['식'], ['신경'], ['신경질'], ['신음'], ['실망'], ['실수'], ['실정'], ['실패'], ['실패하'], ['싫'], ['싫어하'], ['심하'], ['싸늘'], ['싸늘하'], ['싸우'], ['싸움'], ['썩'], ['쓰레기'], ['아슬아슬하'], ['아집'], ['아프'], ['아픔'], ['안일하'], ['암'], ['압박'], ['압박하'], ['야기'], ['야기하'], ['약점'], ['얇'], ['얕'], ['어긋나'], ['어기'], ['어둡'], ['어렵'], ['어리둥절하'], ['어리석'], ['어지럽'], ['억울하'], ['억제'], ['억제하'], ['언'], ['얼룩'], ['얽히'], ['엄청나'], ['없애'], ['엉뚱하'], ['엉터리'], ['여드름'], ['여의'], ['여파'], ['연기'], ['열대'], ['영장'], ['예외'], ['오류'], ['오만'], ['오염'], ['오해'], ['온상'], ['올가미'], ['왜곡'], ['외롭'], ['외치'], ['요구'], ['요구되'], ['요구하'], ['요금'], ['욕설'], ['욕심'], ['용의자'], ['우기'], ['우려'], ['우려되'], ['우려하'], ['우습'], ['울'], ['원인'], ['위기'], ['위로'], ['위로하'], ['위반'], ['위반되'], ['위반자'], ['위반하'], ['위배되'], ['위법'], ['위축되'], ['위험'], ['위험하'], ['위협'], ['위협하'], ['유괴'], ['유기'], ['유기하'], ['유인'], ['유인하'], ['유죄'], ['유출하'], ['유포'], ['은밀'], ['은퇴'], ['음주'], ['의심'], ['의심되'], ['의심하'], ['의존'], ['의존하'], ['이상'], ['이상하'], ['이탈'], ['이탈하'], ['인사불성'], ['인상'], ['인상되'], ['인상하'], ['인위'], ['잃'], ['입원'], ['입원하'], ['잊'], ['자르'], ['자살'], ['자포자기'], ['작'], ['잔혹'], ['잘못'], ['재생'], ['재앙'], ['저리'], ['저조하'], ['저지르'], ['저하'], ['저항'], ['적'], ['전쟁'], ['전치'], ['전혀'], ['절'], ['절단'], ['절도'], ['점령하'], ['접촉'], ['접촉하'], ['정체'], ['정체되'], ['젖'], ['제멋대로'], ['제압하'], ['제외'], ['제외되'], ['제외하'], ['조금'], ['조작'], ['조작하'], ['좁'], ['좌절'], ['좌초되'], ['죄'], ['주저'], ['주저하'], ['죽'], ['죽음'], ['죽이'], ['줄'], ['줄이'], ['중단'], ['중단되'], ['중단하'], ['중상'], ['중지하'], ['지각'], ['지각하'], ['지나치'], ['지독하'], ['지배'], ['지연되'], ['지옥'], ['지적'], ['지적되'], ['지적하'], ['지진'], ['지체'], ['지체되'], ['지치'], ['진술'], ['진술하'], ['질리'], ['질책'], ['짓'], ['징계'], ['쫓'], ['쫓아내'], ['찌푸리'], ['차갑'], ['차단'], ['차단되'], ['차단하'], ['차라리'], ['차별'], ['참'], ['책임'], ['처벌'], ['처벌되'], ['처벌하'], ['처분'], ['처분되'], ['처분하'], ['철수하'], ['체포'], ['체포하'], ['초래'], ['초래되'], ['초래하'], ['총알'], ['축소하'], ['춥'], ['충격'], ['충돌'], ['충돌하'], ['취소되'], ['취소하'], ['취하'], ['치'], ['치기'], ['치료'], ['치열하'], ['침수되'], ['침체'], ['침해'], ['침해되'], ['침해하'], ['타격'], ['타도'], ['탈수'], ['탐욕'], ['터뜨리'], ['터무니없'], ['터지'], ['텅'], ['테러'], ['토하'], ['퇴직'], ['퇴직하'], ['투쟁'], ['파괴'], ['파산'], ['파손'], ['파손되'], ['파열'], ['파장'], ['퍼붓'], ['편파'], ['폐쇄'], ['폐지'], ['폐지하'], ['포기하'], ['포르노'], ['포화'], ['폭력'], ['폭로'], ['폭로되'], ['폭발'], ['폭탄'], ['폭풍'], ['프레스'], ['피곤하'], ['필요'], ['필요하'], ['핑계'], ['하위'], ['함정'], ['항의'], ['항의하'], ['해고되'], ['해이'], ['해치'], ['허수아비'], ['허위'], ['허탕'], ['헤매'], ['호통'], ['혼돈'], ['혼란'], ['혼잡'], ['혼잡하'], ['화'], ['화나'], ['화내'], ['화약'], ['화재'], ['환각'], ['환불'], ['환불하'], ['환상'], ['환자'], ['횡포'], ['후회'], ['훔치'], ['휘'], ['휘두르'], ['흉터'], ['흐리'], ['흔적'], ['흘리'], ['흠'], ['흥청망청'], ['흩어지'], ['힘들']]\n"
          ],
          "name": "stdout"
        }
      ]
    },
    {
      "cell_type": "code",
      "metadata": {
        "colab": {
          "base_uri": "https://localhost:8080/"
        },
        "id": "3OIul3i8COZC",
        "outputId": "183f212f-2064-4eb9-9565-571a78f56360"
      },
      "source": [
        "## 감정단어 파악\n",
        "\n",
        "def cntWordInLine(data, senti):\n",
        "    senti_found = []\n",
        "    for onedata in data:\n",
        "        oneline_word = onedata.split(' ') # 한 줄의 데이터를 공백 단위로 분리하여 리스트로 저장\n",
        "        senti_temp = 0 # 그 줄에서 발견된 감정단어의 수를 담는 변수\n",
        "        for sentiword in senti: # 감정사전의 어휘\n",
        "            if sentiword[0] in oneline_word: # sentiword[0] 하여 리스트 원소를 문자열로 추출\n",
        "                senti_temp += 1 # 현재의 감정단어와 일치하면 숫자를 하나 올려 줌 (중복X)\n",
        "        senti_found.append(senti_temp) # 현재의 줄에서 찾은 감성단어의 숫자를 해당 위치에 저장\n",
        "    return senti_found\n",
        "\n",
        "data_senti_poscnt = cntWordInLine(data_text, positive) # 발견된 긍정 단어의 숫자 파악\n",
        "data_senti_negcnt = cntWordInLine(data_text, negative) # 발견된 부정 단어의 숫자 파악\n",
        "\n",
        "print(data_senti_poscnt[:20])\n",
        "print(data_senti_negcnt[:20])"
      ],
      "execution_count": null,
      "outputs": [
        {
          "output_type": "stream",
          "text": [
            "[5, 1, 0, 0, 2, 1, 0, 0, 0, 1, 1, 1, 0, 1, 2, 0, 1, 0, 1, 0]\n",
            "[1, 0, 1, 0, 0, 0, 1, 0, 0, 0, 0, 0, 0, 0, 1, 0, 0, 1, 0, 1]\n"
          ],
          "name": "stdout"
        }
      ]
    },
    {
      "cell_type": "code",
      "metadata": {
        "id": "M8-OubztDG0O"
      },
      "source": [
        "## 감정점수 계산\n",
        "# Pandas 데이터프레임으로 저장\n",
        "import pandas as pd\n",
        "newdata = pd.DataFrame({'id':data_id, 'text':data_text, 'original':data_senti,\n",
        "                      'pos':data_senti_poscnt, 'neg':data_senti_negcnt})\n",
        "senti_score = newdata['pos'] - newdata['neg'] # 긍정개수에서 부정개수를 뺌\n",
        "newdata['senti_score'] = senti_score # 그 수를 senti_score 컬럼에 저장\n",
        "\n",
        "newdata.loc[newdata.senti_score > 0, 'new'] = 1 # 새로운 긍부정 기호\n",
        "newdata.loc[newdata.senti_score <= 0, 'new'] = 0 # 새로운 긍부정 기호\n",
        "\n",
        "# 처음에 기록된 긍부정과 새로 계산된 긍부정이 같은지 여부를 matched 컬럼에 저장\n",
        "# original 컬럼은 문자로 되어 있으므로 숫자로 변환 뒤 비교\n",
        "newdata.loc[pd.to_numeric(newdata.original) == newdata.new, 'matched'] = 'True'\n",
        "newdata.loc[pd.to_numeric(newdata.original) != newdata.new, 'matched'] = 'False'"
      ],
      "execution_count": null,
      "outputs": []
    },
    {
      "cell_type": "code",
      "metadata": {
        "colab": {
          "base_uri": "https://localhost:8080/"
        },
        "id": "yFGxqAxjJxq3",
        "outputId": "7dc3afaa-0bb7-4491-f058-e5e0be85d141"
      },
      "source": [
        "## 원점수와 비교및 저장\n",
        "score = newdata.matched.str.count('True').sum() / (newdata.matched.str.count('True').sum() + newdata.matched.str.count('False').sum()) * 100\n",
        "print(score)\n",
        "\n",
        "newdata.to_csv('newfile.csv', sep=',', encoding='cp949', index=False) # csv 저장\n",
        "newdata.to_csv('newfile2.txt', sep='\\t', encoding='cp949', index=False) # 또는 txt 저장"
      ],
      "execution_count": null,
      "outputs": [
        {
          "output_type": "stream",
          "text": [
            "62.54221241133495\n"
          ],
          "name": "stdout"
        }
      ]
    },
    {
      "cell_type": "code",
      "metadata": {
        "id": "S3HUVwSqLe24"
      },
      "source": [
        "## 시그모이드 점수 계산\n",
        "import math\n",
        "def sigmoid(x):\n",
        "  return 1 / (1 + math.exp(-x))\n",
        "  \n",
        "newdata['sigmoid'] = newdata.senti_score.apply(sigmoid)"
      ],
      "execution_count": null,
      "outputs": []
    },
    {
      "cell_type": "code",
      "metadata": {
        "colab": {
          "base_uri": "https://localhost:8080/",
          "height": 438
        },
        "id": "uq1Q-MwcOnoj",
        "outputId": "82d2f59b-7397-47e9-d447-ff1f65351fd2"
      },
      "source": [
        "newdata.head()"
      ],
      "execution_count": null,
      "outputs": [
        {
          "output_type": "execute_result",
          "data": {
            "text/html": [
              "<div>\n",
              "<style scoped>\n",
              "    .dataframe tbody tr th:only-of-type {\n",
              "        vertical-align: middle;\n",
              "    }\n",
              "\n",
              "    .dataframe tbody tr th {\n",
              "        vertical-align: top;\n",
              "    }\n",
              "\n",
              "    .dataframe thead th {\n",
              "        text-align: right;\n",
              "    }\n",
              "</style>\n",
              "<table border=\"1\" class=\"dataframe\">\n",
              "  <thead>\n",
              "    <tr style=\"text-align: right;\">\n",
              "      <th></th>\n",
              "      <th>id</th>\n",
              "      <th>text</th>\n",
              "      <th>original</th>\n",
              "      <th>pos</th>\n",
              "      <th>neg</th>\n",
              "      <th>senti_score</th>\n",
              "      <th>new</th>\n",
              "      <th>matched</th>\n",
              "      <th>sigmoid</th>\n",
              "    </tr>\n",
              "  </thead>\n",
              "  <tbody>\n",
              "    <tr>\n",
              "      <th>0</th>\n",
              "      <td>8132799</td>\n",
              "      <td>디자인 배우 학생 외국 디자이너 일구 전통 통하 발전 문화 산업 부럽 사실 우리나라...</td>\n",
              "      <td>1</td>\n",
              "      <td>5</td>\n",
              "      <td>1</td>\n",
              "      <td>4</td>\n",
              "      <td>1.0</td>\n",
              "      <td>True</td>\n",
              "      <td>0.982014</td>\n",
              "    </tr>\n",
              "    <tr>\n",
              "      <th>1</th>\n",
              "      <td>4655635</td>\n",
              "      <td>폴리스스토리 시리즈 뉴 없 최고</td>\n",
              "      <td>1</td>\n",
              "      <td>1</td>\n",
              "      <td>0</td>\n",
              "      <td>1</td>\n",
              "      <td>1.0</td>\n",
              "      <td>True</td>\n",
              "      <td>0.731059</td>\n",
              "    </tr>\n",
              "    <tr>\n",
              "      <th>2</th>\n",
              "      <td>9251303</td>\n",
              "      <td>와 연기 진짜 쩔 지루 생각하 몰입 그래 이런 진짜 영화</td>\n",
              "      <td>1</td>\n",
              "      <td>0</td>\n",
              "      <td>1</td>\n",
              "      <td>-1</td>\n",
              "      <td>0.0</td>\n",
              "      <td>False</td>\n",
              "      <td>0.268941</td>\n",
              "    </tr>\n",
              "    <tr>\n",
              "      <th>3</th>\n",
              "      <td>10067386</td>\n",
              "      <td>안개 자욱 하 밤하늘 뜨 초승달 같 영화</td>\n",
              "      <td>1</td>\n",
              "      <td>0</td>\n",
              "      <td>0</td>\n",
              "      <td>0</td>\n",
              "      <td>0.0</td>\n",
              "      <td>False</td>\n",
              "      <td>0.500000</td>\n",
              "    </tr>\n",
              "    <tr>\n",
              "      <th>4</th>\n",
              "      <td>2190435</td>\n",
              "      <td>사랑 해보 사람 처음 끝 웃 있 영화</td>\n",
              "      <td>1</td>\n",
              "      <td>2</td>\n",
              "      <td>0</td>\n",
              "      <td>2</td>\n",
              "      <td>1.0</td>\n",
              "      <td>True</td>\n",
              "      <td>0.880797</td>\n",
              "    </tr>\n",
              "  </tbody>\n",
              "</table>\n",
              "</div>"
            ],
            "text/plain": [
              "         id  ...   sigmoid\n",
              "0   8132799  ...  0.982014\n",
              "1   4655635  ...  0.731059\n",
              "2   9251303  ...  0.268941\n",
              "3  10067386  ...  0.500000\n",
              "4   2190435  ...  0.880797\n",
              "\n",
              "[5 rows x 9 columns]"
            ]
          },
          "metadata": {
            "tags": []
          },
          "execution_count": 22
        }
      ]
    },
    {
      "cell_type": "code",
      "metadata": {
        "colab": {
          "base_uri": "https://localhost:8080/"
        },
        "id": "XsnDbDenlbs8",
        "outputId": "7c836247-387b-492d-92fd-e9fedb8bd643"
      },
      "source": [
        "!ls"
      ],
      "execution_count": null,
      "outputs": [
        {
          "output_type": "stream",
          "text": [
            "sample_data\n"
          ],
          "name": "stdout"
        }
      ]
    },
    {
      "cell_type": "markdown",
      "metadata": {
        "id": "sKXawlDJlsJA"
      },
      "source": [
        "## **머신러닝을 이용한 감성분석**"
      ]
    },
    {
      "cell_type": "code",
      "metadata": {
        "colab": {
          "base_uri": "https://localhost:8080/"
        },
        "id": "4rnEEplElyxX",
        "outputId": "bf719547-bedb-4c45-e309-fa91361e8e81"
      },
      "source": [
        "def read_data(filename, encoding='cp949'): # 읽기 함수 정의\n",
        "    with open(filename, 'r', encoding=encoding) as f:\n",
        "        data = [line.split('\\t') for line in f.read().splitlines()]\n",
        "        data = data[1:] # txt 파일의 헤더(id document label)는 제외하기\n",
        "    return data\n",
        "\n",
        "def write_data(data, filename, encoding='cp949'): # 쓰기 함수 정의\n",
        "    with open(filename, 'w', encoding=encoding) as f:\n",
        "        f.write(data)\n",
        "        \n",
        "data = read_data('ratings_morphed.txt' , encoding='cp949')\n",
        "print(len(data))\n",
        "print(len(data[0]))\n",
        "print(data[0])"
      ],
      "execution_count": null,
      "outputs": [
        {
          "output_type": "stream",
          "text": [
            "197513\n",
            "3\n",
            "['8132799', '디자인 배우 학생 외국 디자이너 일구 전통 통하 발전 문화 산업 부럽 사실 우리나라 그 어렵 시절 끝 열정 지키 노라노 같 전통 있 같 사람 꿈 꾸 이루 나가 있 감사', '1']\n"
          ],
          "name": "stdout"
        }
      ]
    },
    {
      "cell_type": "code",
      "metadata": {
        "colab": {
          "base_uri": "https://localhost:8080/"
        },
        "id": "xaN98B54mMyT",
        "outputId": "8678d688-dc2c-47cd-f7bd-9afc3d9f1ea7"
      },
      "source": [
        "data_text = [line[1] for line in data] # 데이터 본문\n",
        "data_senti = [line[2] for line in data] # 데이터 긍부정 부분\n",
        "\n",
        "from sklearn.model_selection import train_test_split # 본문과 라벨을 각각 분리\n",
        "train_data_text, test_data_text, train_data_senti, test_data_senti = train_test_split(data_text, data_senti, stratify=data_senti)\n",
        "# Counter 클래스를 이용해 각 분류가 훈련데이터와 테스트데이터에 같은 비율로 들어갔는지 확인해 본다\n",
        "from collections import Counter\n",
        "train_data_senti_freq = Counter(train_data_senti)\n",
        "print('train_data_senti_freq:', train_data_senti_freq)\n",
        "\n",
        "test_data_senti_freq = Counter(test_data_senti)\n",
        "print('test_data_senti_freq:', test_data_senti_freq)"
      ],
      "execution_count": null,
      "outputs": [
        {
          "output_type": "stream",
          "text": [
            "train_data_senti_freq: Counter({'1': 74097, '0': 74037})\n",
            "test_data_senti_freq: Counter({'1': 24699, '0': 24680})\n"
          ],
          "name": "stdout"
        }
      ]
    },
    {
      "cell_type": "code",
      "metadata": {
        "colab": {
          "base_uri": "https://localhost:8080/"
        },
        "id": "gUxYVYUdmajg",
        "outputId": "25da1780-e8cb-4eb9-909c-2652cdb22ada"
      },
      "source": [
        "## 행렬 형태로 변환\n",
        "from sklearn.feature_extraction.text import CountVectorizer\n",
        "vect = CountVectorizer(min_df=5).fit(train_data_text) # 최소 문서 빈도 5이상의 단어만 대상\n",
        "X_train = vect.transform(train_data_text) # 행렬 생성\n",
        "print(\"X_train:\\n\", repr(X_train)) "
      ],
      "execution_count": null,
      "outputs": [
        {
          "output_type": "stream",
          "text": [
            "X_train:\n",
            " <148134x11699 sparse matrix of type '<class 'numpy.int64'>'\n",
            "\twith 823027 stored elements in Compressed Sparse Row format>\n"
          ],
          "name": "stdout"
        }
      ]
    },
    {
      "cell_type": "code",
      "metadata": {
        "colab": {
          "base_uri": "https://localhost:8080/"
        },
        "id": "YOAe-9X7o-uv",
        "outputId": "fe6764a7-abb9-470f-9369-5ec35b17c72d"
      },
      "source": [
        "## 행렬 내용 관찰\n",
        "feature_names = vect.get_feature_names()\n",
        "print(\"특성 개수:\", len(feature_names))\n",
        "print(\"처음 20개 특성:\\m\", feature_names[:20])\n",
        "print(\"3000~5000까지의 특성:\\n\", feature_names[3000:5000])"
      ],
      "execution_count": null,
      "outputs": [
        {
          "output_type": "stream",
          "text": [
            "특성 개수: 11699\n",
            "처음 20개 특성:\\m ['10점', '1빠', 'cgv', 'ebs', 'kbs', 'la', 'mb', 'mbc', 'naver', 'ok', 'sbs', 'sns', 'tv', 'usb', 'ㄴㄴ', 'ㄷㄷ', 'ㅂㄷㅂㄷ', 'ㅂㅅ', 'ㅅㅂ', 'ㅇㅇ']\n",
            "3000~5000까지의 특성:\n",
            " ['리플리', '리허설', '린다', '린이', '린제이', '린지', '린치', '릴리', '립스틱', '링컨', '마가', '마가렛', '마감', '마고', '마구', '마구잡이', '마귀', '마나', '마냥', '마네', '마네킹', '마녀', '마녀사냥', '마누라', '마니아', '마담', '마당', '마더', '마돈나', '마동석', '마디', '마땅', '마땅히', '마라도나', '마력', '마련', '마루', '마르', '마른', '마리', '마리아', '마리오', '마리옹', '마린', '마릴린', '마마', '마모루', '마무리', '마미', '마법', '마법사', '마보', '마블', '마비', '마사', '마사미', '마사키', '마샬', '마성', '마수리', '마술', '마술사', '마스', '마스크', '마스터', '마시', '마약', '마왕', '마우스', '마을', '마음', '마음껏', '마음대로', '마음속', '마음씨', '마의', '마이', '마이너', '마이너리티', '마이너스', '마이애미', '마이어스', '마이크', '마이클', '마인드', '마임', '마저', '마주', '마주치', '마주하', '마중', '마지', '마지막', '마직', '마징가', '마차', '마찬가지', '마초', '마츠다', '마츠모토', '마츠야마', '마치', '마침', '마침내', '마침표', '마카로니', '마케팅', '마코토', '마크', '마키', '마트', '마틴', '마틴스', '마틸다', '마피아', '막가', '막강', '막걸리', '막내', '막대', '막론', '막막', '막말', '막무가내', '막바지', '막부', '막상', '막스', '막심', '막연', '막이', '막장', '막장일', '막지', '막판', '막히', '만감', '만개', '만그', '만끽', '만나', '만날', '만남', '만내', '만년', '만능', '만담', '만델라', '만두', '만들', '만듦새', '만땅', '만만', '만명', '만물', '만발', '만보', '만사', '만세', '만약', '만점', '만족', '만족감', '만주', '만지', '만찬', '만하', '만해', '만행', '만화', '만화가', '만화영화', '만화책', '만회', '많이', '말기', '말길', '말년', '말로', '말론', '말리', '말미', '말살', '말세', '말씀', '말아먹', '말없이', '말입', '말자', '말장난', '말종', '말초신경', '말코비치', '말콤', '말타', '말투', '말하', '말하기', '말해', '맘껏', '맘대로', '맘마', '맘마미아', '맘속', '맙소사', '맛깔', '맛나', '맛보', '맛보기', '맛없', '맛있', '맛집', '망가', '망가뜨리', '망가지', '망각', '망상', '망설이', '망설임', '망신', '망인', '망쳐놓', '망치', '망토', '망하', '맞대', '맞먹', '맞물리', '맞서', '맞았어', '맞이', '맞추', '맞춤', '맞춤법', '맡기', '매개체', '매국노', '매기', '매끄럽', '매너', '매너리즘', '매년', '매니아', '매니저', '매달', '매달리', '매도', '매드', '매들린', '매력', '매력적', '매료', '매매', '매미', '매번', '매수', '매염방', '매우', '매일', '매일매일', '매장', '매주', '매직', '매진', '매체', '매춘', '매춘부', '매치', '매튜', '매트', '매트릭스', '매혹', '매혹적', '매회', '맥가이버', '맥과이어', '맥그리거', '맥라이언', '맥락', '맥빠지', '맥스', '맥아', '맥아더', '맥없', '맥이', '맥주', '맥퀸', '맥클레인', '맨날', '맨들', '맨디', '맨몸', '맨발', '맨인블랙', '맴돌', '맴버', '맹꽁', '맹맹', '맹목적', '맹물', '맹세', '맹승', '맹인', '맹탕', '맺히', '머금', '머니', '머레이', '머리', '머리카락', '머리털', '머리통', '머릿', '머릿속', '머무', '머물', '머신', '머이', '머저리', '머피', '먹고살', '먹먹', '먹방', '먹여주', '먹음직', '먹이', '먹칠', '먹히', '먼데', '먼로', '먼저', '먼지', '멀더', '멀리', '멀리서', '멀미', '멀쩡', '멀쩡히', '멈추', '멋대로', '멋들어지', '멋모르', '멋있', '멋지', '멍멍이', '멍청', '멍청이', '멍하', '멍하니', '메가', '메가박스', '메가폰', '메기', '메꾸', '메디컬', '메롱', '메르스', '메리', '메릴', '메마르', '메멘토', '메모리', '메세', '메세지', '메소드', '메스', '메스껍', '메시지', '메오', '메우', '메이', '메이드', '메이슨', '메이저', '메이커', '메이퀸', '메이킹', '메이트', '메인', '메일', '메카', '메타', '메타포', '메탈', '멕시코', '멘스', '멘탈', '멘토', '멘트', '멜라니', '멜로', '멜로드라마', '멜로디', '멜로물', '멜리사', '멤버', '며느리', '며칠', '멱살잡', '면도', '면모', '면상', '면하', '멸망', '멸종', '명감독', '명계남', '명곡', '명과', '명대사', '명도', '명랑', '명량', '명료', '명목', '명민', '명배우', '명백', '명복', '명분', '명색', '명성', '명심', '명언', '명에', '명연', '명연기', '명예', '명인', '명작', '명장', '명장면', '명절', '명치', '명쾌', '명탐정', '명품', '명함', '명화', '명화극장', '명확', '명확히', '몇몇', '몇일', '모가지', '모건', '모기', '모녀', '모니', '모니카', '모니터', '모던', '모델', '모독', '모독이', '모두', '모드', '모든', '모래', '모래시계', '모레', '모로', '모르', '모리', '모방', '모범', '모범적', '모성', '모성애', '모세', '모션', '모순', '모스', '모습', '모시', '모야', '모양', '모양새', '모어', '모에', '모욕', '모욕감', '모욕적', '모으', '모음집', '모이', '모임', '모자', '모자라', '모자람', '모자르', '모자이크', '모조리', '모지', '모짜르트', '모차르트', '모처럼', '모텔', '모토', '모티브', '모험', '모호', '목걸이', '목격', '목록', '목마르', '목사', '목소리', '목숨', '목요일', '목욕', '목욕탕', '목적', '목표', '몬스터', '몰두', '몰라보', '몰락', '몰래', '몰려오', '몰르', '몰리', '몰살', '몰상식', '몰아', '몰아가', '몰아넣', '몰아주', '몰아치', '몰이', '몰입', '몰입감', '몰입도', '몸매', '몸부림', '몸소', '몸짓', '몹시', '못나', '못난이', '못내', '못되', '못살', '못생기', '못쓰', '못지않', '못하', '몽골', '몽땅', '몽롱', '몽상', '몽상가', '몽정기', '몽키', '몽환', '몽환적', '묘미', '묘사', '묘하', '무가', '무간', '무감각', '무개', '무겁', '무게', '무게감', '무고', '무관', '무관심', '무교', '무기', '무기력', '무난', '무난히', '무너뜨리', '무너지', '무녀', '무능', '무능력', '무늬', '무당', '무대', '무덤', '무덤덤', '무덥', '무도', '무디', '무라', '무라카미', '무려', '무력', '무례', '무료', '무릎', '무릎팍', '무리', '무리수', '무림', '무명', '무모', '무미', '무미건조', '무방', '무법자', '무분별', '무비', '무사', '무상', '무색', '무서', '무서움', '무서워하', '무섭', '무성', '무성영화', '무성의', '무술', '무술인', '무스', '무슨', '무시', '무시무시', '무식', '무신경', '무신론자', '무심', '무심코', '무안', '무언', '무얼', '무엇', '무용', '무의미', '무의식', '무의식적', '무이', '무인', '무인도', '무자', '무자비', '무자식', '무작정', '무장', '무적', '무전', '무정', '무조', '무조건', '무조건적', '무죄', '무지', '무지개', '무지막지', '무지무지', '무진', '무진장', '무찌르', '무차별', '무차별적', '무참히', '무책임', '무척', '무턱대고', '무표정', '무한', '무한대', '무협', '무협물', '무협지', '묵념', '묵묵히', '묵시록', '묵직', '묶이', '문구', '문근영', '문득', '문득문득', '문란', '문명', '문방구', '문법', '문성근', '문소리', '문어', '문외한', '문자', '문장', '문정희', '문제', '문제없', '문제의식', '문제작', '문제점', '문제지', '문채원', '문학', '문학관', '문학작품', '문학적', '문화', '문화적', '묻어나', '묻히', '물가', '물건', '물결', '물고기', '물들', '물량', '물려주', '물론', '물리', '물리치', '물보', '물속', '물씬', '물어내', '물어보', '물음표', '물의', '물질', '물질적', '물체', '물타기', '뭉개', '뭉치', '뭉클', '뭍히', '뭐야', '뭣하', '뮤비', '뮤지션', '뮤지컬', '뮤직', '뮤직비디오', '뮬란', '미가', '미개', '미국', '미국인', '미국판', '미군', '미끼', '미나', '미남', '미녀', '미니', '미달', '미덕', '미도', '미드', '미들', '미디어', '미라', '미란', '미란다', '미래', '미련', '미로', '미루', '미리', '미만', '미명', '미모', '미묘', '미미', '미사', '미사여구', '미사일', '미생', '미성년자', '미성숙', '미세', '미세스', '미셀', '미션', '미션임파서블', '미셸', '미소', '미숙', '미술', '미술관', '미쉘', '미스', '미스코리아', '미스터', '미스터리', '미스테리', '미신', '미쓰', '미아', '미안', '미야자키', '미약', '미어', '미어지', '미에', '미움', '미워하', '미이라', '미인', '미자', '미장센', '미쟝센', '미저리', '미적지근', '미지', '미지근', '미진', '미처', '미쳐', '미취학', '미치', '미치광이', '미친년', '미친놈', '미켈슨', '미키', '미필', '미학', '미학적', '미혼', '미혼모', '미화', '미흡', '믹스', '민간인', '민감', '민경채', '민국', '민들레', '민망', '민비', '민세연', '민수', '민아', '민영화', '민이', '민정', '민족', '민주', '민주주의', '민주화', '민중', '민폐', '민호', '믿기', '믿음', '밀도', '밀라', '밀러', '밀레니엄', '밀려오', '밀리', '밀양', '밀어붙이', '밀어주', '밀폐', '밉상', '밋밋', '밍밍', '밑바닥', '밑바탕', '바가지', '바꾸', '바꾸기', '바꿔주', '바뀌', '바늘', '바니', '바닐라', '바다', '바닥', '바닷가', '바둑', '바디', '바라', '바라보', '바라지', '바람', '바람나', '바람둥이', '바람직', '바래', '바램', '바로', '바르', '바르뎀', '바리', '바바라', '바바리', '바보', '바보짓', '바비', '바쁘', '바스코', '바우어', '바위', '바이', '바이러스', '바이블', '바이오', '바이올린', '바인', '바지', '바치', '바퀴벌레', '바탕', '바토', '바티스타', '바티칸', '바흐', '박건', '박근형', '박근혜', '박기웅', '박력', '박멸', '박명수', '박물관', '박민영', '박민우', '박보영', '박사', '박살', '박상민', '박상원', '박선영', '박성웅', '박세영', '박수', '박스', '박스오피스', '박시환', '박신혜', '박영규', '박예진', '박용우', '박용하', '박유천', '박은혜', '박의', '박자', '박장대소', '박재정', '박정민', '박정아', '박정희', '박준규', '박준형', '박중훈', '박쥐', '박지성', '박지윤', '박진감', '박진영', '박진희', '박차', '박찬욱', '박철민', '박철수', '박평식', '박하', '박하사탕', '박한', '박해일', '박해진', '박현지', '박형식', '박희순', '박히', '반감', '반갑', '반공', '반담', '반대', '반대편', '반대하', '반데라스', '반도', '반드시', '반란', '반려', '반말', '반면', '반반', '반복', '반사', '반성', '반성하', '반성해', '반세기', '반열', '반영', '반영한', '반올림', '반응', '반응하', '반의', '반장', '반전', '반절', '반점', '반정부', '반죽', '반지', '반짝', '반짝반짝', '반짝이', '반쪽', '반찬', '반하', '반할', '반함', '반항', '반항아', '반환', '받아들이', '받치', '발가락', '발견', '발광', '발굴', '발기', '발끝', '발단', '발달', '발동', '발라', '발랄', '발레', '발로', '발리', '발매', '발버둥', '발사', '발산', '발상', '발생', '발성', '발악', '발암', '발암물질', '발언', '발음', '발자국', '발작', '발전', '발정', '발차기', '발칙', '발톱', '발표', '발하', '발해', '발현', '발휘', '밝히', '밤새', '밥맛', '밥상', '방가', '방구', '방구석', '방귀', '방금', '방금보', '방대', '방도', '방문', '방법', '방사능', '방송', '방송국', '방송사', '방송인', '방식', '방어', '방영', '방영하', '방영한', '방영해', '방울', '방이', '방자', '방지', '방청객', '방치', '방콕', '방하', '방학', '방해', '방향', '방화', '방황', '배가', '배경', '배경음악', '배경지식', '배고프', '배급', '배급사', '배기', '배꼽', '배달', '배달부', '배두나', '배드', '배려', '배리', '배배', '배부르', '배불', '배설', '배속', '배신', '배신감', '배신자', '배아', '배역', '배역도', '배용준', '배우', '배우자', '배우중', '배우진', '배제', '배제하', '배제한', '배종옥', '배짱', '배창호', '배출', '배치', '배타', '배트', '배트맨', '배틀', '배포', '배합', '백동수', '백미', '백발', '백배', '백번', '백설공주', '백성', '백성현', '백수', '백신', '백악관', '백야', '백윤식', '백인', '백인우', '백제', '백조', '백진희', '백터', '백투더', '백혈병', '밴드', '밸런스', '뱀파이어', '뱃속', '뱅상', '뱅크', '버거', '버겁', '버그', '버금가', '버드', '버디', '버러지', '버릇', '버리', '버림받', '버무리', '버블', '버스', '버전', '버젓이', '버지니아', '버킷', '버터', '버트', '버튼', '버틀러', '버티', '버프', '버호벤', '벅스', '벅차', '벅차오르', '번개', '번뜩이', '번역', '번지', '번지르르', '번쩍', '번하', '번호', '벌레', '벌리', '벌목', '벌벌', '벌써', '벌어', '벌어지', '벌이', '범람', '범벅', '범수', '범위', '범인', '범접', '범죄', '범죄자', '범주', '범하', '법인', '법적', '법정', '법칙', '벗기', '벗어나', '벙어리', '벙커', '베끼', '베끼기', '베네딕트', '베니', '베닝', '베드', '베드신', '베르', '베를린', '베리', '베리굿', '베송', '베스트', '베스트극장', '베스트셀러', '베아', '베어', '베이', '베이더', '베이비', '베이스', '베이커', '베이컨', '베인', '베일', '베테랑', '베토벤', '베트남', '베트남전', '베트남전쟁', '베틀', '베티', '벡터', '벤더', '벤더스', '벤자민', '벤틀리', '벤허', '벨라', '벨트', '변경', '변기', '변덕', '변명', '변신', '변요한', '변주', '변질', '변태', '변태성', '변태영', '변태적', '변하', '변한', '변함없', '변형', '변호', '변호사', '변호인', '변화', '변환', '별개', '별거', '별것', '별다르', '별도', '별로', '별론', '별명', '별반', '별볼일', '별생각', '별은', '별이', '별점', '별표', '병기', '병들', '병사', '병아리', '병원', '병자', '병장', '병풍', '병헌', '보고', '보고서', '보관', '보급', '보기', '보내', '보내기', '보너스', '보도', '보드', '보듬', '보디가드', '보라', '보람', '보리', '보물', '보복', '보살', '보살피', '보상', '보석', '보성', '보수', '보수적', '보스', '보신', '보심', '보아하니', '보안', '보안관', '보여주', '보완', '보우', '보이', '보인', '보일', '보잘것', '보장', '보정', '보존', '보지', '보충', '보컬', '보태', '보통', '보통이', '보트', '보편적', '보합', '보험회사', '보호', '복고', '복구', '복귀', '복도', '복사', '복선', '복수', '복수심', '복수초', '복습', '복싱', '복원', '복잡', '복장', '복제', '복지', '복합적', '본거', '본거지', '본건', '본격', '본격적', '본기', '본능', '본능적', '본대', '본드', '본래', '본받', '본방', '본보기', '본분', '본사', '본성', '본시', '본연', '본영', '본의', '본인', '본전', '본질', '본질적', '본토', '본편', '볼거리', '볼륨', '볼만하', '볼일', '볼케이노', '볼타', '볼트', '볼품없', '봄여름', '봉만대', '봉사', '봉인', '봉준호', '봉지', '봉태', '봐주', '부각', '부기', '부끄러움', '부끄럽', '부녀', '부다페스트', '부담', '부당', '부대', '부도', '부드럽', '부들부들', '부디', '부딪치', '부러', '부러움', '부러지', '부럽', '부류', '부르', '부르기', '부릉부릉', '부리', '부모', '부부', '부부간', '부분', '부사장', '부산', '부상', '부서지', '부성애', '부세미', '부셔', '부수', '부술', '부스', '부시', '부실', '부여', '부유', '부의', '부인', '부자', '부자연', '부작', '부작용', '부잣집', '부재', '부적절', '부정', '부정적', '부정확', '부제', '부조리', '부조화', '부족', '부진', '부질없', '부처', '부천', '부추기', '부치', '부탁', '부트', '부패', '부풀', '부풀리', '부하', '부활', '북괴', '북극', '북두', '북미', '북받치', '북유럽', '북한', '북한군', '북한인', '분간', '분노', '분단', '분단국가', '분동', '분량', '분류', '분리', '분리수거', '분만', '분명', '분명히', '분발', '분별', '분석', '분쇄기', '분신', '분야', '분열', '분위', '분위기', '분장', '분전', '분지', '분출', '분투', '분하', '분한', '불가', '불가능', '불감증', '불공평', '불과', '불교', '불구', '불꽃', '불량', '불러내', '불러대', '불러오', '불러일으키', '불륜', '불리', '불리우', '불만', '불면증', '불멸', '불명', '불문', '불법', '불복', '불사', '불사신', '불사조', '불신', '불쌍', '불안', '불안감', '불안정', '불완전', '불우', '불운', '불의', '불치병', '불친절', '불쾌', '불쾌감', '불타', '불태우', '불편', '불평', '불평등', '불필요', '불행', '불허', '불협화음', '불확실', '불효자', '불후', '붉어지', '붉은', '붉히', '붓다', '붕괴', '붕대', '붙이', '붙잡', '뷰티', '뷰티풀', '브라더스', '브라보', '브라운관', '브라이언', '브라질', '브란도', '브래드', '브래들리', '브랜드', '브레드', '브레이크', '브레인', '브로드웨이', '브로스넌', '브로큰', '브루스', '브룩', '브리', '브리지스', '브리짓', '브리트니', '브이', '블라인드', '블랑', '블랙', '블랙리스트', '블랙코미디', '블랙홀', '블러드', '블럭', '블레어', '블레이드', '블로그', '블록', '블록버스터', '블루', '블루스', '블룸', '비겁', '비견', '비교', '비교적', '비극', '비극적', '비기', '비꼬', '비난', '비노쉬', '비단', '비도', '비둘기', '비디오', '비디오물', '비디오방', '비례', '비로소', '비록', '비롯', '비루', '비리', '비만', '비명', '비밀', '비밥', '비범', '비보', '비비', '비비안리', '비빔밥', '비서', '비슷', '비슷비슷', '비싸', '비씨', '비애', '비약', '비열', '비용', '비우', '비운', '비웃', '비웃음', '비위', '비유', '비율', '비의', '비인간적', '비장', '비장미', '비정', '비정상', '비정상적', '비주류', '비주얼', '비중', '비지', '비참', '비추', '비추천', '비치', '비키', '비키니', '비토', '비트', '비틀', '비틀즈', '비판', '비판적', '비평', '비평가', '비포', '비하', '비행', '비행기', '비행선', '비현실적', '비호', '비화', '빅뱅', '빅터', '빅토리아', '빈곤', '빈껍데기', '빈번', '빈부', '빈센트', '빈약', '빈자리', '빈틈', '빈틈없', '빈틈없이', '빌딩', '빌리', '빌어먹을', '빗나가', '빗대', '빗속', '빙빙', '빙의', '빙자', '빚어내', '빚어지', '빛나', '빛내', '빠가', '빠다', '빠돌이', '빠뜨리', '빠르', '빠리', '빠삐용', '빠순이', '빠이', '빠져나', '빠져나가', '빠져나오', '빠져들', '빠지', '빠지지', '빠짐없이', '빡빡이', '빤스', '빤히', '빨간', '빨간색', '빨갱이', '빨랑', '빨리', '빨리빨리', '빨아먹', '빨치산', '빵빵', '빵점', '빼내', '빼놓', '빼먹', '빼앗', '빼앗기', '빼어나', '뺏기', '뺨치', '뻐기', '뻐꾸기', '뻔뻔', '뻔하', '뻔히', '뻗치', '뻣뻣', '뻥튀기', '뼈저리', '뽀뽀', '뽐내', '뽑아내', '뽑히', '뽕짝', '뿌듯', '뿌리', '뿌리치', '뿜어내', '삐딱', '삐뚤어지', '사가', '사간', '사건', '사격', '사고', '사고뭉치', '사고방식', '사골', '사공', '사과', '사귀', '사극', '사기', '사기극', '사기죄', '사나이', '사납', '사냥', '사단', '사담', '사드', '사라', '사라지', '사람', '사랑', '사랑하', '사례', '사로잡', '사로잡히', '사료', '사리', '사막', '사망', '사면', '사명', '사명감', '사무', '사무라이', '사무실', '사무엘', '사무치', '사물', '사뭇', '사바', '사발', '사방', '사보', '사부', '사사', '사사키', '사살', '사상', '사색', '사생활', '사세', '사소', '사수', '사스', '사슴', '사신', '사실', '사실감', '사실은', '사실적', '사심', '사십', '사악', '사업', '사연', '사용', '사운드', '사운드트랙', '사위', '사유', '사의', '사이', '사이다', '사이드', '사이렌', '사이먼', '사이버', '사이보그', '사이비', '사이코', '사이트', '사인', '사자', '사장', '사적', '사전', '사절', '사정', '사족', '사죄', '사주', '사진', '사채', '사채업자', '사촌', '사춘기', '사치', '사탄', '사탕', '사태', '사토', '사토시', '사투', '사투리', '사파리', '사하', '사항', '사형', '사형수', '사회', '사회문제', '사회상', '사회생활', '사회적', '사회주의', '사후', '삭막', '삭제', '산거', '산드라', '산드라블록', '산뜻', '산만', '산물', '산부인과', '산악', '산업', '산은', '산전수전', '산책', '산타', '산트', '살기', '살리', '살리기', '살림', '살벌', '살색', '살수', '살아가', '살아나', '살아남', '살아오', '살의', '살인', '살인마', '살인범', '살인자', '살지', '살짝', '살찌', '살찐', '살펴보', '살피', '살해', '삶이', '삼가', '삼각', '삼각관계', '삼국', '삼국지', '삼류', '삼박자', '삼성', '삼순', '삼시', '삼천포', '삼촌', '삼총사', '삼키', '삼형제', '삽입', '삽입곡', '상공', '상관', '상관없', '상관없이', '상급', '상기', '상남', '상담', '상당', '상당히', '상대', '상대방', '상대적', '상도', '상류층', '상반', '상반기', '상사', '상상', '상상도', '상상력', '상세히', '상속자', '상쇄', '상술', '상승', '상식', '상식적', '상실']\n"
          ],
          "name": "stdout"
        }
      ]
    },
    {
      "cell_type": "code",
      "metadata": {
        "colab": {
          "base_uri": "https://localhost:8080/"
        },
        "id": "10W3AvUvqfUA",
        "outputId": "ac82cb2c-ac71-4a58-8d44-e8be9d5d67e0"
      },
      "source": [
        "## 머신러닝 알고리즘 적용\n",
        "import pandas as pd\n",
        "from sklearn.model_selection import cross_val_score\n",
        "from sklearn.linear_model import LogisticRegression\n",
        "y_train = pd.Series(train_data_senti) # 리스트 형태를 종속변수가 될 수 있는 1차원 배열(Series)로 만든다\n",
        "\n",
        "lr = LogisticRegression(solver=\"liblinear\") # 모델 생성\n",
        "lr.fit(X_train, y_train) # 모델 훈련"
      ],
      "execution_count": null,
      "outputs": [
        {
          "output_type": "execute_result",
          "data": {
            "text/plain": [
              "LogisticRegression(C=1.0, class_weight=None, dual=False, fit_intercept=True,\n",
              "                   intercept_scaling=1, l1_ratio=None, max_iter=100,\n",
              "                   multi_class='auto', n_jobs=None, penalty='l2',\n",
              "                   random_state=None, solver='liblinear', tol=0.0001, verbose=0,\n",
              "                   warm_start=False)"
            ]
          },
          "metadata": {
            "tags": []
          },
          "execution_count": 10
        }
      ]
    },
    {
      "cell_type": "code",
      "metadata": {
        "colab": {
          "base_uri": "https://localhost:8080/"
        },
        "id": "eWncKKwyql2-",
        "outputId": "7a795e2b-b5db-4ba8-a834-71e97c794141"
      },
      "source": [
        "## 테스트 데이터 입력\n",
        "X_test = vect.transform(test_data_text)\n",
        "y_test = pd.Series(test_data_senti)\n",
        "\n",
        "print(\"테스트 데이터 점수:\", lr.score(X_test, y_test))"
      ],
      "execution_count": null,
      "outputs": [
        {
          "output_type": "stream",
          "text": [
            "테스트 데이터 점수: 0.8079345470746674\n"
          ],
          "name": "stdout"
        }
      ]
    },
    {
      "cell_type": "code",
      "metadata": {
        "colab": {
          "base_uri": "https://localhost:8080/"
        },
        "id": "Zl4hK2nGq7_L",
        "outputId": "b7b5e6e5-ce8c-4d8d-e224-77daf4d61bf3"
      },
      "source": [
        "## 1개 데이터 예측\n",
        "# 형태소분석기 시작\n",
        "import rhinoMorph\n",
        "rn = rhinoMorph.startRhino()\n",
        "\n",
        "new_input ='오늘은 정말 재미있는 하루구나!'\n",
        "inputdata = []\n",
        "morphed_input = rhinoMorph.onlyMorph_list(rn, new_input, pos=['NNG', 'NNP', 'VV', 'VA', 'XR', 'IC', 'MM', 'MAG', 'MAJ'])\n",
        "morphed_input = ' '.join(morphed_input) # ['오늘', '정말', '재미있', '하루＇]를 한 개 문자열로 변환\n",
        "\n",
        "inputdata.append(morphed_input) # 분석 결과를 리스트로 만들기\n",
        "print('input data:', inputdata) # ['오늘 정말 재미있 하루']\n",
        "\n",
        "X_input = vect.transform(inputdata) # 앞에서 만든 11445 컬럼의 행렬에 적용\n",
        "result = lr.predict(X_input) # 0은 부정,1은 긍정\n",
        "\n",
        "if result ==\"0\" : # 문자열 형태로 출력된다\n",
        "    print(\"부정적인 글입니다\")\n",
        "else:\n",
        "    print(\"긍정적인 글입니다\")"
      ],
      "execution_count": null,
      "outputs": [
        {
          "output_type": "stream",
          "text": [
            "filepath:  /usr/local/lib/python3.7/dist-packages\n",
            "classpath:  /usr/local/lib/python3.7/dist-packages/rhinoMorph/lib/rhino.jar\n",
            "JVM is already started~\n",
            "RHINO started!\n",
            "input data: ['오늘 정말 재미있 하루']\n",
            "긍정적인 글입니다\n"
          ],
          "name": "stdout"
        }
      ]
    }
  ]
}