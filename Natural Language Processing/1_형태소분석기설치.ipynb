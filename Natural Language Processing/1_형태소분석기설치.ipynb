{
  "nbformat": 4,
  "nbformat_minor": 0,
  "metadata": {
    "colab": {
      "name": "1_형태소분석기설치.ipynb",
      "provenance": [],
      "authorship_tag": "ABX9TyNnJuxyJQIs/cctn1TNReyp",
      "include_colab_link": true
    },
    "kernelspec": {
      "name": "python3",
      "display_name": "Python 3"
    },
    "language_info": {
      "name": "python"
    }
  },
  "cells": [
    {
      "cell_type": "markdown",
      "metadata": {
        "id": "view-in-github",
        "colab_type": "text"
      },
      "source": [
        "<a href=\"https://colab.research.google.com/github/hwlim2010/Bigleader/blob/main/1_%ED%98%95%ED%83%9C%EC%86%8C%EB%B6%84%EC%84%9D%EA%B8%B0%EC%84%A4%EC%B9%98.ipynb\" target=\"_parent\"><img src=\"https://colab.research.google.com/assets/colab-badge.svg\" alt=\"Open In Colab\"/></a>"
      ]
    },
    {
      "cell_type": "code",
      "metadata": {
        "id": "RDnxf0NhZypJ"
      },
      "source": [
        "# 1. OS 업데이트 및 Java 설치\n",
        "!apt-get updata\n",
        "!apt-get install g++ openjdk-8-jdk"
      ],
      "execution_count": null,
      "outputs": []
    },
    {
      "cell_type": "code",
      "metadata": {
        "colab": {
          "base_uri": "https://localhost:8080/"
        },
        "id": "z22q_heiaX4N",
        "outputId": "2721b9ca-34d3-4b76-b60d-aad6ef7e7915"
      },
      "source": [
        "# JPype 설치\n",
        "!pip install JPype1"
      ],
      "execution_count": null,
      "outputs": [
        {
          "output_type": "stream",
          "text": [
            "Collecting JPype1\n",
            "  Downloading JPype1-1.3.0-cp37-cp37m-manylinux_2_5_x86_64.manylinux1_x86_64.whl (448 kB)\n",
            "\u001b[K     |████████████████████████████████| 448 kB 5.0 MB/s \n",
            "\u001b[?25hRequirement already satisfied: typing-extensions in /usr/local/lib/python3.7/dist-packages (from JPype1) (3.7.4.3)\n",
            "Installing collected packages: JPype1\n",
            "Successfully installed JPype1-1.3.0\n"
          ],
          "name": "stdout"
        }
      ]
    },
    {
      "cell_type": "code",
      "metadata": {
        "colab": {
          "base_uri": "https://localhost:8080/"
        },
        "id": "B3nNR0dJadRI",
        "outputId": "4231a069-4900-42ff-9396-31b264d901b5"
      },
      "source": [
        "# RHINO 설치\n",
        "!pip install rhinoMorph"
      ],
      "execution_count": null,
      "outputs": [
        {
          "output_type": "stream",
          "text": [
            "Collecting rhinoMorph\n",
            "  Downloading rhinoMorph-3.8.0.0-py3-none-any.whl (3.0 MB)\n",
            "\u001b[K     |████████████████████████████████| 3.0 MB 5.2 MB/s \n",
            "\u001b[?25hInstalling collected packages: rhinoMorph\n",
            "Successfully installed rhinoMorph-3.8.0.0\n"
          ],
          "name": "stdout"
        }
      ]
    },
    {
      "cell_type": "code",
      "metadata": {
        "colab": {
          "base_uri": "https://localhost:8080/"
        },
        "id": "05b09AMMaiu8",
        "outputId": "0c08dc79-c3d9-48c8-abf9-83f7da17fc04"
      },
      "source": [
        "# RHINO 시작\n",
        "import rhinoMorph\n",
        "rn = rhinoMorph.startRhino()"
      ],
      "execution_count": null,
      "outputs": [
        {
          "output_type": "stream",
          "text": [
            "filepath:  /usr/local/lib/python3.7/dist-packages\n",
            "classpath:  /usr/local/lib/python3.7/dist-packages/rhinoMorph/lib/rhino.jar\n",
            "RHINO started!\n"
          ],
          "name": "stdout"
        }
      ]
    },
    {
      "cell_type": "code",
      "metadata": {
        "colab": {
          "base_uri": "https://localhost:8080/"
        },
        "id": "44gV3H00a4-N",
        "outputId": "3692cd76-52b7-44a5-95c8-1b0d56211bd2"
      },
      "source": [
        "# 예문 분석\n",
        "text = \"한글테스트 글을 남겨주세요\"\n",
        "sample_data = rhinoMorph.onlyMorph_list(rn,text)\n",
        "print('sample data:',sample_data)"
      ],
      "execution_count": null,
      "outputs": [
        {
          "output_type": "stream",
          "text": [
            "sample data: ['한글', '테스트', '글', '을', '남기', '어', '주', '시', '어요']\n"
          ],
          "name": "stdout"
        }
      ]
    },
    {
      "cell_type": "code",
      "metadata": {
        "colab": {
          "base_uri": "https://localhost:8080/",
          "height": 35
        },
        "id": "pVPvqCcubruj",
        "outputId": "9cb0007c-f47b-44c2-c4ff-432eb9157795"
      },
      "source": [
        "sample_data[1]"
      ],
      "execution_count": null,
      "outputs": [
        {
          "output_type": "execute_result",
          "data": {
            "application/vnd.google.colaboratory.intrinsic+json": {
              "type": "string"
            },
            "text/plain": [
              "'테스트'"
            ]
          },
          "metadata": {
            "tags": []
          },
          "execution_count": 6
        }
      ]
    },
    {
      "cell_type": "code",
      "metadata": {
        "id": "NlMaa9N2qfv2"
      },
      "source": [
        "text =\"한글로 된 한글텍스트를 분석하는 것은 즐겁다.\""
      ],
      "execution_count": null,
      "outputs": []
    },
    {
      "cell_type": "code",
      "metadata": {
        "colab": {
          "base_uri": "https://localhost:8080/"
        },
        "id": "HgH-7cXSb4RS",
        "outputId": "312df72c-1c53-44a3-ae13-87fa58001953"
      },
      "source": [
        "# 사용 1 : 모든 형태소 보이기\n",
        "text_analyzed = rhinoMorph.onlyMorph_list(rn , text)\n",
        "print('\\n1. 형태소 분석 결과 :', text_analyzed)"
      ],
      "execution_count": null,
      "outputs": [
        {
          "output_type": "stream",
          "text": [
            "\n",
            "1. 형태소 분석 결과 : ['한글', '로', '되', 'ㄴ', '한글', '텍스트', '를', '분석', '하', '는', '것', '은', '즐겁', '다', '.']\n"
          ],
          "name": "stdout"
        }
      ]
    },
    {
      "cell_type": "code",
      "metadata": {
        "colab": {
          "base_uri": "https://localhost:8080/"
        },
        "id": "RpT5eyJrqjV6",
        "outputId": "8c1b2306-303a-4004-8b57-240261d08585"
      },
      "source": [
        "#사용 2 : 실질형태소 만 , 동사의 어말어미 는 제외\n",
        "text_analyzed=rhinoMorph.onlyMorph_list(rn,text,pos=['NNG','NNP','NP',\n",
        "'VV','VA','XR','IC','MM','MAG','MAJ'])\n",
        "print('\\n2. 형태소 분석 결과 :', text_analyzed)"
      ],
      "execution_count": null,
      "outputs": [
        {
          "output_type": "stream",
          "text": [
            "\n",
            "1. 형태소 분석 결과 : ['한글', '되', '한글', '텍스트', '분석', '즐겁']\n"
          ],
          "name": "stdout"
        }
      ]
    },
    {
      "cell_type": "code",
      "metadata": {
        "colab": {
          "base_uri": "https://localhost:8080/"
        },
        "id": "MeQ0Aq3cq9Ag",
        "outputId": "d9bf8544-e514-4e2d-9abd-ca3e50e36935"
      },
      "source": [
        "#사용 3 : 실질형태소 만 , 동사의 어말어미 포함\n",
        "text_analyzed=rhinoMorph.onlyMorph_list(rn,text,pos=['NNG','NNP','NP',\n",
        "'VV','VA','XR','IC','MM','MAG','MAJ'], eomi=True)\n",
        "print('\\n3. 형태소 분석 결과 :', text_analyzed)"
      ],
      "execution_count": null,
      "outputs": [
        {
          "output_type": "stream",
          "text": [
            "\n",
            "3. 형태소 분석 결과 : ['한글', '되다', '한글', '텍스트', '분석', '즐겁다']\n"
          ],
          "name": "stdout"
        }
      ]
    },
    {
      "cell_type": "code",
      "metadata": {
        "colab": {
          "base_uri": "https://localhost:8080/"
        },
        "id": "USa5q4jHrPMa",
        "outputId": "310cab5b-00c1-4bc2-fbce-547f7a5058bc"
      },
      "source": [
        "#사용 4 : 전체형태소 , 품사정보도 가져 오기\n",
        "morphs, poses =  rhinoMorph.wholeResult_list(rn,text)\n",
        "print('\\4. 형태소 분석 결과:')\n",
        "print('morphs:', morphs)\n",
        "print('poses:',poses)"
      ],
      "execution_count": null,
      "outputs": [
        {
          "output_type": "stream",
          "text": [
            "\u0004. 형태소 분석 결과:\n",
            "morphs: ['한글', '로', '되', 'ㄴ', '한글', '텍스트', '를', '분석', '하', '는', '것', '은', '즐겁', '다', '.']\n",
            "poses: ['NNG', 'JKB', 'VV', 'ETM', 'NNG', 'NNG', 'JKO', 'XR', 'XSV', 'ETM', 'NNB', 'JX', 'VA', 'EF', 'SF']\n"
          ],
          "name": "stdout"
        }
      ]
    },
    {
      "cell_type": "code",
      "metadata": {
        "colab": {
          "base_uri": "https://localhost:8080/"
        },
        "id": "PEmvT9ylreYF",
        "outputId": "483c795f-e73d-4809-9437-d90882e1d052"
      },
      "source": [
        "#사용 5 : 원문의 어절 정보를 같이 가져 오기\n",
        "text_analyzed =  rhinoMorph.wholeResult_text(rn,text)\n",
        "print('\\n5. 형태소 분석 결과 :\\n', text_analyzed)"
      ],
      "execution_count": null,
      "outputs": [
        {
          "output_type": "stream",
          "text": [
            "\n",
            "5. 형태소 분석 결과 :\n",
            " 한글로\t한글/NNG + 로/JKB\r\n",
            "된\t되/VV + ㄴ/ETM\r\n",
            "한글텍스트를\t한글/NNG + 텍스트/NNG + 를/JKO\r\n",
            "분석하는\t분석/XR + 하/XSV + 는/ETM\r\n",
            "것은\t것/NNB + 은/JX\r\n",
            "즐겁다\t즐겁/VA + 다/EF\r\n",
            ".\t./SF\r\n",
            "\n"
          ],
          "name": "stdout"
        }
      ]
    },
    {
      "cell_type": "code",
      "metadata": {
        "id": "VjOEcjRBrlHJ"
      },
      "source": [
        ""
      ],
      "execution_count": null,
      "outputs": []
    }
  ]
}