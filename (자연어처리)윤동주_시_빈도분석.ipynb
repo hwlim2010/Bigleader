{
  "nbformat": 4,
  "nbformat_minor": 0,
  "metadata": {
    "colab": {
      "name": "(자연어처리)윤동주 시 빈도분석.ipynb",
      "provenance": [],
      "authorship_tag": "ABX9TyPxxd8MoYPBfrJWllMg6eZq",
      "include_colab_link": true
    },
    "kernelspec": {
      "name": "python3",
      "display_name": "Python 3"
    },
    "language_info": {
      "name": "python"
    }
  },
  "cells": [
    {
      "cell_type": "markdown",
      "metadata": {
        "id": "view-in-github",
        "colab_type": "text"
      },
      "source": [
        "<a href=\"https://colab.research.google.com/github/hwlim2010/Bigleader/blob/main/(%EC%9E%90%EC%97%B0%EC%96%B4%EC%B2%98%EB%A6%AC)%EC%9C%A4%EB%8F%99%EC%A3%BC_%EC%8B%9C_%EB%B9%88%EB%8F%84%EB%B6%84%EC%84%9D.ipynb\" target=\"_parent\"><img src=\"https://colab.research.google.com/assets/colab-badge.svg\" alt=\"Open In Colab\"/></a>"
      ]
    },
    {
      "cell_type": "code",
      "metadata": {
        "id": "Kj0NN2G0a5ZM"
      },
      "source": [
        "# 윤동주시 빈도분석"
      ],
      "execution_count": 71,
      "outputs": []
    },
    {
      "cell_type": "code",
      "metadata": {
        "colab": {
          "base_uri": "https://localhost:8080/"
        },
        "id": "LcgJK_aQQApp",
        "outputId": "2f7983b6-2878-4334-8cce-014ddd86e54a"
      },
      "source": [
        "from google.colab import drive\n",
        "drive.mount('/content/gdrive')"
      ],
      "execution_count": 1,
      "outputs": [
        {
          "output_type": "stream",
          "text": [
            "Drive already mounted at /content/gdrive; to attempt to forcibly remount, call drive.mount(\"/content/gdrive\", force_remount=True).\n"
          ],
          "name": "stdout"
        }
      ]
    },
    {
      "cell_type": "code",
      "metadata": {
        "colab": {
          "base_uri": "https://localhost:8080/"
        },
        "id": "gy7jou0qQGfu",
        "outputId": "cd487c66-82b3-4261-fb9a-5f8ea7410e21"
      },
      "source": [
        "import matplotlib as mpl\n",
        "import matplotlib.pyplot as plt\n",
        "\n",
        "%config InlineBackend.figure_format = 'retina' # 폰트가 깨끗하게 보이도록 설정\n",
        "!apt install fonts-nanum # 나눔 폰트 설치\n",
        "\n",
        "import matplotlib.font_manager as fm\n",
        "fontpath = '/usr/share/fonts/truetype/nanum/NanumMyeongjo.ttf'\n",
        "font = fm.FontProperties(fname=fontpath, size=9)\n",
        "\n",
        "# 기본 글꼴 변경\n",
        "import matplotlib as mpl\n",
        "mpl.font_manager._rebuild()\n",
        "mpl.pyplot.rc('font', family='NanumMyeongjo')"
      ],
      "execution_count": 3,
      "outputs": [
        {
          "output_type": "stream",
          "text": [
            "Reading package lists... Done\n",
            "Building dependency tree       \n",
            "Reading state information... Done\n",
            "fonts-nanum is already the newest version (20170925-1).\n",
            "0 upgraded, 0 newly installed, 0 to remove and 76 not upgraded.\n"
          ],
          "name": "stdout"
        }
      ]
    },
    {
      "cell_type": "code",
      "metadata": {
        "colab": {
          "base_uri": "https://localhost:8080/"
        },
        "id": "_g_Vl_RcQQWc",
        "outputId": "dcaf2233-395c-49e8-a850-2712812fb900"
      },
      "source": [
        "# 형태소분석기 관련 설치\n",
        "!apt-get update\n",
        "!apt-get install g++ openjdk-8-jdk\n",
        "\n",
        "!pip install JPype1\n",
        "!pip install rhinoMorph"
      ],
      "execution_count": 4,
      "outputs": [
        {
          "output_type": "stream",
          "text": [
            "\r0% [Working]\r            \rHit:1 https://cloud.r-project.org/bin/linux/ubuntu bionic-cran40/ InRelease\n",
            "\r0% [Connecting to archive.ubuntu.com (91.189.88.152)] [Connecting to security.u\r0% [1 InRelease gpgv 3,626 B] [Connecting to archive.ubuntu.com (91.189.88.152)\r                                                                               \rIgn:2 https://developer.download.nvidia.com/compute/cuda/repos/ubuntu1804/x86_64  InRelease\n",
            "\r0% [1 InRelease gpgv 3,626 B] [Connecting to archive.ubuntu.com (91.189.88.152)\r                                                                               \rGet:3 http://security.ubuntu.com/ubuntu bionic-security InRelease [88.7 kB]\n",
            "Ign:4 https://developer.download.nvidia.com/compute/machine-learning/repos/ubuntu1804/x86_64  InRelease\n",
            "Hit:5 https://developer.download.nvidia.com/compute/cuda/repos/ubuntu1804/x86_64  Release\n",
            "Hit:6 http://ppa.launchpad.net/c2d4u.team/c2d4u4.0+/ubuntu bionic InRelease\n",
            "Hit:7 https://developer.download.nvidia.com/compute/machine-learning/repos/ubuntu1804/x86_64  Release\n",
            "Hit:8 http://archive.ubuntu.com/ubuntu bionic InRelease\n",
            "Hit:9 http://archive.ubuntu.com/ubuntu bionic-updates InRelease\n",
            "Hit:10 http://ppa.launchpad.net/cran/libgit2/ubuntu bionic InRelease\n",
            "Hit:11 http://archive.ubuntu.com/ubuntu bionic-backports InRelease\n",
            "Hit:12 http://ppa.launchpad.net/deadsnakes/ppa/ubuntu bionic InRelease\n",
            "Hit:14 http://ppa.launchpad.net/graphics-drivers/ppa/ubuntu bionic InRelease\n",
            "Fetched 88.7 kB in 3s (34.6 kB/s)\n",
            "Reading package lists... Done\n",
            "Reading package lists... Done\n",
            "Building dependency tree       \n",
            "Reading state information... Done\n",
            "g++ is already the newest version (4:7.4.0-1ubuntu2.3).\n",
            "openjdk-8-jdk is already the newest version (8u292-b10-0ubuntu1~18.04).\n",
            "0 upgraded, 0 newly installed, 0 to remove and 76 not upgraded.\n",
            "Requirement already satisfied: JPype1 in /usr/local/lib/python3.7/dist-packages (1.3.0)\n",
            "Requirement already satisfied: typing-extensions in /usr/local/lib/python3.7/dist-packages (from JPype1) (3.7.4.3)\n",
            "Requirement already satisfied: rhinoMorph in /usr/local/lib/python3.7/dist-packages (3.8.0.0)\n"
          ],
          "name": "stdout"
        }
      ]
    },
    {
      "cell_type": "code",
      "metadata": {
        "colab": {
          "base_uri": "https://localhost:8080/"
        },
        "id": "AeWbwuQGQYcT",
        "outputId": "0c6728b8-fc7a-4082-a34b-5c4f1a180dc9"
      },
      "source": [
        "# 경로 변경\n",
        "%cd /content/gdrive/My\\ Drive/pytest/"
      ],
      "execution_count": 5,
      "outputs": [
        {
          "output_type": "stream",
          "text": [
            "/content/gdrive/My Drive/pytest\n"
          ],
          "name": "stdout"
        }
      ]
    },
    {
      "cell_type": "code",
      "metadata": {
        "colab": {
          "base_uri": "https://localhost:8080/"
        },
        "id": "ExMXr5VUQn7w",
        "outputId": "385837c8-89b1-4aa9-a95e-a8a74275c18c"
      },
      "source": [
        "import chardet\n",
        "f = open(\"김소월시.txt\", \"rb\").read()\n",
        "encoding = chardet.detect(f)\n",
        "print(encoding)"
      ],
      "execution_count": 6,
      "outputs": [
        {
          "output_type": "stream",
          "text": [
            "{'encoding': 'EUC-KR', 'confidence': 0.9658730158730159, 'language': 'Korean'}\n"
          ],
          "name": "stdout"
        }
      ]
    },
    {
      "cell_type": "code",
      "metadata": {
        "colab": {
          "base_uri": "https://localhost:8080/"
        },
        "id": "Rl60be7HRKEf",
        "outputId": "2defcfe1-e831-4d24-e261-70f431563550"
      },
      "source": [
        "import chardet\n",
        "f = open(\"윤동주시.txt\", \"rb\").read()\n",
        "encoding = chardet.detect(f)\n",
        "print(encoding)"
      ],
      "execution_count": 7,
      "outputs": [
        {
          "output_type": "stream",
          "text": [
            "{'encoding': 'utf-8', 'confidence': 0.99, 'language': ''}\n"
          ],
          "name": "stdout"
        }
      ]
    },
    {
      "cell_type": "code",
      "metadata": {
        "id": "DS3o9UUSR3PX"
      },
      "source": [
        "def read_data(filename, encoding='utf-8'):\n",
        "    with open(filename, 'r', encoding=encoding) as f:\n",
        "        data = f.read()\n",
        "    return data\n",
        "\n",
        "def write_data(data, filename, encoding='utf-8'): # 쓰기 함수도 정의\n",
        "    with open(filename, 'w', encoding=encoding) as f:\n",
        "        f.write(data)\n",
        "\n",
        "data = read_data('윤동주시.txt' , encoding='utf-8')"
      ],
      "execution_count": 8,
      "outputs": []
    },
    {
      "cell_type": "code",
      "metadata": {
        "colab": {
          "base_uri": "https://localhost:8080/"
        },
        "id": "xw2gHHO-TgMD",
        "outputId": "6acbb40e-c162-4a8a-fdb4-af77c8a43543"
      },
      "source": [
        "print(data)"
      ],
      "execution_count": 9,
      "outputs": [
        {
          "output_type": "stream",
          "text": [
            "1. 내일은 없다\n",
            "\n",
            "내일 내일 하기에\n",
            "\n",
            "물었더니\n",
            "\n",
            "밤을 자고 동틀 때\n",
            "\n",
            "내일이라고\n",
            "\n",
            "새날을 찾던 나는\n",
            "\n",
            "잠을 자고 돌보니\n",
            "\n",
            "그때는 내일이 아니라\n",
            "\n",
            "오늘이더라\n",
            "\n",
            "동무여!\n",
            "\n",
            "내일은 없나니……\n",
            "\n",
            "2. 흰 그림자\n",
            "황혼이 짙어지는 길모금에서\n",
            "\n",
            "하루 종일 시든 귀를 가만히 기울이면\n",
            "\n",
            "땅거미 옮겨지는 발자취 소리,\n",
            "\n",
            "발자취 소리를 들을 수 있도록\n",
            "\n",
            "나는 총명했던가요.\n",
            "\n",
            "3. 별 헤는 밤\n",
            "계절이 지나가는 하늘에는 가을로 가득 차 있습니다.\n",
            "\n",
            "나는 아무 걱정도 없이\n",
            "\n",
            "가을 속의 별들을 다 헤일 듯 합니다.\n",
            "\n",
            "가슴 속에 하나 둘 새겨지는 별을 이제 다 못헤는 것은\n",
            "\n",
            "쉬이 아침이 오는 까닭이요, 내일 밤이 남은 까닭이요,\n",
            "\n",
            "아직 나의 청춘이 다 하지 않은 까닭입니다.\n",
            "\n",
            "4. 쉽게 씌여진 시\n",
            "창밖에 밤비가 속살거려\n",
            "\n",
            "육첩방은 남의 나라,\n",
            "\n",
            "시인이란 슬픈 천명인줄 알면서도\n",
            "\n",
            "한줄 시를 적어 볼까.\n",
            "\n",
            "5. 병원\n",
            "나의 늙은 의사는 젊은이의 병을 모른다.\n",
            "\n",
            "나한테는 병이 없다고 한다.\n",
            "\n",
            "이 지나친 시련, 이 지나친 피로, 나는 성내서는 안 된다.\n",
            "\n",
            "6. 새로운 길\n",
            "내를 건너서 숲으로\n",
            "\n",
            "고개를 넘어서 마을로\n",
            "\n",
            "어제도 가고 오늘도 갈\n",
            "\n",
            "나의 길 새로운 길\n",
            "\n",
            "7. 아우의 인상화\n",
            "붉은 이마에 싸늘한 달이 서리어\n",
            "\n",
            "아우의 얼굴은 슬픈 그림이다.\n",
            "\n",
            "발걸음을 멈추어\n",
            "\n",
            "살그머니 앳된 손을 잡으며\n",
            "\n",
            "\"너는 자라 무엇이 되려니\"\n",
            "\n",
            "\"사람이 되지\"\n",
            "\n",
            "아우의 설은 진정코 설은 대답이다.\n",
            "\n",
            "8. 바람이 불어\n",
            "바람이 어디로부터 불어와\n",
            "\n",
            "어디로 불려가는 것일까.\n",
            "\n",
            "바람이 부는데\n",
            "\n",
            "내 괴로움에는 이유가 없다.\n",
            "\n",
            "9. 참회록\n",
            "파란 녹이 낀 구리거울 속에\n",
            "\n",
            "내 얼굴이 남아있는 것은\n",
            "\n",
            "어느 왕조의 유물이기에\n",
            "\n",
            "이다지도 욕될까.\n",
            "\n",
            "나는 나의 참회의 글을 한줄에 줄이자.\n",
            "\n",
            "-만 24년 1개월을\n",
            "\n",
            "무슨 기쁨을 바라 살아왔든가.\n",
            "\n",
            "내일이나 모레나 그 어느 즐거운 날에\n",
            "\n",
            "나는 또 한 줄의 참회록을 써야 한다.\n",
            "\n",
            "10. 봄\n",
            "극 중 윤동주(강하늘)가 도쿄 릿교대학 영문학 수업을 듣다 써 내려간 시로 등장한다.\n",
            "\n",
            "봄이 혈관 속에 시내처럼 흘러\n",
            "\n",
            "돌, 돌, 시내 가차운 언덕에\n",
            "\n",
            "개나리, 진달래, 노오란 배추꽃\n",
            "\n",
            "삼동을 참아온 나는\n",
            "\n",
            "풀포기처럼 피어난다.\n",
            "\n",
            "즐거운 종달새야\n",
            "\n",
            "어느 이랑에서나 즐거웁게 솟쳐라.\n",
            "\n",
            "푸르른 하늘은\n",
            "\n",
            "아른 아른 높기도 한데……\n",
            "\n",
            "11. 사랑스런 추억\n",
            "기차는 아무 새로운 소식도 없이\n",
            "\n",
            "나를 멀리 실어다 주어,\n",
            "\n",
            "봄은 다 가고 동경 교외 어느 조용한 하숙방에서,\n",
            "\n",
            "옛 거리에 남은 나를 희망과 사랑처럼 그리워한다.\n",
            "\n",
            "오늘도 기차는 몇 번이나 무의미하게 지나가고,\n",
            "\n",
            "오늘도 나는 누구를 기다려\n",
            "\n",
            "정거장 가까운 언덕에서 서성거릴 게다.\n",
            "\n",
            "아아 젊음은 오래 거기 남아 있거라.\n",
            "\n",
            "12. 공상\n",
            "나는 말없이 이 탑을 쌓고 있다.\n",
            "\n",
            "명예와 허영의 천공에다,\n",
            "\n",
            "무너질 줄도 모르고,\n",
            "\n",
            "한 층 두 층 높이 쌓는다.\n",
            "\n",
            "13. 자화상\n",
            "한 사나이가 있습니다.\n",
            "\n",
            "어쩐지 그 사나이가 미워져 돌아갑니다.\n",
            "\n",
            "돌아가다 생각하니 그 사나이가 가엾어집니다.\n",
            "\n",
            "도로 가 들여다보니 사나이는 그대로 있습니다.\n",
            "\n",
            "다시 그 사나이가 미워져 돌아갑니다.\n",
            "\n",
            "돌아가다 생각하니 그 사나이가 그리워집니다.\n"
          ],
          "name": "stdout"
        }
      ]
    },
    {
      "cell_type": "code",
      "metadata": {
        "colab": {
          "base_uri": "https://localhost:8080/"
        },
        "id": "5xCMd1BlSiYo",
        "outputId": "443bccd2-ba38-44b9-c06e-fd4f7827dec2"
      },
      "source": [
        "print(len(data)) # 500"
      ],
      "execution_count": 10,
      "outputs": [
        {
          "output_type": "stream",
          "text": [
            "1531\n"
          ],
          "name": "stdout"
        }
      ]
    },
    {
      "cell_type": "code",
      "metadata": {
        "colab": {
          "base_uri": "https://localhost:8080/"
        },
        "id": "fMsmxGxRSmiw",
        "outputId": "2dbc0e64-a200-4778-d554-9f7603097bb7"
      },
      "source": [
        "import rhinoMorph\n",
        "rn = rhinoMorph.startRhino()\n",
        "\n",
        "morphed_data = rhinoMorph.onlyMorph_list(rn, data, pos=['NNG', 'NNP', 'VV', 'VA', 'XR', 'IC', 'MM', 'MAG', 'MAJ'], eomi=True)\n",
        "morphed_data = ' '.join([str(elem) for elem in morphed_data])\n",
        "\n",
        "write_data(morphed_data, '윤동주시_morphed.txt', encoding='utf-8')"
      ],
      "execution_count": 11,
      "outputs": [
        {
          "output_type": "stream",
          "text": [
            "filepath:  /usr/local/lib/python3.7/dist-packages\n",
            "classpath:  /usr/local/lib/python3.7/dist-packages/rhinoMorph/lib/rhino.jar\n",
            "RHINO started!\n"
          ],
          "name": "stdout"
        }
      ]
    },
    {
      "cell_type": "code",
      "metadata": {
        "colab": {
          "base_uri": "https://localhost:8080/"
        },
        "id": "g4ZbT9oGTWB4",
        "outputId": "8869db0c-3f77-4c46-d87d-fc65ba1cf62b"
      },
      "source": [
        "data = read_data('윤동주시_morphed.txt', encoding='utf-8')\n",
        "print(len(data.split(' '))) "
      ],
      "execution_count": 12,
      "outputs": [
        {
          "output_type": "stream",
          "text": [
            "326\n"
          ],
          "name": "stdout"
        }
      ]
    },
    {
      "cell_type": "code",
      "metadata": {
        "id": "pEW-PXa3TcSk"
      },
      "source": [
        "data_text = [line[0] for line in data] # 데이터 본문"
      ],
      "execution_count": 13,
      "outputs": []
    },
    {
      "cell_type": "code",
      "metadata": {
        "colab": {
          "base_uri": "https://localhost:8080/"
        },
        "id": "s4ZfovsrUUqj",
        "outputId": "7cefda1c-0c17-4060-ead5-a6ca4e610918"
      },
      "source": [
        "from collections import Counter\n",
        "\n",
        "mergedTextList = morphed_data.split(' ') # 결합된 요소들을 공백 단위로 분리하여 하나의 리스트로 만든다\n",
        "print('mergedTextList:', mergedTextList)\n",
        "\n",
        "wordInfo = Counter(mergedTextList) # 하나의 리스트로 묶인 분리된 요소들을 카운트한다 (내림차순)\n",
        "print('wordInfo:', wordInfo)\n",
        "\n"
      ],
      "execution_count": 14,
      "outputs": [
        {
          "output_type": "stream",
          "text": [
            "mergedTextList: ['내일', '없다', '내일', '내일', '하다', '묻다', '밤', '동트다', '때', '내일', '새날', '찾다', '잠', '돌보다', '그때', '내일', '오늘', '동무', '내일', '없다', '희다', '그림자', '황혼', '짙다', '길', '모금', '하루', '종일', '시들다', '귀', '가만히', '기울이다', '땅거미', '옮기다', '발자취', '소리', '발자취', '소리', '듣다', '있다', '총명', '별', '헤다', '밤', '계절', '지나가다', '하늘', '가을', '가득', '차', '아무', '걱정', '없이', '가을', '속의', '별', '다', '헤이다', '하다', '가슴', '속', '새기다', '이제', '다', '못', '헤다', '쉬이', '아침', '오다', '까닭', '내일', '밤', '남다', '까닭', '아직', '청춘', '다', '하다', '까닭', '쉽다', '씌다', '여진', '시', '창밖', '밤비', '속살거리다', '육첩방', '남', '나라', '시인', '슬프다', '천명인', '알다', '하다', '적다', '병원', '늙다', '의사', '젊은이', '병', '모르다', '병', '없다', '이', '지나치다', '시련', '이', '지나치다', '피로', '성내다', '서다', '안', '되다', '새롭다', '길', '내', '건너서다', '숲', '고개', '넘다', '마을', '어제', '가다', '오늘', '가다', '길', '새롭다', '길', '아우', '인상화', '붉은', '이마', '싸늘', '달이다', '서리다', '아우', '얼굴', '슬프다', '그림', '발걸음', '멈추다', '살그머니', '앳되다', '손', '잡다', '자다', '되려', '사람', '되다', '아우', '진정코', '대답', '바람', '불다', '바람', '불어오다', '불리다', '바람', '부', '괴로움', '이유', '없다', '참회록', '파란', '녹이다', '끼이다', '구리거울', '속', '얼굴', '남다', '어느', '왕조', '유물', '이다지', '욕', '되다', '참회', '글', '하다', '주다', '줄이다', '만', '무슨', '기쁨', '바라다', '살아오다', '내일', '모레', '그', '어느', '즐겁다', '날', '또', '하다', '참회록', '쓰다', '봄', '극', '윤동주', '강하다', '늘다', '도쿄', '릿교', '대학', '영문학', '수업', '듣다', '써', '내려가다', '시', '등장', '봄', '혈관', '속', '시내', '흐르다', '돌', '돌', '시내', '가차', '울다', '언덕', '개나리', '진달래', '노랗다', '배추', '꽃', '동', '참다', '풀포기', '피어나다', '즐겁다', '종달새', '어느', '이랑', '즐거웁다', '솟다', '푸르르다', '하늘', '높다', '한데', '사랑', '추억', '기차다', '아무', '새롭다', '소식', '없이', '멀리', '싣다', '주다', '봄', '다', '가다', '동경', '교외', '어느', '조용', '하숙방', '옛', '거리', '남다', '희망', '사랑', '그립다', '오늘', '기차다', '무의미', '하다', '지나가다', '오늘', '날다', '기다리다', '정거장', '가깝다', '언덕', '서성거리다', '아아', '젊음', '오래', '남다', '공상', '말없이', '이', '탑', '쌓다', '있다', '명예', '허영', '천공', '무너지다', '모르다', '하다', '층', '두', '층', '높이', '쌓다', '자화상', '한', '사나이', '어쩐지', '그', '사나이', '밉다', '돌아가다', '돌아가다', '생각', '그', '사나이', '가엾다', '도로', '가', '들여다보다', '사나이', '그대로', '다시', '그', '사나이', '밉다', '돌아가다', '돌아가다', '생각', '그', '사나이', '그립다']\n",
            "wordInfo: Counter({'내일': 8, '하다': 8, '사나이': 6, '그': 5, '없다': 4, '오늘': 4, '길': 4, '다': 4, '남다': 4, '어느': 4, '돌아가다': 4, '밤': 3, '속': 3, '까닭': 3, '이': 3, '되다': 3, '새롭다': 3, '가다': 3, '아우': 3, '바람': 3, '봄': 3, '발자취': 2, '소리': 2, '듣다': 2, '있다': 2, '별': 2, '헤다': 2, '지나가다': 2, '하늘': 2, '가을': 2, '아무': 2, '없이': 2, '시': 2, '슬프다': 2, '병': 2, '모르다': 2, '지나치다': 2, '얼굴': 2, '참회록': 2, '주다': 2, '즐겁다': 2, '시내': 2, '돌': 2, '언덕': 2, '사랑': 2, '기차다': 2, '그립다': 2, '쌓다': 2, '층': 2, '밉다': 2, '생각': 2, '묻다': 1, '동트다': 1, '때': 1, '새날': 1, '찾다': 1, '잠': 1, '돌보다': 1, '그때': 1, '동무': 1, '희다': 1, '그림자': 1, '황혼': 1, '짙다': 1, '모금': 1, '하루': 1, '종일': 1, '시들다': 1, '귀': 1, '가만히': 1, '기울이다': 1, '땅거미': 1, '옮기다': 1, '총명': 1, '계절': 1, '가득': 1, '차': 1, '걱정': 1, '속의': 1, '헤이다': 1, '가슴': 1, '새기다': 1, '이제': 1, '못': 1, '쉬이': 1, '아침': 1, '오다': 1, '아직': 1, '청춘': 1, '쉽다': 1, '씌다': 1, '여진': 1, '창밖': 1, '밤비': 1, '속살거리다': 1, '육첩방': 1, '남': 1, '나라': 1, '시인': 1, '천명인': 1, '알다': 1, '적다': 1, '병원': 1, '늙다': 1, '의사': 1, '젊은이': 1, '시련': 1, '피로': 1, '성내다': 1, '서다': 1, '안': 1, '내': 1, '건너서다': 1, '숲': 1, '고개': 1, '넘다': 1, '마을': 1, '어제': 1, '인상화': 1, '붉은': 1, '이마': 1, '싸늘': 1, '달이다': 1, '서리다': 1, '그림': 1, '발걸음': 1, '멈추다': 1, '살그머니': 1, '앳되다': 1, '손': 1, '잡다': 1, '자다': 1, '되려': 1, '사람': 1, '진정코': 1, '대답': 1, '불다': 1, '불어오다': 1, '불리다': 1, '부': 1, '괴로움': 1, '이유': 1, '파란': 1, '녹이다': 1, '끼이다': 1, '구리거울': 1, '왕조': 1, '유물': 1, '이다지': 1, '욕': 1, '참회': 1, '글': 1, '줄이다': 1, '만': 1, '무슨': 1, '기쁨': 1, '바라다': 1, '살아오다': 1, '모레': 1, '날': 1, '또': 1, '쓰다': 1, '극': 1, '윤동주': 1, '강하다': 1, '늘다': 1, '도쿄': 1, '릿교': 1, '대학': 1, '영문학': 1, '수업': 1, '써': 1, '내려가다': 1, '등장': 1, '혈관': 1, '흐르다': 1, '가차': 1, '울다': 1, '개나리': 1, '진달래': 1, '노랗다': 1, '배추': 1, '꽃': 1, '동': 1, '참다': 1, '풀포기': 1, '피어나다': 1, '종달새': 1, '이랑': 1, '즐거웁다': 1, '솟다': 1, '푸르르다': 1, '높다': 1, '한데': 1, '추억': 1, '소식': 1, '멀리': 1, '싣다': 1, '동경': 1, '교외': 1, '조용': 1, '하숙방': 1, '옛': 1, '거리': 1, '희망': 1, '무의미': 1, '날다': 1, '기다리다': 1, '정거장': 1, '가깝다': 1, '서성거리다': 1, '아아': 1, '젊음': 1, '오래': 1, '공상': 1, '말없이': 1, '탑': 1, '명예': 1, '허영': 1, '천공': 1, '무너지다': 1, '두': 1, '높이': 1, '자화상': 1, '한': 1, '어쩐지': 1, '가엾다': 1, '도로': 1, '가': 1, '들여다보다': 1, '그대로': 1, '다시': 1})\n"
          ],
          "name": "stdout"
        }
      ]
    },
    {
      "cell_type": "code",
      "metadata": {
        "colab": {
          "base_uri": "https://localhost:8080/"
        },
        "id": "17lTx8a1bTTK",
        "outputId": "05e4bc81-7987-456a-eb59-f60f304f66d9"
      },
      "source": [
        "import numpy as np\n",
        "freq = np.array(sorted(wordInfo.values(), reverse= True))\n",
        "\n",
        "\n",
        "freq_sum = len(data.split(' '))\n",
        "print(f'윤동주 단어빈도 종합:{freq_sum}')\n",
        "print(f'\\n윤동주 고빈도 단어:', sorted(wordInfo, key=wordInfo.get, reverse=True))\n",
        "print(f'윤동주 고빈도 단어비율: ',(list(np.round(freq/freq_sum*100, 2))))\n"
      ],
      "execution_count": 15,
      "outputs": [
        {
          "output_type": "stream",
          "text": [
            "윤동주 단어빈도 종합:326\n",
            "\n",
            "윤동주 고빈도 단어: ['내일', '하다', '사나이', '그', '없다', '오늘', '길', '다', '남다', '어느', '돌아가다', '밤', '속', '까닭', '이', '되다', '새롭다', '가다', '아우', '바람', '봄', '발자취', '소리', '듣다', '있다', '별', '헤다', '지나가다', '하늘', '가을', '아무', '없이', '시', '슬프다', '병', '모르다', '지나치다', '얼굴', '참회록', '주다', '즐겁다', '시내', '돌', '언덕', '사랑', '기차다', '그립다', '쌓다', '층', '밉다', '생각', '묻다', '동트다', '때', '새날', '찾다', '잠', '돌보다', '그때', '동무', '희다', '그림자', '황혼', '짙다', '모금', '하루', '종일', '시들다', '귀', '가만히', '기울이다', '땅거미', '옮기다', '총명', '계절', '가득', '차', '걱정', '속의', '헤이다', '가슴', '새기다', '이제', '못', '쉬이', '아침', '오다', '아직', '청춘', '쉽다', '씌다', '여진', '창밖', '밤비', '속살거리다', '육첩방', '남', '나라', '시인', '천명인', '알다', '적다', '병원', '늙다', '의사', '젊은이', '시련', '피로', '성내다', '서다', '안', '내', '건너서다', '숲', '고개', '넘다', '마을', '어제', '인상화', '붉은', '이마', '싸늘', '달이다', '서리다', '그림', '발걸음', '멈추다', '살그머니', '앳되다', '손', '잡다', '자다', '되려', '사람', '진정코', '대답', '불다', '불어오다', '불리다', '부', '괴로움', '이유', '파란', '녹이다', '끼이다', '구리거울', '왕조', '유물', '이다지', '욕', '참회', '글', '줄이다', '만', '무슨', '기쁨', '바라다', '살아오다', '모레', '날', '또', '쓰다', '극', '윤동주', '강하다', '늘다', '도쿄', '릿교', '대학', '영문학', '수업', '써', '내려가다', '등장', '혈관', '흐르다', '가차', '울다', '개나리', '진달래', '노랗다', '배추', '꽃', '동', '참다', '풀포기', '피어나다', '종달새', '이랑', '즐거웁다', '솟다', '푸르르다', '높다', '한데', '추억', '소식', '멀리', '싣다', '동경', '교외', '조용', '하숙방', '옛', '거리', '희망', '무의미', '날다', '기다리다', '정거장', '가깝다', '서성거리다', '아아', '젊음', '오래', '공상', '말없이', '탑', '명예', '허영', '천공', '무너지다', '두', '높이', '자화상', '한', '어쩐지', '가엾다', '도로', '가', '들여다보다', '그대로', '다시']\n",
            "윤동주 고빈도 단어비율:  [2.45, 2.45, 1.84, 1.53, 1.23, 1.23, 1.23, 1.23, 1.23, 1.23, 1.23, 0.92, 0.92, 0.92, 0.92, 0.92, 0.92, 0.92, 0.92, 0.92, 0.92, 0.61, 0.61, 0.61, 0.61, 0.61, 0.61, 0.61, 0.61, 0.61, 0.61, 0.61, 0.61, 0.61, 0.61, 0.61, 0.61, 0.61, 0.61, 0.61, 0.61, 0.61, 0.61, 0.61, 0.61, 0.61, 0.61, 0.61, 0.61, 0.61, 0.61, 0.31, 0.31, 0.31, 0.31, 0.31, 0.31, 0.31, 0.31, 0.31, 0.31, 0.31, 0.31, 0.31, 0.31, 0.31, 0.31, 0.31, 0.31, 0.31, 0.31, 0.31, 0.31, 0.31, 0.31, 0.31, 0.31, 0.31, 0.31, 0.31, 0.31, 0.31, 0.31, 0.31, 0.31, 0.31, 0.31, 0.31, 0.31, 0.31, 0.31, 0.31, 0.31, 0.31, 0.31, 0.31, 0.31, 0.31, 0.31, 0.31, 0.31, 0.31, 0.31, 0.31, 0.31, 0.31, 0.31, 0.31, 0.31, 0.31, 0.31, 0.31, 0.31, 0.31, 0.31, 0.31, 0.31, 0.31, 0.31, 0.31, 0.31, 0.31, 0.31, 0.31, 0.31, 0.31, 0.31, 0.31, 0.31, 0.31, 0.31, 0.31, 0.31, 0.31, 0.31, 0.31, 0.31, 0.31, 0.31, 0.31, 0.31, 0.31, 0.31, 0.31, 0.31, 0.31, 0.31, 0.31, 0.31, 0.31, 0.31, 0.31, 0.31, 0.31, 0.31, 0.31, 0.31, 0.31, 0.31, 0.31, 0.31, 0.31, 0.31, 0.31, 0.31, 0.31, 0.31, 0.31, 0.31, 0.31, 0.31, 0.31, 0.31, 0.31, 0.31, 0.31, 0.31, 0.31, 0.31, 0.31, 0.31, 0.31, 0.31, 0.31, 0.31, 0.31, 0.31, 0.31, 0.31, 0.31, 0.31, 0.31, 0.31, 0.31, 0.31, 0.31, 0.31, 0.31, 0.31, 0.31, 0.31, 0.31, 0.31, 0.31, 0.31, 0.31, 0.31, 0.31, 0.31, 0.31, 0.31, 0.31, 0.31, 0.31, 0.31, 0.31, 0.31, 0.31, 0.31, 0.31, 0.31, 0.31, 0.31, 0.31, 0.31, 0.31, 0.31, 0.31, 0.31, 0.31, 0.31, 0.31]\n"
          ],
          "name": "stdout"
        }
      ]
    },
    {
      "cell_type": "code",
      "metadata": {
        "colab": {
          "base_uri": "https://localhost:8080/",
          "height": 357
        },
        "id": "_2ermpQBchBK",
        "outputId": "ce85a518-9df2-4970-d8d3-5264dfdf7dc4"
      },
      "source": [
        "sorted_keys = sorted(wordInfo, key=wordInfo.get, reverse=True)\n",
        "sorted_values = list(np.round(freq/freq_sum*100, 2))\n",
        "\n",
        "import matplotlib.pyplot as plt\n",
        "fig = plt.figure(figsize=(10, 5))\n",
        "\n",
        "plt.title('=== 윤동주 단어비율 ===',fontsize=20,loc='left', pad=20)\n",
        "plt.bar(range(20), sorted_values[:20])\n",
        "plt.xticks(range(20), sorted_keys[:20])\n",
        "plt.show()"
      ],
      "execution_count": 27,
      "outputs": [
        {
          "output_type": "display_data",
          "data": {
            "image/png": "[encoded data removed]",
            "text/plain": [
              "<Figure size 720x360 with 1 Axes>"
            ]
          },
          "metadata": {
            "tags": [],
            "image/png": {
              "width": 592,
              "height": 340
            },
            "needs_background": "light"
          }
        }
      ]
    },
    {
      "cell_type": "code",
      "metadata": {
        "id": "pYMzot6sd629"
      },
      "source": [
        ""
      ],
      "execution_count": 16,
      "outputs": []
    }
  ]
}