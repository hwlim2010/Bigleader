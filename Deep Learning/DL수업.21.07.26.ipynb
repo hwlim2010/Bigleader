{
 "cells": [
  {
   "cell_type": "code",
   "execution_count": 6,
   "id": "2d8c5c33",
   "metadata": {
    "ExecuteTime": {
     "end_time": "2021-07-26T01:14:24.760822Z",
     "start_time": "2021-07-26T01:14:24.753839Z"
    }
   },
   "outputs": [],
   "source": [
    "import tensorflow as tf"
   ]
  },
  {
   "cell_type": "code",
   "execution_count": 7,
   "id": "a036579f",
   "metadata": {
    "ExecuteTime": {
     "end_time": "2021-07-26T01:14:34.609878Z",
     "start_time": "2021-07-26T01:14:34.590896Z"
    }
   },
   "outputs": [
    {
     "data": {
      "text/plain": [
       "'2.5.0'"
      ]
     },
     "execution_count": 7,
     "metadata": {},
     "output_type": "execute_result"
    }
   ],
   "source": [
    "tf.__version__"
   ]
  },
  {
   "cell_type": "markdown",
   "id": "5e4beb18",
   "metadata": {},
   "source": [
    "# 신경망을 위한 데이터 표현"
   ]
  },
  {
   "cell_type": "markdown",
   "id": "f5a84f5c",
   "metadata": {},
   "source": [
    "넘파이에서는 float32나 float64타입의 숫자가 스칼라 텐서"
   ]
  },
  {
   "cell_type": "code",
   "execution_count": 12,
   "id": "91463736",
   "metadata": {
    "ExecuteTime": {
     "end_time": "2021-07-26T01:36:50.639175Z",
     "start_time": "2021-07-26T01:36:50.629200Z"
    }
   },
   "outputs": [
    {
     "data": {
      "text/plain": [
       "[1, 2, 3, 4, 5, 3, 4, 5, 6, 7]"
      ]
     },
     "execution_count": 12,
     "metadata": {},
     "output_type": "execute_result"
    }
   ],
   "source": [
    "[1,2,3,4,5] + [3,4,5,6,7]"
   ]
  },
  {
   "cell_type": "code",
   "execution_count": 8,
   "id": "3cb494b6",
   "metadata": {
    "ExecuteTime": {
     "end_time": "2021-07-26T01:34:55.419937Z",
     "start_time": "2021-07-26T01:34:55.409968Z"
    }
   },
   "outputs": [],
   "source": [
    "import numpy as np"
   ]
  },
  {
   "cell_type": "code",
   "execution_count": 13,
   "id": "0a6e17a8",
   "metadata": {
    "ExecuteTime": {
     "end_time": "2021-07-26T01:37:17.231137Z",
     "start_time": "2021-07-26T01:37:17.216178Z"
    }
   },
   "outputs": [
    {
     "data": {
      "text/plain": [
       "array([ 4,  6,  8, 10, 12])"
      ]
     },
     "execution_count": 13,
     "metadata": {},
     "output_type": "execute_result"
    }
   ],
   "source": [
    "np.array([1,2,3,4,5]) + np.array([3,4,5,6,7])"
   ]
  },
  {
   "cell_type": "code",
   "execution_count": 14,
   "id": "a6311a9d",
   "metadata": {
    "ExecuteTime": {
     "end_time": "2021-07-26T01:37:43.976240Z",
     "start_time": "2021-07-26T01:37:43.966298Z"
    }
   },
   "outputs": [],
   "source": [
    "x = np.array(12)"
   ]
  },
  {
   "cell_type": "code",
   "execution_count": 15,
   "id": "e1ee1094",
   "metadata": {
    "ExecuteTime": {
     "end_time": "2021-07-26T01:37:48.401365Z",
     "start_time": "2021-07-26T01:37:48.392391Z"
    }
   },
   "outputs": [
    {
     "data": {
      "text/plain": [
       "array(12)"
      ]
     },
     "execution_count": 15,
     "metadata": {},
     "output_type": "execute_result"
    }
   ],
   "source": [
    "x"
   ]
  },
  {
   "cell_type": "code",
   "execution_count": 16,
   "id": "173b5fa1",
   "metadata": {
    "ExecuteTime": {
     "end_time": "2021-07-26T01:37:53.559747Z",
     "start_time": "2021-07-26T01:37:53.540765Z"
    }
   },
   "outputs": [
    {
     "data": {
      "text/plain": [
       "0"
      ]
     },
     "execution_count": 16,
     "metadata": {},
     "output_type": "execute_result"
    }
   ],
   "source": [
    "x.ndim"
   ]
  },
  {
   "cell_type": "code",
   "execution_count": 20,
   "id": "d0609bce",
   "metadata": {
    "ExecuteTime": {
     "end_time": "2021-07-26T01:39:35.664897Z",
     "start_time": "2021-07-26T01:39:35.657917Z"
    }
   },
   "outputs": [],
   "source": [
    "x = np.array([12])\n",
    "# 제일 앞에 있는 괄호가 하나가 있으면 1차원.."
   ]
  },
  {
   "cell_type": "code",
   "execution_count": 19,
   "id": "37cb28ed",
   "metadata": {
    "ExecuteTime": {
     "end_time": "2021-07-26T01:39:03.763582Z",
     "start_time": "2021-07-26T01:39:03.743672Z"
    }
   },
   "outputs": [
    {
     "data": {
      "text/plain": [
       "1"
      ]
     },
     "execution_count": 19,
     "metadata": {},
     "output_type": "execute_result"
    }
   ],
   "source": [
    "x.ndim"
   ]
  },
  {
   "cell_type": "code",
   "execution_count": 21,
   "id": "ba69d5ec",
   "metadata": {
    "ExecuteTime": {
     "end_time": "2021-07-26T01:39:51.344135Z",
     "start_time": "2021-07-26T01:39:51.333164Z"
    }
   },
   "outputs": [],
   "source": [
    "x = np.array([[12]])\n"
   ]
  },
  {
   "cell_type": "code",
   "execution_count": 22,
   "id": "b579324a",
   "metadata": {
    "ExecuteTime": {
     "end_time": "2021-07-26T01:39:59.717491Z",
     "start_time": "2021-07-26T01:39:59.695546Z"
    }
   },
   "outputs": [
    {
     "data": {
      "text/plain": [
       "2"
      ]
     },
     "execution_count": 22,
     "metadata": {},
     "output_type": "execute_result"
    }
   ],
   "source": [
    "x.ndim"
   ]
  },
  {
   "cell_type": "code",
   "execution_count": 23,
   "id": "e6ec979b",
   "metadata": {
    "ExecuteTime": {
     "end_time": "2021-07-26T01:40:39.065740Z",
     "start_time": "2021-07-26T01:40:39.057797Z"
    }
   },
   "outputs": [],
   "source": [
    "x = np.array([[12],[0]])"
   ]
  },
  {
   "cell_type": "code",
   "execution_count": 24,
   "id": "a783b1d3",
   "metadata": {
    "ExecuteTime": {
     "end_time": "2021-07-26T01:40:43.136043Z",
     "start_time": "2021-07-26T01:40:43.117095Z"
    }
   },
   "outputs": [
    {
     "data": {
      "text/plain": [
       "2"
      ]
     },
     "execution_count": 24,
     "metadata": {},
     "output_type": "execute_result"
    }
   ],
   "source": [
    "x.ndim"
   ]
  },
  {
   "cell_type": "code",
   "execution_count": 25,
   "id": "af4bf665",
   "metadata": {
    "ExecuteTime": {
     "end_time": "2021-07-26T01:41:57.794087Z",
     "start_time": "2021-07-26T01:41:57.773142Z"
    }
   },
   "outputs": [],
   "source": [
    "x = np.array([[[12,13,14],\n",
    "             [15,16,17],\n",
    "             [18,19,20]]])\n",
    "# 끝에 괄호 개수만 보면 차원 알수있다"
   ]
  },
  {
   "cell_type": "code",
   "execution_count": 26,
   "id": "c466c005",
   "metadata": {
    "ExecuteTime": {
     "end_time": "2021-07-26T01:42:00.942086Z",
     "start_time": "2021-07-26T01:42:00.921140Z"
    }
   },
   "outputs": [
    {
     "data": {
      "text/plain": [
       "2"
      ]
     },
     "execution_count": 26,
     "metadata": {},
     "output_type": "execute_result"
    }
   ],
   "source": [
    "x.ndim"
   ]
  },
  {
   "cell_type": "code",
   "execution_count": 27,
   "id": "772d89ae",
   "metadata": {
    "ExecuteTime": {
     "end_time": "2021-07-26T01:44:05.401009Z",
     "start_time": "2021-07-26T01:44:05.388074Z"
    }
   },
   "outputs": [],
   "source": [
    "x = np.array([\n",
    "            [[12,13,14],\n",
    "             [15,16,17],\n",
    "             [18,19,20]],\n",
    "             [[12,13,14],\n",
    "             [15,16,17],\n",
    "             [18,19,20]],\n",
    "             [[12,13,14],\n",
    "             [15,16,17],\n",
    "             [18,19,20]]\n",
    "])\n",
    "# 끝에 괄호 개수만 보면 차원 알수있다"
   ]
  },
  {
   "cell_type": "code",
   "execution_count": 28,
   "id": "7cf55dac",
   "metadata": {
    "ExecuteTime": {
     "end_time": "2021-07-26T01:44:07.961531Z",
     "start_time": "2021-07-26T01:44:07.949528Z"
    }
   },
   "outputs": [
    {
     "data": {
      "text/plain": [
       "3"
      ]
     },
     "execution_count": 28,
     "metadata": {},
     "output_type": "execute_result"
    }
   ],
   "source": [
    "x.ndim"
   ]
  },
  {
   "cell_type": "markdown",
   "id": "e64d75f7",
   "metadata": {},
   "source": [
    "- Rank 0 Tensor : scalar\n",
    "- Rank 1 Tensor : vector\n",
    "- Rank 2 Tensor : matrix\n",
    "- Rank 3 Tensor "
   ]
  },
  {
   "cell_type": "code",
   "execution_count": 29,
   "id": "9ffc6b56",
   "metadata": {
    "ExecuteTime": {
     "end_time": "2021-07-26T01:50:41.184999Z",
     "start_time": "2021-07-26T01:50:41.171037Z"
    }
   },
   "outputs": [],
   "source": [
    "from tensorflow import keras\n",
    "from tensorflow.keras.datasets import mnist"
   ]
  },
  {
   "cell_type": "code",
   "execution_count": 31,
   "id": "169f8744",
   "metadata": {
    "ExecuteTime": {
     "end_time": "2021-07-26T01:55:46.756621Z",
     "start_time": "2021-07-26T01:55:46.267357Z"
    }
   },
   "outputs": [],
   "source": [
    "(train_images, train_labels), (test_images, test_labels) = mnist.load_data()"
   ]
  },
  {
   "cell_type": "code",
   "execution_count": 33,
   "id": "6589e1d2",
   "metadata": {
    "ExecuteTime": {
     "end_time": "2021-07-26T01:55:57.571662Z",
     "start_time": "2021-07-26T01:55:57.552712Z"
    }
   },
   "outputs": [
    {
     "data": {
      "text/plain": [
       "3"
      ]
     },
     "execution_count": 33,
     "metadata": {},
     "output_type": "execute_result"
    }
   ],
   "source": [
    "train_images.ndim"
   ]
  },
  {
   "cell_type": "code",
   "execution_count": 34,
   "id": "fe8b8418",
   "metadata": {
    "ExecuteTime": {
     "end_time": "2021-07-26T01:56:16.000558Z",
     "start_time": "2021-07-26T01:56:15.977586Z"
    }
   },
   "outputs": [
    {
     "data": {
      "text/plain": [
       "dtype('uint8')"
      ]
     },
     "execution_count": 34,
     "metadata": {},
     "output_type": "execute_result"
    }
   ],
   "source": [
    "train_images.dtype"
   ]
  },
  {
   "cell_type": "code",
   "execution_count": 35,
   "id": "662eee38",
   "metadata": {
    "ExecuteTime": {
     "end_time": "2021-07-26T02:00:30.324680Z",
     "start_time": "2021-07-26T02:00:30.301741Z"
    }
   },
   "outputs": [
    {
     "data": {
      "text/plain": [
       "(60000, 28, 28)"
      ]
     },
     "execution_count": 35,
     "metadata": {},
     "output_type": "execute_result"
    }
   ],
   "source": [
    "train_images.shape"
   ]
  },
  {
   "cell_type": "code",
   "execution_count": 37,
   "id": "9231e4fe",
   "metadata": {
    "ExecuteTime": {
     "end_time": "2021-07-26T02:03:10.135848Z",
     "start_time": "2021-07-26T02:03:10.115903Z"
    }
   },
   "outputs": [],
   "source": [
    "digit = train_images[4]"
   ]
  },
  {
   "cell_type": "code",
   "execution_count": 38,
   "id": "1aee3a17",
   "metadata": {
    "ExecuteTime": {
     "end_time": "2021-07-26T02:06:08.753845Z",
     "start_time": "2021-07-26T02:06:07.732228Z"
    }
   },
   "outputs": [
    {
     "data": {
      "image/png": "[encoded data removed]",
      "text/plain": [
       "<Figure size 432x288 with 1 Axes>"
      ]
     },
     "metadata": {
      "needs_background": "light"
     },
     "output_type": "display_data"
    }
   ],
   "source": [
    "import matplotlib.pyplot as plt\n",
    "plt.imshow(digit, cmap = 'gray')\n",
    "plt.show()"
   ]
  },
  {
   "cell_type": "code",
   "execution_count": 39,
   "id": "3023b5a3",
   "metadata": {
    "ExecuteTime": {
     "end_time": "2021-07-26T02:07:31.986940Z",
     "start_time": "2021-07-26T02:07:31.969952Z"
    },
    "scrolled": true
   },
   "outputs": [
    {
     "data": {
      "text/plain": [
       "array([[  0,   0,   0,   0,   0,   0,   0,   0,   0,   0,   0,   0,   0,\n",
       "          0,   0,   0,   0,   0,   0,   0,   0,   0,   0,   0,   0,   0,\n",
       "          0,   0],\n",
       "       [  0,   0,   0,   0,   0,   0,   0,   0,   0,   0,   0,   0,   0,\n",
       "          0,   0,   0,   0,   0,   0,   0,   0,   0,   0,   0,   0,   0,\n",
       "          0,   0],\n",
       "       [  0,   0,   0,   0,   0,   0,   0,   0,   0,   0,   0,   0,   0,\n",
       "          0,   0,   0,   0,   0,   0,   0,   0,   0,   0,   0,   0,   0,\n",
       "          0,   0],\n",
       "       [  0,   0,   0,   0,   0,   0,   0,   0,   0,   0,   0,   0,   0,\n",
       "          0,   0,   0,   0,   0,   0,   0,   0,   0,   0,   0,   0,   0,\n",
       "          0,   0],\n",
       "       [  0,   0,   0,   0,   0,   0,   0,   0,   0,   0,   0,   0,   0,\n",
       "          0,   0,   0,   0,   0,   0,   0,   0,   0,   0,   0,   0,   0,\n",
       "          0,   0],\n",
       "       [  0,   0,   0,   0,   0,   0,   0,   0,   0,   0,   0,   0,   0,\n",
       "          0,   0,   0,   0,   0,   0,   0,   0,   0,   0,   0,   0,   0,\n",
       "          0,   0],\n",
       "       [  0,   0,   0,   0,   0,   0,   0,   0,   0,   0,   0,   0,   0,\n",
       "          0,   0,   0,   0,   0,   0,   0,   0,   0,   0,   0,   0,   0,\n",
       "          0,   0],\n",
       "       [  0,   0,   0,   0,   0,   0,   0,   0,   0,   0,   0,   0,  55,\n",
       "        148, 210, 253, 253, 113,  87, 148,  55,   0,   0,   0,   0,   0,\n",
       "          0,   0],\n",
       "       [  0,   0,   0,   0,   0,   0,   0,   0,   0,   0,   0,  87, 232,\n",
       "        252, 253, 189, 210, 252, 252, 253, 168,   0,   0,   0,   0,   0,\n",
       "          0,   0],\n",
       "       [  0,   0,   0,   0,   0,   0,   0,   0,   0,   4,  57, 242, 252,\n",
       "        190,  65,   5,  12, 182, 252, 253, 116,   0,   0,   0,   0,   0,\n",
       "          0,   0],\n",
       "       [  0,   0,   0,   0,   0,   0,   0,   0,   0,  96, 252, 252, 183,\n",
       "         14,   0,   0,  92, 252, 252, 225,  21,   0,   0,   0,   0,   0,\n",
       "          0,   0],\n",
       "       [  0,   0,   0,   0,   0,   0,   0,   0, 132, 253, 252, 146,  14,\n",
       "          0,   0,   0, 215, 252, 252,  79,   0,   0,   0,   0,   0,   0,\n",
       "          0,   0],\n",
       "       [  0,   0,   0,   0,   0,   0,   0, 126, 253, 247, 176,   9,   0,\n",
       "          0,   8,  78, 245, 253, 129,   0,   0,   0,   0,   0,   0,   0,\n",
       "          0,   0],\n",
       "       [  0,   0,   0,   0,   0,   0,  16, 232, 252, 176,   0,   0,   0,\n",
       "         36, 201, 252, 252, 169,  11,   0,   0,   0,   0,   0,   0,   0,\n",
       "          0,   0],\n",
       "       [  0,   0,   0,   0,   0,   0,  22, 252, 252,  30,  22, 119, 197,\n",
       "        241, 253, 252, 251,  77,   0,   0,   0,   0,   0,   0,   0,   0,\n",
       "          0,   0],\n",
       "       [  0,   0,   0,   0,   0,   0,  16, 231, 252, 253, 252, 252, 252,\n",
       "        226, 227, 252, 231,   0,   0,   0,   0,   0,   0,   0,   0,   0,\n",
       "          0,   0],\n",
       "       [  0,   0,   0,   0,   0,   0,   0,  55, 235, 253, 217, 138,  42,\n",
       "         24, 192, 252, 143,   0,   0,   0,   0,   0,   0,   0,   0,   0,\n",
       "          0,   0],\n",
       "       [  0,   0,   0,   0,   0,   0,   0,   0,   0,   0,   0,   0,   0,\n",
       "         62, 255, 253, 109,   0,   0,   0,   0,   0,   0,   0,   0,   0,\n",
       "          0,   0],\n",
       "       [  0,   0,   0,   0,   0,   0,   0,   0,   0,   0,   0,   0,   0,\n",
       "         71, 253, 252,  21,   0,   0,   0,   0,   0,   0,   0,   0,   0,\n",
       "          0,   0],\n",
       "       [  0,   0,   0,   0,   0,   0,   0,   0,   0,   0,   0,   0,   0,\n",
       "          0, 253, 252,  21,   0,   0,   0,   0,   0,   0,   0,   0,   0,\n",
       "          0,   0],\n",
       "       [  0,   0,   0,   0,   0,   0,   0,   0,   0,   0,   0,   0,   0,\n",
       "         71, 253, 252,  21,   0,   0,   0,   0,   0,   0,   0,   0,   0,\n",
       "          0,   0],\n",
       "       [  0,   0,   0,   0,   0,   0,   0,   0,   0,   0,   0,   0,   0,\n",
       "        106, 253, 252,  21,   0,   0,   0,   0,   0,   0,   0,   0,   0,\n",
       "          0,   0],\n",
       "       [  0,   0,   0,   0,   0,   0,   0,   0,   0,   0,   0,   0,   0,\n",
       "         45, 255, 253,  21,   0,   0,   0,   0,   0,   0,   0,   0,   0,\n",
       "          0,   0],\n",
       "       [  0,   0,   0,   0,   0,   0,   0,   0,   0,   0,   0,   0,   0,\n",
       "          0, 218, 252,  56,   0,   0,   0,   0,   0,   0,   0,   0,   0,\n",
       "          0,   0],\n",
       "       [  0,   0,   0,   0,   0,   0,   0,   0,   0,   0,   0,   0,   0,\n",
       "          0,  96, 252, 189,  42,   0,   0,   0,   0,   0,   0,   0,   0,\n",
       "          0,   0],\n",
       "       [  0,   0,   0,   0,   0,   0,   0,   0,   0,   0,   0,   0,   0,\n",
       "          0,  14, 184, 252, 170,  11,   0,   0,   0,   0,   0,   0,   0,\n",
       "          0,   0],\n",
       "       [  0,   0,   0,   0,   0,   0,   0,   0,   0,   0,   0,   0,   0,\n",
       "          0,   0,  14, 147, 252,  42,   0,   0,   0,   0,   0,   0,   0,\n",
       "          0,   0],\n",
       "       [  0,   0,   0,   0,   0,   0,   0,   0,   0,   0,   0,   0,   0,\n",
       "          0,   0,   0,   0,   0,   0,   0,   0,   0,   0,   0,   0,   0,\n",
       "          0,   0]], dtype=uint8)"
      ]
     },
     "execution_count": 39,
     "metadata": {},
     "output_type": "execute_result"
    }
   ],
   "source": [
    "digit"
   ]
  },
  {
   "cell_type": "code",
   "execution_count": 41,
   "id": "01c1ec45",
   "metadata": {
    "ExecuteTime": {
     "end_time": "2021-07-26T02:30:26.324549Z",
     "start_time": "2021-07-26T02:30:26.310622Z"
    }
   },
   "outputs": [
    {
     "name": "stdout",
     "output_type": "stream",
     "text": [
      "(90, 28, 28)\n"
     ]
    }
   ],
   "source": [
    "my_slice = train_images[11:101]\n",
    "print(my_slice.shape)"
   ]
  },
  {
   "cell_type": "code",
   "execution_count": 44,
   "id": "c39a5f5d",
   "metadata": {
    "ExecuteTime": {
     "end_time": "2021-07-26T02:33:25.614124Z",
     "start_time": "2021-07-26T02:33:25.604186Z"
    }
   },
   "outputs": [
    {
     "name": "stdout",
     "output_type": "stream",
     "text": [
      "(60000, 14, 14)\n"
     ]
    }
   ],
   "source": [
    "my_slice = train_images[:, 14:, 14:]\n",
    "print(my_slice.shape)"
   ]
  },
  {
   "cell_type": "code",
   "execution_count": 45,
   "id": "a41cba4c",
   "metadata": {
    "ExecuteTime": {
     "end_time": "2021-07-26T02:33:49.288677Z",
     "start_time": "2021-07-26T02:33:48.951185Z"
    }
   },
   "outputs": [
    {
     "data": {
      "image/png": "[encoded data removed]",
      "text/plain": [
       "<Figure size 432x288 with 1 Axes>"
      ]
     },
     "metadata": {
      "needs_background": "light"
     },
     "output_type": "display_data"
    }
   ],
   "source": [
    "plt.imshow(my_slice[4], cmap='gray')\n",
    "plt.show()"
   ]
  },
  {
   "cell_type": "code",
   "execution_count": 46,
   "id": "73a9edb0",
   "metadata": {
    "ExecuteTime": {
     "end_time": "2021-07-26T02:35:28.004545Z",
     "start_time": "2021-07-26T02:35:27.679694Z"
    }
   },
   "outputs": [
    {
     "name": "stdout",
     "output_type": "stream",
     "text": [
      "(60000, 21, 21)\n"
     ]
    },
    {
     "data": {
      "image/png": "[encoded data removed]",
      "text/plain": [
       "<Figure size 432x288 with 1 Axes>"
      ]
     },
     "metadata": {
      "needs_background": "light"
     },
     "output_type": "display_data"
    }
   ],
   "source": [
    "my_slice = train_images[:, :-7, :-7]\n",
    "print(my_slice.shape)\n",
    "plt.imshow(my_slice[4], cmap='gray')\n",
    "plt.show()"
   ]
  },
  {
   "cell_type": "code",
   "execution_count": 47,
   "id": "34c68948",
   "metadata": {
    "ExecuteTime": {
     "end_time": "2021-07-26T02:35:40.838284Z",
     "start_time": "2021-07-26T02:35:40.441412Z"
    }
   },
   "outputs": [
    {
     "name": "stdout",
     "output_type": "stream",
     "text": [
      "(60000, 14, 21)\n"
     ]
    },
    {
     "data": {
      "image/png": "[encoded data removed]",
      "text/plain": [
       "<Figure size 432x288 with 1 Axes>"
      ]
     },
     "metadata": {
      "needs_background": "light"
     },
     "output_type": "display_data"
    }
   ],
   "source": [
    "my_slice = train_images[:, :-14, :-7]\n",
    "print(my_slice.shape)\n",
    "plt.imshow(my_slice[4], cmap='gray')\n",
    "plt.show()"
   ]
  },
  {
   "cell_type": "markdown",
   "id": "1b6ee8fe",
   "metadata": {},
   "source": [
    "배치 데이터"
   ]
  },
  {
   "cell_type": "code",
   "execution_count": 48,
   "id": "efefbae6",
   "metadata": {
    "ExecuteTime": {
     "end_time": "2021-07-26T02:37:49.996268Z",
     "start_time": "2021-07-26T02:37:49.983269Z"
    }
   },
   "outputs": [],
   "source": [
    "batch = train_images[:128]"
   ]
  },
  {
   "cell_type": "code",
   "execution_count": 49,
   "id": "d4992de8",
   "metadata": {
    "ExecuteTime": {
     "end_time": "2021-07-26T02:38:24.027051Z",
     "start_time": "2021-07-26T02:38:24.022093Z"
    }
   },
   "outputs": [],
   "source": [
    "batch = train_images[128:256]"
   ]
  },
  {
   "cell_type": "markdown",
   "id": "ae6680ed",
   "metadata": {},
   "source": [
    "n 번째 배치"
   ]
  },
  {
   "cell_type": "code",
   "execution_count": 50,
   "id": "402d22fc",
   "metadata": {
    "ExecuteTime": {
     "end_time": "2021-07-26T02:42:12.423983Z",
     "start_time": "2021-07-26T02:42:12.416005Z"
    }
   },
   "outputs": [],
   "source": [
    "n = 3\n",
    "batch = train_images[128*n:128*(n+1)]"
   ]
  },
  {
   "cell_type": "markdown",
   "id": "640d0a56",
   "metadata": {},
   "source": [
    "- **2차원: 벡터 데이터**\n",
    "(samples, features)\n",
    "\n",
    "- **3차원: 시계열 데이터, sequence data**\n",
    "(samples, timesteps, features)\n",
    "\n",
    "- **4차원: 영상**\n",
    "(samples, height, width, channels),(samples, channels, height, width)  \n",
    "\n",
    "- **5차원: 동영상**\n",
    "(samples, frames ,height, width, channels)"
   ]
  },
  {
   "cell_type": "code",
   "execution_count": 51,
   "id": "dff88928",
   "metadata": {
    "ExecuteTime": {
     "end_time": "2021-07-26T06:18:45.412225Z",
     "start_time": "2021-07-26T06:18:45.392279Z"
    }
   },
   "outputs": [],
   "source": [
    "from tensorflow.keras.models import Sequential\n",
    "from tensorflow.keras.layers import Dense\n",
    "from tensorflow.keras import optimizers\n",
    "import numpy as np"
   ]
  },
  {
   "cell_type": "code",
   "execution_count": 52,
   "id": "8545d8fb",
   "metadata": {
    "ExecuteTime": {
     "end_time": "2021-07-26T06:19:41.074456Z",
     "start_time": "2021-07-26T06:19:41.058671Z"
    }
   },
   "outputs": [],
   "source": [
    "공부시간 = np.array([1,2,3,4,5,6])\n",
    "점수 = np.array([10,21,30,40,51,60])"
   ]
  },
  {
   "cell_type": "code",
   "execution_count": 58,
   "id": "b916f3f0",
   "metadata": {
    "ExecuteTime": {
     "end_time": "2021-07-26T06:25:12.693432Z",
     "start_time": "2021-07-26T06:25:12.663506Z"
    }
   },
   "outputs": [],
   "source": [
    "model = Sequential()\n",
    "model.add(Dense(1, input_dim=1, activation='linear'))"
   ]
  },
  {
   "cell_type": "code",
   "execution_count": 59,
   "id": "909e31e7",
   "metadata": {
    "ExecuteTime": {
     "end_time": "2021-07-26T06:25:48.747507Z",
     "start_time": "2021-07-26T06:25:48.725771Z"
    }
   },
   "outputs": [],
   "source": [
    "sgd = optimizers.SGD(learning_rate=0.01)\n",
    "model.compile(optimizer=sgd, loss='mse', metrics=['accuracy'])"
   ]
  },
  {
   "cell_type": "code",
   "execution_count": 60,
   "id": "cf9d63ad",
   "metadata": {
    "ExecuteTime": {
     "end_time": "2021-07-26T06:27:00.420983Z",
     "start_time": "2021-07-26T06:26:57.139350Z"
    }
   },
   "outputs": [
    {
     "name": "stdout",
     "output_type": "stream",
     "text": [
      "Epoch 1/100\n",
      "6/6 [==============================] - 1s 3ms/step - loss: 349.2967 - accuracy: 0.0000e+00\n",
      "Epoch 2/100\n",
      "6/6 [==============================] - 0s 2ms/step - loss: 1.7507 - accuracy: 0.0000e+00\n",
      "Epoch 3/100\n",
      "6/6 [==============================] - 0s 4ms/step - loss: 1.0122 - accuracy: 0.0000e+00\n",
      "Epoch 4/100\n",
      "6/6 [==============================] - 0s 3ms/step - loss: 1.0053 - accuracy: 0.0000e+00\n",
      "Epoch 5/100\n",
      "6/6 [==============================] - 0s 2ms/step - loss: 0.9769 - accuracy: 0.0000e+00\n",
      "Epoch 6/100\n",
      "6/6 [==============================] - 0s 2ms/step - loss: 0.9484 - accuracy: 0.0000e+00\n",
      "Epoch 7/100\n",
      "6/6 [==============================] - 0s 3ms/step - loss: 0.9210 - accuracy: 0.0000e+00\n",
      "Epoch 8/100\n",
      "6/6 [==============================] - 0s 3ms/step - loss: 0.8949 - accuracy: 0.0000e+00\n",
      "Epoch 9/100\n",
      "6/6 [==============================] - 0s 5ms/step - loss: 0.8700 - accuracy: 0.0000e+00\n",
      "Epoch 10/100\n",
      "6/6 [==============================] - 0s 3ms/step - loss: 0.8461 - accuracy: 0.0000e+00\n",
      "Epoch 11/100\n",
      "6/6 [==============================] - 0s 2ms/step - loss: 0.8234 - accuracy: 0.0000e+00\n",
      "Epoch 12/100\n",
      "6/6 [==============================] - 0s 3ms/step - loss: 0.8016 - accuracy: 0.0000e+00\n",
      "Epoch 13/100\n",
      "6/6 [==============================] - 0s 3ms/step - loss: 0.7809 - accuracy: 0.0000e+00\n",
      "Epoch 14/100\n",
      "6/6 [==============================] - 0s 3ms/step - loss: 0.7611 - accuracy: 0.0000e+00\n",
      "Epoch 15/100\n",
      "6/6 [==============================] - 0s 3ms/step - loss: 0.7421 - accuracy: 0.0000e+00\n",
      "Epoch 16/100\n",
      "6/6 [==============================] - 0s 3ms/step - loss: 0.7240 - accuracy: 0.0000e+00\n",
      "Epoch 17/100\n",
      "6/6 [==============================] - 0s 4ms/step - loss: 0.7067 - accuracy: 0.0000e+00\n",
      "Epoch 18/100\n",
      "6/6 [==============================] - 0s 3ms/step - loss: 0.6902 - accuracy: 0.0000e+00\n",
      "Epoch 19/100\n",
      "6/6 [==============================] - 0s 3ms/step - loss: 0.6744 - accuracy: 0.0000e+00\n",
      "Epoch 20/100\n",
      "6/6 [==============================] - 0s 4ms/step - loss: 0.6594 - accuracy: 0.0000e+00\n",
      "Epoch 21/100\n",
      "6/6 [==============================] - 0s 3ms/step - loss: 0.6450 - accuracy: 0.0000e+00\n",
      "Epoch 22/100\n",
      "6/6 [==============================] - 0s 3ms/step - loss: 0.6312 - accuracy: 0.0000e+00\n",
      "Epoch 23/100\n",
      "6/6 [==============================] - 0s 3ms/step - loss: 0.6181 - accuracy: 0.0000e+00\n",
      "Epoch 24/100\n",
      "6/6 [==============================] - 0s 3ms/step - loss: 0.6055 - accuracy: 0.0000e+00\n",
      "Epoch 25/100\n",
      "6/6 [==============================] - 0s 2ms/step - loss: 0.5935 - accuracy: 0.0000e+00\n",
      "Epoch 26/100\n",
      "6/6 [==============================] - 0s 2ms/step - loss: 0.5821 - accuracy: 0.0000e+00\n",
      "Epoch 27/100\n",
      "6/6 [==============================] - 0s 2ms/step - loss: 0.5711 - accuracy: 0.0000e+00\n",
      "Epoch 28/100\n",
      "6/6 [==============================] - 0s 3ms/step - loss: 0.5607 - accuracy: 0.0000e+00\n",
      "Epoch 29/100\n",
      "6/6 [==============================] - 0s 2ms/step - loss: 0.5507 - accuracy: 0.0000e+00\n",
      "Epoch 30/100\n",
      "6/6 [==============================] - 0s 2ms/step - loss: 0.5411 - accuracy: 0.0000e+00\n",
      "Epoch 31/100\n",
      "6/6 [==============================] - 0s 3ms/step - loss: 0.5320 - accuracy: 0.0000e+00\n",
      "Epoch 32/100\n",
      "6/6 [==============================] - 0s 2ms/step - loss: 0.5232 - accuracy: 0.0000e+00\n",
      "Epoch 33/100\n",
      "6/6 [==============================] - 0s 3ms/step - loss: 0.5149 - accuracy: 0.0000e+00\n",
      "Epoch 34/100\n",
      "6/6 [==============================] - 0s 2ms/step - loss: 0.5069 - accuracy: 0.0000e+00\n",
      "Epoch 35/100\n",
      "6/6 [==============================] - 0s 3ms/step - loss: 0.4993 - accuracy: 0.0000e+00\n",
      "Epoch 36/100\n",
      "6/6 [==============================] - 0s 2ms/step - loss: 0.4920 - accuracy: 0.0000e+00\n",
      "Epoch 37/100\n",
      "6/6 [==============================] - 0s 3ms/step - loss: 0.4851 - accuracy: 0.0000e+00\n",
      "Epoch 38/100\n",
      "6/6 [==============================] - 0s 3ms/step - loss: 0.4784 - accuracy: 0.0000e+00\n",
      "Epoch 39/100\n",
      "6/6 [==============================] - 0s 3ms/step - loss: 0.4721 - accuracy: 0.0000e+00\n",
      "Epoch 40/100\n",
      "6/6 [==============================] - 0s 2ms/step - loss: 0.4660 - accuracy: 0.0000e+00\n",
      "Epoch 41/100\n",
      "6/6 [==============================] - 0s 2ms/step - loss: 0.4602 - accuracy: 0.0000e+00\n",
      "Epoch 42/100\n",
      "6/6 [==============================] - 0s 2ms/step - loss: 0.4546 - accuracy: 0.0000e+00\n",
      "Epoch 43/100\n",
      "6/6 [==============================] - 0s 3ms/step - loss: 0.4493 - accuracy: 0.0000e+00\n",
      "Epoch 44/100\n",
      "6/6 [==============================] - ETA: 0s - loss: 0.9203 - accuracy: 0.0000e+ - 0s 2ms/step - loss: 0.4442 - accuracy: 0.0000e+00\n",
      "Epoch 45/100\n",
      "6/6 [==============================] - 0s 3ms/step - loss: 0.4394 - accuracy: 0.0000e+00\n",
      "Epoch 46/100\n",
      "6/6 [==============================] - ETA: 0s - loss: 0.8724 - accuracy: 0.0000e+ - 0s 2ms/step - loss: 0.4347 - accuracy: 0.0000e+00\n",
      "Epoch 47/100\n",
      "6/6 [==============================] - 0s 2ms/step - loss: 0.4303 - accuracy: 0.0000e+00\n",
      "Epoch 48/100\n",
      "6/6 [==============================] - 0s 3ms/step - loss: 0.4261 - accuracy: 0.0000e+00\n",
      "Epoch 49/100\n",
      "6/6 [==============================] - 0s 3ms/step - loss: 0.4220 - accuracy: 0.0000e+00\n",
      "Epoch 50/100\n",
      "6/6 [==============================] - 0s 3ms/step - loss: 0.4181 - accuracy: 0.0000e+00\n",
      "Epoch 51/100\n",
      "6/6 [==============================] - 0s 3ms/step - loss: 0.4144 - accuracy: 0.0000e+00\n",
      "Epoch 52/100\n",
      "6/6 [==============================] - 0s 2ms/step - loss: 0.4109 - accuracy: 0.0000e+00\n",
      "Epoch 53/100\n",
      "6/6 [==============================] - 0s 2ms/step - loss: 0.4075 - accuracy: 0.0000e+00\n",
      "Epoch 54/100\n",
      "6/6 [==============================] - 0s 3ms/step - loss: 0.4042 - accuracy: 0.0000e+00\n",
      "Epoch 55/100\n",
      "6/6 [==============================] - 0s 2ms/step - loss: 0.4011 - accuracy: 0.0000e+00\n",
      "Epoch 56/100\n",
      "6/6 [==============================] - 0s 3ms/step - loss: 0.3981 - accuracy: 0.0000e+00\n",
      "Epoch 57/100\n",
      "6/6 [==============================] - 0s 2ms/step - loss: 0.3953 - accuracy: 0.0000e+00\n",
      "Epoch 58/100\n",
      "6/6 [==============================] - ETA: 0s - loss: 0.6473 - accuracy: 0.0000e+ - 0s 4ms/step - loss: 0.3926 - accuracy: 0.0000e+00\n",
      "Epoch 59/100\n",
      "6/6 [==============================] - 0s 3ms/step - loss: 0.3900 - accuracy: 0.0000e+00\n",
      "Epoch 60/100\n",
      "6/6 [==============================] - 0s 3ms/step - loss: 0.3875 - accuracy: 0.0000e+00\n",
      "Epoch 61/100\n",
      "6/6 [==============================] - 0s 2ms/step - loss: 0.3851 - accuracy: 0.0000e+00\n",
      "Epoch 62/100\n",
      "6/6 [==============================] - 0s 3ms/step - loss: 0.3828 - accuracy: 0.0000e+00\n",
      "Epoch 63/100\n",
      "6/6 [==============================] - 0s 2ms/step - loss: 0.3807 - accuracy: 0.0000e+00\n",
      "Epoch 64/100\n",
      "6/6 [==============================] - 0s 4ms/step - loss: 0.3786 - accuracy: 0.0000e+00\n",
      "Epoch 65/100\n",
      "6/6 [==============================] - 0s 3ms/step - loss: 0.3766 - accuracy: 0.0000e+00\n",
      "Epoch 66/100\n",
      "6/6 [==============================] - 0s 2ms/step - loss: 0.3747 - accuracy: 0.0000e+00\n",
      "Epoch 67/100\n",
      "6/6 [==============================] - 0s 2ms/step - loss: 0.3728 - accuracy: 0.0000e+00\n",
      "Epoch 68/100\n",
      "6/6 [==============================] - 0s 3ms/step - loss: 0.3711 - accuracy: 0.0000e+00\n",
      "Epoch 69/100\n",
      "6/6 [==============================] - 0s 3ms/step - loss: 0.3694 - accuracy: 0.0000e+00\n",
      "Epoch 70/100\n",
      "6/6 [==============================] - 0s 3ms/step - loss: 0.3678 - accuracy: 0.0000e+00\n",
      "Epoch 71/100\n",
      "6/6 [==============================] - 0s 2ms/step - loss: 0.3663 - accuracy: 0.0000e+00\n",
      "Epoch 72/100\n",
      "6/6 [==============================] - 0s 2ms/step - loss: 0.3648 - accuracy: 0.0000e+00\n",
      "Epoch 73/100\n",
      "6/6 [==============================] - 0s 2ms/step - loss: 0.3634 - accuracy: 0.0000e+00\n",
      "Epoch 74/100\n",
      "6/6 [==============================] - 0s 2ms/step - loss: 0.3620 - accuracy: 0.0000e+00\n",
      "Epoch 75/100\n",
      "6/6 [==============================] - 0s 2ms/step - loss: 0.3607 - accuracy: 0.0000e+00\n",
      "Epoch 76/100\n",
      "6/6 [==============================] - 0s 2ms/step - loss: 0.3595 - accuracy: 0.0000e+00\n",
      "Epoch 77/100\n",
      "6/6 [==============================] - 0s 2ms/step - loss: 0.3583 - accuracy: 0.0000e+00\n",
      "Epoch 78/100\n",
      "6/6 [==============================] - 0s 3ms/step - loss: 0.3572 - accuracy: 0.0000e+00\n",
      "Epoch 79/100\n",
      "6/6 [==============================] - 0s 3ms/step - loss: 0.3561 - accuracy: 0.0000e+00\n",
      "Epoch 80/100\n"
     ]
    },
    {
     "name": "stdout",
     "output_type": "stream",
     "text": [
      "6/6 [==============================] - 0s 2ms/step - loss: 0.3550 - accuracy: 0.0000e+00\n",
      "Epoch 81/100\n",
      "6/6 [==============================] - 0s 2ms/step - loss: 0.3541 - accuracy: 0.0000e+00\n",
      "Epoch 82/100\n",
      "6/6 [==============================] - 0s 5ms/step - loss: 0.3531 - accuracy: 0.0000e+00\n",
      "Epoch 83/100\n",
      "6/6 [==============================] - 0s 3ms/step - loss: 0.3522 - accuracy: 0.0000e+00\n",
      "Epoch 84/100\n",
      "6/6 [==============================] - 0s 2ms/step - loss: 0.3513 - accuracy: 0.0000e+00\n",
      "Epoch 85/100\n",
      "6/6 [==============================] - 0s 2ms/step - loss: 0.3505 - accuracy: 0.0000e+00\n",
      "Epoch 86/100\n",
      "6/6 [==============================] - 0s 2ms/step - loss: 0.3496 - accuracy: 0.0000e+00\n",
      "Epoch 87/100\n",
      "6/6 [==============================] - 0s 3ms/step - loss: 0.3489 - accuracy: 0.0000e+00\n",
      "Epoch 88/100\n",
      "6/6 [==============================] - 0s 2ms/step - loss: 0.3481 - accuracy: 0.0000e+00\n",
      "Epoch 89/100\n",
      "6/6 [==============================] - 0s 2ms/step - loss: 0.3474 - accuracy: 0.0000e+00\n",
      "Epoch 90/100\n",
      "6/6 [==============================] - 0s 3ms/step - loss: 0.3467 - accuracy: 0.0000e+00\n",
      "Epoch 91/100\n",
      "6/6 [==============================] - 0s 2ms/step - loss: 0.3461 - accuracy: 0.0000e+00\n",
      "Epoch 92/100\n",
      "6/6 [==============================] - 0s 2ms/step - loss: 0.3455 - accuracy: 0.0000e+00\n",
      "Epoch 93/100\n",
      "6/6 [==============================] - 0s 2ms/step - loss: 0.3449 - accuracy: 0.0000e+00\n",
      "Epoch 94/100\n",
      "6/6 [==============================] - 0s 3ms/step - loss: 0.3443 - accuracy: 0.0000e+00\n",
      "Epoch 95/100\n",
      "6/6 [==============================] - 0s 2ms/step - loss: 0.3437 - accuracy: 0.0000e+00\n",
      "Epoch 96/100\n",
      "6/6 [==============================] - 0s 3ms/step - loss: 0.3432 - accuracy: 0.0000e+00\n",
      "Epoch 97/100\n",
      "6/6 [==============================] - 0s 2ms/step - loss: 0.3427 - accuracy: 0.0000e+00\n",
      "Epoch 98/100\n",
      "6/6 [==============================] - 0s 2ms/step - loss: 0.3422 - accuracy: 0.0000e+00\n",
      "Epoch 99/100\n",
      "6/6 [==============================] - 0s 2ms/step - loss: 0.3417 - accuracy: 0.0000e+00\n",
      "Epoch 100/100\n",
      "6/6 [==============================] - 0s 2ms/step - loss: 0.3413 - accuracy: 0.0000e+00\n"
     ]
    },
    {
     "data": {
      "text/plain": [
       "<tensorflow.python.keras.callbacks.History at 0x175ae6c88b0>"
      ]
     },
     "execution_count": 60,
     "metadata": {},
     "output_type": "execute_result"
    }
   ],
   "source": [
    "model.fit(공부시간, 점수, epochs=100, batch_size = 1, shuffle=False)"
   ]
  },
  {
   "cell_type": "code",
   "execution_count": 61,
   "id": "ac9e831a",
   "metadata": {
    "ExecuteTime": {
     "end_time": "2021-07-26T06:28:48.964876Z",
     "start_time": "2021-07-26T06:28:48.743229Z"
    }
   },
   "outputs": [
    {
     "name": "stdout",
     "output_type": "stream",
     "text": [
      "예측결과:  [[70.051506]]\n",
      "파라미터수 :  2\n"
     ]
    }
   ],
   "source": [
    "print('예측결과: ', model.predict([7]))\n",
    "print('파라미터수 : ', model.count_params())"
   ]
  },
  {
   "cell_type": "markdown",
   "id": "959d0f45",
   "metadata": {},
   "source": [
    "n = 6일때"
   ]
  },
  {
   "cell_type": "code",
   "execution_count": null,
   "id": "02eea86e",
   "metadata": {},
   "outputs": [],
   "source": [
    "x1= np.array([1,2,3,4,5,6])\n",
    "x2\n",
    "x3\n",
    "x4\n",
    "x5\n",
    "x6\n",
    "y = np.array([10,21,30,40,51,60])"
   ]
  },
  {
   "cell_type": "code",
   "execution_count": 62,
   "id": "e26c9a21",
   "metadata": {
    "ExecuteTime": {
     "end_time": "2021-07-26T06:44:47.756960Z",
     "start_time": "2021-07-26T06:44:47.719064Z"
    }
   },
   "outputs": [],
   "source": [
    "model = Sequential()\n",
    "model.add(Dense(1, input_dim=6, activation='linear'))"
   ]
  },
  {
   "cell_type": "code",
   "execution_count": 63,
   "id": "581376fa",
   "metadata": {
    "ExecuteTime": {
     "end_time": "2021-07-26T06:44:49.061741Z",
     "start_time": "2021-07-26T06:44:49.045859Z"
    }
   },
   "outputs": [],
   "source": [
    "sgd = optimizers.SGD(learning_rate=0.01)\n",
    "model.compile(optimizer=sgd, loss='mse', metrics=['accuracy'])"
   ]
  },
  {
   "cell_type": "code",
   "execution_count": 65,
   "id": "da1bc0cc",
   "metadata": {
    "ExecuteTime": {
     "end_time": "2021-07-26T06:45:01.432106Z",
     "start_time": "2021-07-26T06:45:01.422083Z"
    }
   },
   "outputs": [
    {
     "data": {
      "text/plain": [
       "7"
      ]
     },
     "execution_count": 65,
     "metadata": {},
     "output_type": "execute_result"
    }
   ],
   "source": [
    " model.count_params()"
   ]
  },
  {
   "cell_type": "markdown",
   "id": "415f7aa8",
   "metadata": {},
   "source": [
    "# 보스턴 주택 가격 예제"
   ]
  },
  {
   "cell_type": "code",
   "execution_count": 66,
   "id": "45d3b076",
   "metadata": {
    "ExecuteTime": {
     "end_time": "2021-07-26T06:48:39.444795Z",
     "start_time": "2021-07-26T06:48:39.438216Z"
    }
   },
   "outputs": [],
   "source": [
    "from tensorflow.keras.datasets import boston_housing"
   ]
  },
  {
   "cell_type": "code",
   "execution_count": 73,
   "id": "d2758d1d",
   "metadata": {
    "ExecuteTime": {
     "end_time": "2021-07-26T07:14:13.095483Z",
     "start_time": "2021-07-26T07:14:13.057816Z"
    },
    "collapsed": true
   },
   "outputs": [
    {
     "data": {
      "text/plain": [
       "((array([[1.23247e+00, 0.00000e+00, 8.14000e+00, ..., 2.10000e+01,\n",
       "          3.96900e+02, 1.87200e+01],\n",
       "         [2.17700e-02, 8.25000e+01, 2.03000e+00, ..., 1.47000e+01,\n",
       "          3.95380e+02, 3.11000e+00],\n",
       "         [4.89822e+00, 0.00000e+00, 1.81000e+01, ..., 2.02000e+01,\n",
       "          3.75520e+02, 3.26000e+00],\n",
       "         ...,\n",
       "         [3.46600e-02, 3.50000e+01, 6.06000e+00, ..., 1.69000e+01,\n",
       "          3.62250e+02, 7.83000e+00],\n",
       "         [2.14918e+00, 0.00000e+00, 1.95800e+01, ..., 1.47000e+01,\n",
       "          2.61950e+02, 1.57900e+01],\n",
       "         [1.43900e-02, 6.00000e+01, 2.93000e+00, ..., 1.56000e+01,\n",
       "          3.76700e+02, 4.38000e+00]]),\n",
       "  array([15.2, 42.3, 50. , 21.1, 17.7, 18.5, 11.3, 15.6, 15.6, 14.4, 12.1,\n",
       "         17.9, 23.1, 19.9, 15.7,  8.8, 50. , 22.5, 24.1, 27.5, 10.9, 30.8,\n",
       "         32.9, 24. , 18.5, 13.3, 22.9, 34.7, 16.6, 17.5, 22.3, 16.1, 14.9,\n",
       "         23.1, 34.9, 25. , 13.9, 13.1, 20.4, 20. , 15.2, 24.7, 22.2, 16.7,\n",
       "         12.7, 15.6, 18.4, 21. , 30.1, 15.1, 18.7,  9.6, 31.5, 24.8, 19.1,\n",
       "         22. , 14.5, 11. , 32. , 29.4, 20.3, 24.4, 14.6, 19.5, 14.1, 14.3,\n",
       "         15.6, 10.5,  6.3, 19.3, 19.3, 13.4, 36.4, 17.8, 13.5, 16.5,  8.3,\n",
       "         14.3, 16. , 13.4, 28.6, 43.5, 20.2, 22. , 23. , 20.7, 12.5, 48.5,\n",
       "         14.6, 13.4, 23.7, 50. , 21.7, 39.8, 38.7, 22.2, 34.9, 22.5, 31.1,\n",
       "         28.7, 46. , 41.7, 21. , 26.6, 15. , 24.4, 13.3, 21.2, 11.7, 21.7,\n",
       "         19.4, 50. , 22.8, 19.7, 24.7, 36.2, 14.2, 18.9, 18.3, 20.6, 24.6,\n",
       "         18.2,  8.7, 44. , 10.4, 13.2, 21.2, 37. , 30.7, 22.9, 20. , 19.3,\n",
       "         31.7, 32. , 23.1, 18.8, 10.9, 50. , 19.6,  5. , 14.4, 19.8, 13.8,\n",
       "         19.6, 23.9, 24.5, 25. , 19.9, 17.2, 24.6, 13.5, 26.6, 21.4, 11.9,\n",
       "         22.6, 19.6,  8.5, 23.7, 23.1, 22.4, 20.5, 23.6, 18.4, 35.2, 23.1,\n",
       "         27.9, 20.6, 23.7, 28. , 13.6, 27.1, 23.6, 20.6, 18.2, 21.7, 17.1,\n",
       "          8.4, 25.3, 13.8, 22.2, 18.4, 20.7, 31.6, 30.5, 20.3,  8.8, 19.2,\n",
       "         19.4, 23.1, 23. , 14.8, 48.8, 22.6, 33.4, 21.1, 13.6, 32.2, 13.1,\n",
       "         23.4, 18.9, 23.9, 11.8, 23.3, 22.8, 19.6, 16.7, 13.4, 22.2, 20.4,\n",
       "         21.8, 26.4, 14.9, 24.1, 23.8, 12.3, 29.1, 21. , 19.5, 23.3, 23.8,\n",
       "         17.8, 11.5, 21.7, 19.9, 25. , 33.4, 28.5, 21.4, 24.3, 27.5, 33.1,\n",
       "         16.2, 23.3, 48.3, 22.9, 22.8, 13.1, 12.7, 22.6, 15. , 15.3, 10.5,\n",
       "         24. , 18.5, 21.7, 19.5, 33.2, 23.2,  5. , 19.1, 12.7, 22.3, 10.2,\n",
       "         13.9, 16.3, 17. , 20.1, 29.9, 17.2, 37.3, 45.4, 17.8, 23.2, 29. ,\n",
       "         22. , 18. , 17.4, 34.6, 20.1, 25. , 15.6, 24.8, 28.2, 21.2, 21.4,\n",
       "         23.8, 31. , 26.2, 17.4, 37.9, 17.5, 20. ,  8.3, 23.9,  8.4, 13.8,\n",
       "          7.2, 11.7, 17.1, 21.6, 50. , 16.1, 20.4, 20.6, 21.4, 20.6, 36.5,\n",
       "          8.5, 24.8, 10.8, 21.9, 17.3, 18.9, 36.2, 14.9, 18.2, 33.3, 21.8,\n",
       "         19.7, 31.6, 24.8, 19.4, 22.8,  7.5, 44.8, 16.8, 18.7, 50. , 50. ,\n",
       "         19.5, 20.1, 50. , 17.2, 20.8, 19.3, 41.3, 20.4, 20.5, 13.8, 16.5,\n",
       "         23.9, 20.6, 31.5, 23.3, 16.8, 14. , 33.8, 36.1, 12.8, 18.3, 18.7,\n",
       "         19.1, 29. , 30.1, 50. , 50. , 22. , 11.9, 37.6, 50. , 22.7, 20.8,\n",
       "         23.5, 27.9, 50. , 19.3, 23.9, 22.6, 15.2, 21.7, 19.2, 43.8, 20.3,\n",
       "         33.2, 19.9, 22.5, 32.7, 22. , 17.1, 19. , 15. , 16.1, 25.1, 23.7,\n",
       "         28.7, 37.2, 22.6, 16.4, 25. , 29.8, 22.1, 17.4, 18.1, 30.3, 17.5,\n",
       "         24.7, 12.6, 26.5, 28.7, 13.3, 10.4, 24.4, 23. , 20. , 17.8,  7. ,\n",
       "         11.8, 24.4, 13.8, 19.4, 25.2, 19.4, 19.4, 29.1])),\n",
       " (array([[1.80846e+01, 0.00000e+00, 1.81000e+01, ..., 2.02000e+01,\n",
       "          2.72500e+01, 2.90500e+01],\n",
       "         [1.23290e-01, 0.00000e+00, 1.00100e+01, ..., 1.78000e+01,\n",
       "          3.94950e+02, 1.62100e+01],\n",
       "         [5.49700e-02, 0.00000e+00, 5.19000e+00, ..., 2.02000e+01,\n",
       "          3.96900e+02, 9.74000e+00],\n",
       "         ...,\n",
       "         [1.83377e+00, 0.00000e+00, 1.95800e+01, ..., 1.47000e+01,\n",
       "          3.89610e+02, 1.92000e+00],\n",
       "         [3.58090e-01, 0.00000e+00, 6.20000e+00, ..., 1.74000e+01,\n",
       "          3.91700e+02, 9.71000e+00],\n",
       "         [2.92400e+00, 0.00000e+00, 1.95800e+01, ..., 1.47000e+01,\n",
       "          2.40160e+02, 9.81000e+00]]),\n",
       "  array([ 7.2, 18.8, 19. , 27. , 22.2, 24.5, 31.2, 22.9, 20.5, 23.2, 18.6,\n",
       "         14.5, 17.8, 50. , 20.8, 24.3, 24.2, 19.8, 19.1, 22.7, 12. , 10.2,\n",
       "         20. , 18.5, 20.9, 23. , 27.5, 30.1,  9.5, 22. , 21.2, 14.1, 33.1,\n",
       "         23.4, 20.1,  7.4, 15.4, 23.8, 20.1, 24.5, 33. , 28.4, 14.1, 46.7,\n",
       "         32.5, 29.6, 28.4, 19.8, 20.2, 25. , 35.4, 20.3,  9.7, 14.5, 34.9,\n",
       "         26.6,  7.2, 50. , 32.4, 21.6, 29.8, 13.1, 27.5, 21.2, 23.1, 21.9,\n",
       "         13. , 23.2,  8.1,  5.6, 21.7, 29.6, 19.6,  7. , 26.4, 18.9, 20.9,\n",
       "         28.1, 35.4, 10.2, 24.3, 43.1, 17.6, 15.4, 16.2, 27.1, 21.4, 21.5,\n",
       "         22.4, 25. , 16.6, 18.6, 22. , 42.8, 35.1, 21.5, 36. , 21.9, 24.1,\n",
       "         50. , 26.7, 25. ])))"
      ]
     },
     "execution_count": 73,
     "metadata": {},
     "output_type": "execute_result"
    }
   ],
   "source": [
    "boston_housing.load_data()"
   ]
  },
  {
   "cell_type": "code",
   "execution_count": 77,
   "id": "43d6a0da",
   "metadata": {
    "ExecuteTime": {
     "end_time": "2021-07-26T07:31:00.268564Z",
     "start_time": "2021-07-26T07:31:00.248789Z"
    }
   },
   "outputs": [],
   "source": [
    "(train_data,train_targets),(test_data,test_targets) = boston_housing.load_data()"
   ]
  },
  {
   "cell_type": "code",
   "execution_count": 78,
   "id": "db08dfe7",
   "metadata": {
    "ExecuteTime": {
     "end_time": "2021-07-26T07:36:00.786339Z",
     "start_time": "2021-07-26T07:36:00.765721Z"
    }
   },
   "outputs": [
    {
     "name": "stdout",
     "output_type": "stream",
     "text": [
      "train_targets.min 5.0\n",
      "train_targets.max 50.0\n"
     ]
    }
   ],
   "source": [
    "print('train_targets.min', train_targets.min())\n",
    "print('train_targets.max', train_targets.max())"
   ]
  },
  {
   "cell_type": "code",
   "execution_count": 79,
   "id": "e6f69922",
   "metadata": {
    "ExecuteTime": {
     "end_time": "2021-07-26T07:36:26.252717Z",
     "start_time": "2021-07-26T07:36:26.143637Z"
    }
   },
   "outputs": [],
   "source": [
    "model = Sequential()\n",
    "model.add(Dense(1, input_dim=13, activation='linear'))"
   ]
  },
  {
   "cell_type": "code",
   "execution_count": 80,
   "id": "a0bad387",
   "metadata": {
    "ExecuteTime": {
     "end_time": "2021-07-26T07:36:47.857625Z",
     "start_time": "2021-07-26T07:36:47.790694Z"
    }
   },
   "outputs": [],
   "source": [
    "sgd = optimizers.SGD(learning_rate=0.01)\n",
    "model.compile(optimizer='rmsprop', loss='mse', metrics=['accuracy'])"
   ]
  },
  {
   "cell_type": "code",
   "execution_count": 85,
   "id": "a449d995",
   "metadata": {
    "ExecuteTime": {
     "end_time": "2021-07-26T07:43:02.999667Z",
     "start_time": "2021-07-26T07:43:02.980721Z"
    }
   },
   "outputs": [],
   "source": [
    "mean = train_data.mean(axis = 0)\n",
    "train_data -= mean\n",
    "\n",
    "std = train_data.std(axis=0)\n",
    "train_data /= std\n",
    "\n",
    "test_data -= mean\n",
    "test_data /= std"
   ]
  },
  {
   "cell_type": "code",
   "execution_count": 86,
   "id": "66ae9b81",
   "metadata": {
    "ExecuteTime": {
     "end_time": "2021-07-26T07:43:12.001241Z",
     "start_time": "2021-07-26T07:43:11.984900Z"
    }
   },
   "outputs": [
    {
     "data": {
      "text/plain": [
       "array([[-0.27224633, -0.48361547, -0.43576161, ...,  1.14850044,\n",
       "         0.44807713,  0.8252202 ],\n",
       "       [-0.40342651,  2.99178419, -1.33391162, ..., -1.71818909,\n",
       "         0.43190599, -1.32920239],\n",
       "       [ 0.1249402 , -0.48361547,  1.0283258 , ...,  0.78447637,\n",
       "         0.22061726, -1.30850006],\n",
       "       ...,\n",
       "       [-0.40202987,  0.99079651, -0.7415148 , ..., -0.71712291,\n",
       "         0.07943894, -0.67776904],\n",
       "       [-0.17292018, -0.48361547,  1.24588095, ..., -1.71818909,\n",
       "        -0.98764362,  0.42083466],\n",
       "       [-0.40422614,  2.04394792, -1.20161456, ..., -1.30866202,\n",
       "         0.23317118, -1.15392266]])"
      ]
     },
     "execution_count": 86,
     "metadata": {},
     "output_type": "execute_result"
    }
   ],
   "source": [
    "train_data"
   ]
  },
  {
   "cell_type": "code",
   "execution_count": 87,
   "id": "7328ae24",
   "metadata": {
    "ExecuteTime": {
     "end_time": "2021-07-26T07:43:23.144583Z",
     "start_time": "2021-07-26T07:43:23.134851Z"
    }
   },
   "outputs": [
    {
     "data": {
      "text/plain": [
       "2.602301889250862e-15"
      ]
     },
     "execution_count": 87,
     "metadata": {},
     "output_type": "execute_result"
    }
   ],
   "source": [
    "train_data.mean()"
   ]
  },
  {
   "cell_type": "code",
   "execution_count": 88,
   "id": "287b7b6b",
   "metadata": {
    "ExecuteTime": {
     "end_time": "2021-07-26T07:43:42.143764Z",
     "start_time": "2021-07-26T07:43:42.121721Z"
    }
   },
   "outputs": [
    {
     "data": {
      "text/plain": [
       "0.9999999999999994"
      ]
     },
     "execution_count": 88,
     "metadata": {},
     "output_type": "execute_result"
    }
   ],
   "source": [
    "train_data.std()"
   ]
  },
  {
   "cell_type": "code",
   "execution_count": 81,
   "id": "04ff4baf",
   "metadata": {
    "ExecuteTime": {
     "end_time": "2021-07-26T07:36:55.368716Z",
     "start_time": "2021-07-26T07:36:55.352928Z"
    }
   },
   "outputs": [
    {
     "data": {
      "text/plain": [
       "14"
      ]
     },
     "execution_count": 81,
     "metadata": {},
     "output_type": "execute_result"
    }
   ],
   "source": [
    " model.count_params()"
   ]
  },
  {
   "cell_type": "code",
   "execution_count": 89,
   "id": "9c9cf7ae",
   "metadata": {
    "ExecuteTime": {
     "end_time": "2021-07-26T07:44:19.500864Z",
     "start_time": "2021-07-26T07:44:19.485906Z"
    }
   },
   "outputs": [],
   "source": [
    "from tensorflow.keras import backend as k\n",
    "k.clear_session()"
   ]
  },
  {
   "cell_type": "code",
   "execution_count": 90,
   "id": "dcd6f9b5",
   "metadata": {
    "ExecuteTime": {
     "end_time": "2021-07-26T07:45:24.362436Z",
     "start_time": "2021-07-26T07:44:20.773440Z"
    }
   },
   "outputs": [
    {
     "name": "stdout",
     "output_type": "stream",
     "text": [
      "Epoch 1/100\n",
      "404/404 [==============================] - 1s 2ms/step - loss: 506.6548 - accuracy: 0.0000e+00: 0s - loss: 512.0185 - accuracy: 0.0000\n",
      "Epoch 2/100\n",
      "404/404 [==============================] - 1s 2ms/step - loss: 484.6001 - accuracy: 0.0000e+00\n",
      "Epoch 3/100\n",
      "404/404 [==============================] - 1s 2ms/step - loss: 463.9042 - accuracy: 0.0000e+00\n",
      "Epoch 4/100\n",
      "404/404 [==============================] - 1s 2ms/step - loss: 444.4152 - accuracy: 0.0000e+00\n",
      "Epoch 5/100\n",
      "404/404 [==============================] - 1s 2ms/step - loss: 425.9800 - accuracy: 0.0000e+00\n",
      "Epoch 6/100\n",
      "404/404 [==============================] - 1s 1ms/step - loss: 408.4711 - accuracy: 0.0000e+00\n",
      "Epoch 7/100\n",
      "404/404 [==============================] - 1s 1ms/step - loss: 391.7836 - accuracy: 0.0000e+00\n",
      "Epoch 8/100\n",
      "404/404 [==============================] - 1s 2ms/step - loss: 375.8303 - accuracy: 0.0000e+00\n",
      "Epoch 9/100\n",
      "404/404 [==============================] - 1s 2ms/step - loss: 360.5399 - accuracy: 0.0000e+00\n",
      "Epoch 10/100\n",
      "404/404 [==============================] - 1s 2ms/step - loss: 345.8514 - accuracy: 0.0000e+00\n",
      "Epoch 11/100\n",
      "404/404 [==============================] - 1s 2ms/step - loss: 331.7155 - accuracy: 0.0000e+00\n",
      "Epoch 12/100\n",
      "404/404 [==============================] - 1s 2ms/step - loss: 318.0908 - accuracy: 0.0000e+00\n",
      "Epoch 13/100\n",
      "404/404 [==============================] - 1s 2ms/step - loss: 304.9436 - accuracy: 0.0000e+00: 0s - loss: 309.5979 \n",
      "Epoch 14/100\n",
      "404/404 [==============================] - 1s 2ms/step - loss: 292.2449 - accuracy: 0.0000e+00\n",
      "Epoch 15/100\n",
      "404/404 [==============================] - 1s 2ms/step - loss: 279.9713 - accuracy: 0.0000e+00\n",
      "Epoch 16/100\n",
      "404/404 [==============================] - 1s 2ms/step - loss: 268.1036 - accuracy: 0.0000e+00\n",
      "Epoch 17/100\n",
      "404/404 [==============================] - 1s 2ms/step - loss: 256.6253 - accuracy: 0.0000e+00: 0s - loss: 256.2318 - accuracy: 0.0000e+\n",
      "Epoch 18/100\n",
      "404/404 [==============================] - 1s 2ms/step - loss: 245.5232 - accuracy: 0.0000e+00\n",
      "Epoch 19/100\n",
      "404/404 [==============================] - 1s 1ms/step - loss: 234.7858 - accuracy: 0.0000e+00\n",
      "Epoch 20/100\n",
      "404/404 [==============================] - 1s 1ms/step - loss: 224.4040 - accuracy: 0.0000e+00\n",
      "Epoch 21/100\n",
      "404/404 [==============================] - 1s 1ms/step - loss: 214.3694 - accuracy: 0.0000e+00\n",
      "Epoch 22/100\n",
      "404/404 [==============================] - 1s 1ms/step - loss: 204.6754 - accuracy: 0.0000e+00\n",
      "Epoch 23/100\n",
      "404/404 [==============================] - 1s 2ms/step - loss: 195.3162 - accuracy: 0.0000e+00\n",
      "Epoch 24/100\n",
      "404/404 [==============================] - 1s 1ms/step - loss: 186.2868 - accuracy: 0.0000e+00\n",
      "Epoch 25/100\n",
      "404/404 [==============================] - 1s 1ms/step - loss: 177.5820 - accuracy: 0.0000e+00\n",
      "Epoch 26/100\n",
      "404/404 [==============================] - 1s 1ms/step - loss: 169.1986 - accuracy: 0.0000e+00\n",
      "Epoch 27/100\n",
      "404/404 [==============================] - 1s 1ms/step - loss: 161.1319 - accuracy: 0.0000e+00\n",
      "Epoch 28/100\n",
      "404/404 [==============================] - 1s 1ms/step - loss: 153.3785 - accuracy: 0.0000e+00\n",
      "Epoch 29/100\n",
      "404/404 [==============================] - 1s 2ms/step - loss: 145.9352 - accuracy: 0.0000e+00: 0s - loss: 143.7628 \n",
      "Epoch 30/100\n",
      "404/404 [==============================] - 1s 1ms/step - loss: 138.7978 - accuracy: 0.0000e+00\n",
      "Epoch 31/100\n",
      "404/404 [==============================] - 1s 1ms/step - loss: 131.9630 - accuracy: 0.0000e+00\n",
      "Epoch 32/100\n",
      "404/404 [==============================] - 1s 2ms/step - loss: 125.4268 - accuracy: 0.0000e+00\n",
      "Epoch 33/100\n",
      "404/404 [==============================] - 1s 2ms/step - loss: 119.1857 - accuracy: 0.0000e+00: 0s - loss: 121.4539 - accuracy: 0.0000\n",
      "Epoch 34/100\n",
      "404/404 [==============================] - 1s 2ms/step - loss: 113.2353 - accuracy: 0.0000e+00\n",
      "Epoch 35/100\n",
      "404/404 [==============================] - 1s 1ms/step - loss: 107.5715 - accuracy: 0.0000e+00\n",
      "Epoch 36/100\n",
      "404/404 [==============================] - 1s 1ms/step - loss: 102.1898 - accuracy: 0.0000e+00\n",
      "Epoch 37/100\n",
      "404/404 [==============================] - 1s 1ms/step - loss: 97.0852 - accuracy: 0.0000e+00\n",
      "Epoch 38/100\n",
      "404/404 [==============================] - 1s 1ms/step - loss: 92.2525 - accuracy: 0.0000e+00\n",
      "Epoch 39/100\n",
      "404/404 [==============================] - 1s 2ms/step - loss: 87.6861 - accuracy: 0.0000e+00\n",
      "Epoch 40/100\n",
      "404/404 [==============================] - 1s 2ms/step - loss: 83.3801 - accuracy: 0.0000e+00A: 0s - loss: 82.4009 - accuracy: 0.0000e+\n",
      "Epoch 41/100\n",
      "404/404 [==============================] - 1s 1ms/step - loss: 79.3279 - accuracy: 0.0000e+00\n",
      "Epoch 42/100\n",
      "404/404 [==============================] - 1s 1ms/step - loss: 75.5224 - accuracy: 0.0000e+00\n",
      "Epoch 43/100\n",
      "404/404 [==============================] - 1s 1ms/step - loss: 71.9567 - accuracy: 0.0000e+00\n",
      "Epoch 44/100\n",
      "404/404 [==============================] - 1s 1ms/step - loss: 68.6228 - accuracy: 0.0000e+00\n",
      "Epoch 45/100\n",
      "404/404 [==============================] - 1s 2ms/step - loss: 65.5123 - accuracy: 0.0000e+00\n",
      "Epoch 46/100\n",
      "404/404 [==============================] - 1s 1ms/step - loss: 62.6167 - accuracy: 0.0000e+00\n",
      "Epoch 47/100\n",
      "404/404 [==============================] - 1s 1ms/step - loss: 59.9270 - accuracy: 0.0000e+00\n",
      "Epoch 48/100\n",
      "404/404 [==============================] - 1s 2ms/step - loss: 57.4334 - accuracy: 0.0000e+00\n",
      "Epoch 49/100\n",
      "404/404 [==============================] - 1s 2ms/step - loss: 55.1265 - accuracy: 0.0000e+00A: 0s - loss: 73.3978 - accurac\n",
      "Epoch 50/100\n",
      "404/404 [==============================] - 1s 2ms/step - loss: 52.9959 - accuracy: 0.0000e+00\n",
      "Epoch 51/100\n",
      "404/404 [==============================] - 1s 1ms/step - loss: 51.0315 - accuracy: 0.0000e+00\n",
      "Epoch 52/100\n",
      "404/404 [==============================] - 1s 2ms/step - loss: 49.2228 - accuracy: 0.0000e+00\n",
      "Epoch 53/100\n",
      "404/404 [==============================] - 1s 2ms/step - loss: 47.5595 - accuracy: 0.0000e+00\n",
      "Epoch 54/100\n",
      "404/404 [==============================] - 1s 2ms/step - loss: 46.0312 - accuracy: 0.0000e+00\n",
      "Epoch 55/100\n",
      "404/404 [==============================] - 1s 2ms/step - loss: 44.6280 - accuracy: 0.0000e+00\n",
      "Epoch 56/100\n",
      "404/404 [==============================] - 1s 1ms/step - loss: 43.3398 - accuracy: 0.0000e+00\n",
      "Epoch 57/100\n",
      "404/404 [==============================] - 1s 1ms/step - loss: 42.1571 - accuracy: 0.0000e+00\n",
      "Epoch 58/100\n",
      "404/404 [==============================] - 1s 1ms/step - loss: 41.0707 - accuracy: 0.0000e+00\n",
      "Epoch 59/100\n",
      "404/404 [==============================] - 1s 1ms/step - loss: 40.0722 - accuracy: 0.0000e+00\n",
      "Epoch 60/100\n",
      "404/404 [==============================] - 1s 2ms/step - loss: 39.1534 - accuracy: 0.0000e+00\n",
      "Epoch 61/100\n",
      "404/404 [==============================] - 1s 1ms/step - loss: 38.3067 - accuracy: 0.0000e+00\n",
      "Epoch 62/100\n",
      "404/404 [==============================] - 1s 1ms/step - loss: 37.5257 - accuracy: 0.0000e+00\n",
      "Epoch 63/100\n",
      "404/404 [==============================] - 1s 1ms/step - loss: 36.8039 - accuracy: 0.0000e+00\n",
      "Epoch 64/100\n",
      "404/404 [==============================] - 1s 1ms/step - loss: 36.1357 - accuracy: 0.0000e+00\n",
      "Epoch 65/100\n",
      "404/404 [==============================] - 1s 1ms/step - loss: 35.5158 - accuracy: 0.0000e+00\n",
      "Epoch 66/100\n",
      "404/404 [==============================] - 1s 2ms/step - loss: 34.9399 - accuracy: 0.0000e+00\n",
      "Epoch 67/100\n",
      "404/404 [==============================] - 1s 1ms/step - loss: 34.4037 - accuracy: 0.0000e+00\n",
      "Epoch 68/100\n",
      "404/404 [==============================] - 1s 1ms/step - loss: 33.9033 - accuracy: 0.0000e+00\n",
      "Epoch 69/100\n",
      "404/404 [==============================] - 1s 1ms/step - loss: 33.4355 - accuracy: 0.0000e+00\n",
      "Epoch 70/100\n",
      "404/404 [==============================] - 1s 1ms/step - loss: 32.9972 - accuracy: 0.0000e+00\n",
      "Epoch 71/100\n",
      "404/404 [==============================] - 1s 2ms/step - loss: 32.5860 - accuracy: 0.0000e+00\n",
      "Epoch 72/100\n",
      "404/404 [==============================] - 1s 1ms/step - loss: 32.1994 - accuracy: 0.0000e+00\n",
      "Epoch 73/100\n",
      "404/404 [==============================] - 1s 1ms/step - loss: 31.8354 - accuracy: 0.0000e+00A: 0s - loss: 31.2555 - accuracy: 0.0000e+0\n",
      "Epoch 74/100\n"
     ]
    },
    {
     "name": "stdout",
     "output_type": "stream",
     "text": [
      "404/404 [==============================] - 1s 1ms/step - loss: 31.4921 - accuracy: 0.0000e+00\n",
      "Epoch 75/100\n",
      "404/404 [==============================] - 1s 1ms/step - loss: 31.1679 - accuracy: 0.0000e+00\n",
      "Epoch 76/100\n",
      "404/404 [==============================] - 1s 2ms/step - loss: 30.8613 - accuracy: 0.0000e+00\n",
      "Epoch 77/100\n",
      "404/404 [==============================] - 1s 2ms/step - loss: 30.5710 - accuracy: 0.0000e+00\n",
      "Epoch 78/100\n",
      "404/404 [==============================] - ETA: 0s - loss: 30.1794 - accuracy: 0.0000e+0 - 1s 1ms/step - loss: 30.2959 - accuracy: 0.0000e+00\n",
      "Epoch 79/100\n",
      "404/404 [==============================] - 1s 1ms/step - loss: 30.0349 - accuracy: 0.0000e+00\n",
      "Epoch 80/100\n",
      "404/404 [==============================] - 1s 1ms/step - loss: 29.7871 - accuracy: 0.0000e+00\n",
      "Epoch 81/100\n",
      "404/404 [==============================] - 1s 1ms/step - loss: 29.5516 - accuracy: 0.0000e+00\n",
      "Epoch 82/100\n",
      "404/404 [==============================] - 1s 2ms/step - loss: 29.3276 - accuracy: 0.0000e+00\n",
      "Epoch 83/100\n",
      "404/404 [==============================] - 1s 2ms/step - loss: 29.1144 - accuracy: 0.0000e+00\n",
      "Epoch 84/100\n",
      "404/404 [==============================] - 1s 1ms/step - loss: 28.9114 - accuracy: 0.0000e+00\n",
      "Epoch 85/100\n",
      "404/404 [==============================] - 1s 1ms/step - loss: 28.7180 - accuracy: 0.0000e+00\n",
      "Epoch 86/100\n",
      "404/404 [==============================] - 1s 1ms/step - loss: 28.5336 - accuracy: 0.0000e+00A: 0s - loss: 27.2974 - accuracy: 0.0000e+\n",
      "Epoch 87/100\n",
      "404/404 [==============================] - 1s 1ms/step - loss: 28.3577 - accuracy: 0.0000e+00\n",
      "Epoch 88/100\n",
      "404/404 [==============================] - 1s 2ms/step - loss: 28.1898 - accuracy: 0.0000e+00\n",
      "Epoch 89/100\n",
      "404/404 [==============================] - 1s 1ms/step - loss: 28.0294 - accuracy: 0.0000e+00A: 0s - loss: 34.1556 - accuracy: \n",
      "Epoch 90/100\n",
      "404/404 [==============================] - 1s 1ms/step - loss: 27.8763 - accuracy: 0.0000e+00\n",
      "Epoch 91/100\n",
      "404/404 [==============================] - 1s 1ms/step - loss: 27.7299 - accuracy: 0.0000e+00\n",
      "Epoch 92/100\n",
      "404/404 [==============================] - 1s 1ms/step - loss: 27.5898 - accuracy: 0.0000e+00\n",
      "Epoch 93/100\n",
      "404/404 [==============================] - 1s 1ms/step - loss: 27.4558 - accuracy: 0.0000e+00\n",
      "Epoch 94/100\n",
      "404/404 [==============================] - 1s 2ms/step - loss: 27.3275 - accuracy: 0.0000e+00\n",
      "Epoch 95/100\n",
      "404/404 [==============================] - 1s 1ms/step - loss: 27.2047 - accuracy: 0.0000e+00\n",
      "Epoch 96/100\n",
      "404/404 [==============================] - 1s 1ms/step - loss: 27.0870 - accuracy: 0.0000e+00\n",
      "Epoch 97/100\n",
      "404/404 [==============================] - 1s 1ms/step - loss: 26.9741 - accuracy: 0.0000e+00\n",
      "Epoch 98/100\n",
      "404/404 [==============================] - 1s 1ms/step - loss: 26.8659 - accuracy: 0.0000e+00\n",
      "Epoch 99/100\n",
      "404/404 [==============================] - 1s 2ms/step - loss: 26.7620 - accuracy: 0.0000e+00\n",
      "Epoch 100/100\n",
      "404/404 [==============================] - 1s 2ms/step - loss: 26.6623 - accuracy: 0.0000e+00 1s - loss: 99.7194 - accur\n"
     ]
    },
    {
     "data": {
      "text/plain": [
       "<tensorflow.python.keras.callbacks.History at 0x175ae869f70>"
      ]
     },
     "execution_count": 90,
     "metadata": {},
     "output_type": "execute_result"
    }
   ],
   "source": [
    "model.fit(train_data, train_targets, epochs=100, batch_size = 1, shuffle=False)"
   ]
  },
  {
   "cell_type": "code",
   "execution_count": 94,
   "id": "00e03bd2",
   "metadata": {
    "ExecuteTime": {
     "end_time": "2021-07-26T07:47:45.288556Z",
     "start_time": "2021-07-26T07:47:45.125423Z"
    }
   },
   "outputs": [
    {
     "data": {
      "text/plain": [
       "array([[ 7.9551105],\n",
       "       [20.9462   ],\n",
       "       [21.765041 ],\n",
       "       [28.67677  ],\n",
       "       [24.86043  ],\n",
       "       [21.864023 ],\n",
       "       [29.445965 ],\n",
       "       [24.189325 ],\n",
       "       [18.048115 ],\n",
       "       [22.248457 ],\n",
       "       [19.61221  ],\n",
       "       [19.096956 ],\n",
       "       [17.985584 ],\n",
       "       [35.989048 ],\n",
       "       [16.140892 ],\n",
       "       [20.739565 ],\n",
       "       [25.038057 ],\n",
       "       [23.563654 ],\n",
       "       [19.30146  ],\n",
       "       [22.256563 ],\n",
       "       [ 9.28045  ],\n",
       "       [13.057875 ],\n",
       "       [21.697233 ],\n",
       "       [13.739347 ],\n",
       "       [21.195911 ],\n",
       "       [22.258532 ],\n",
       "       [29.257002 ],\n",
       "       [24.958378 ],\n",
       "       [12.3306   ],\n",
       "       [21.532213 ],\n",
       "       [23.988646 ],\n",
       "       [16.675312 ],\n",
       "       [31.221638 ],\n",
       "       [23.733433 ],\n",
       "       [16.82684  ],\n",
       "       [ 3.946661 ],\n",
       "       [17.173906 ],\n",
       "       [21.157522 ],\n",
       "       [19.218122 ],\n",
       "       [27.01812  ],\n",
       "       [25.226852 ],\n",
       "       [28.150946 ],\n",
       "       [18.224781 ],\n",
       "       [35.699707 ],\n",
       "       [29.361515 ],\n",
       "       [23.655252 ],\n",
       "       [28.489576 ],\n",
       "       [18.749653 ],\n",
       "       [23.797071 ],\n",
       "       [23.94856  ],\n",
       "       [30.181015 ],\n",
       "       [18.191057 ],\n",
       "       [ 9.221148 ],\n",
       "       [15.03522  ],\n",
       "       [33.689117 ],\n",
       "       [27.507235 ],\n",
       "       [17.499695 ],\n",
       "       [40.332832 ],\n",
       "       [31.910854 ],\n",
       "       [24.730183 ],\n",
       "       [25.971436 ],\n",
       "       [20.642586 ],\n",
       "       [17.523197 ],\n",
       "       [22.376951 ],\n",
       "       [25.214596 ],\n",
       "       [23.394573 ],\n",
       "       [18.038532 ],\n",
       "       [25.157867 ],\n",
       "       [ 6.397423 ],\n",
       "       [10.372367 ],\n",
       "       [23.05142  ],\n",
       "       [26.909983 ],\n",
       "       [21.607674 ],\n",
       "       [11.001486 ],\n",
       "       [27.354996 ],\n",
       "       [21.501503 ],\n",
       "       [21.11805  ],\n",
       "       [24.916063 ],\n",
       "       [32.414787 ],\n",
       "       [ 5.3717766],\n",
       "       [23.169304 ],\n",
       "       [36.742626 ],\n",
       "       [16.208012 ],\n",
       "       [19.243866 ],\n",
       "       [20.488384 ],\n",
       "       [19.619175 ],\n",
       "       [20.035366 ],\n",
       "       [21.1144   ],\n",
       "       [24.867813 ],\n",
       "       [27.77915  ],\n",
       "       [17.588387 ],\n",
       "       [19.289253 ],\n",
       "       [26.62107  ],\n",
       "       [33.125275 ],\n",
       "       [32.677197 ],\n",
       "       [23.520536 ],\n",
       "       [35.63342  ],\n",
       "       [38.399246 ],\n",
       "       [25.492737 ],\n",
       "       [37.959484 ],\n",
       "       [30.046211 ],\n",
       "       [23.221914 ]], dtype=float32)"
      ]
     },
     "execution_count": 94,
     "metadata": {},
     "output_type": "execute_result"
    }
   ],
   "source": [
    "model.predict(test_data)"
   ]
  },
  {
   "cell_type": "code",
   "execution_count": null,
   "id": "82dc6bb5",
   "metadata": {},
   "outputs": [],
   "source": []
  }
 ],
 "metadata": {
  "kernelspec": {
   "display_name": "Python 3",
   "language": "python",
   "name": "python3"
  },
  "language_info": {
   "codemirror_mode": {
    "name": "ipython",
    "version": 3
   },
   "file_extension": ".py",
   "mimetype": "text/x-python",
   "name": "python",
   "nbconvert_exporter": "python",
   "pygments_lexer": "ipython3",
   "version": "3.8.8"
  },
  "toc": {
   "base_numbering": 1,
   "nav_menu": {},
   "number_sections": true,
   "sideBar": true,
   "skip_h1_title": false,
   "title_cell": "Table of Contents",
   "title_sidebar": "Contents",
   "toc_cell": false,
   "toc_position": {
    "height": "calc(100% - 180px)",
    "left": "10px",
    "top": "150px",
    "width": "307.2px"
   },
   "toc_section_display": true,
   "toc_window_display": false
  },
  "varInspector": {
   "cols": {
    "lenName": 16,
    "lenType": 16,
    "lenVar": 40
   },
   "kernels_config": {
    "python": {
     "delete_cmd_postfix": "",
     "delete_cmd_prefix": "del ",
     "library": "var_list.py",
     "varRefreshCmd": "print(var_dic_list())"
    },
    "r": {
     "delete_cmd_postfix": ") ",
     "delete_cmd_prefix": "rm(",
     "library": "var_list.r",
     "varRefreshCmd": "cat(var_dic_list()) "
    }
   },
   "types_to_exclude": [
    "module",
    "function",
    "builtin_function_or_method",
    "instance",
    "_Feature"
   ],
   "window_display": false
  }
 },
 "nbformat": 4,
 "nbformat_minor": 5
}
